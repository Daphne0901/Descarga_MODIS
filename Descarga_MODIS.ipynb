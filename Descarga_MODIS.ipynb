{
  "nbformat": 4,
  "nbformat_minor": 0,
  "metadata": {
    "colab": {
      "provenance": []
    },
    "kernelspec": {
      "name": "python3",
      "display_name": "Python 3"
    },
    "language_info": {
      "name": "python"
    }
  },
  "cells": [
    {
      "cell_type": "markdown",
      "source": [
        "# Importando archivos y librerias"
      ],
      "metadata": {
        "id": "RmqqXEtQWw_o"
      }
    },
    {
      "cell_type": "code",
      "source": [
        "# Importar el entorno de dirve\n",
        "from google.colab import drive\n",
        "drive.mount(\"/content/drive\")"
      ],
      "metadata": {
        "id": "x5z9jW9cW1mu",
        "colab": {
          "base_uri": "https://localhost:8080/"
        },
        "outputId": "3687a2ca-6181-42ec-db01-8c2642a4dff8"
      },
      "execution_count": 118,
      "outputs": [
        {
          "output_type": "stream",
          "name": "stdout",
          "text": [
            "Drive already mounted at /content/drive; to attempt to forcibly remount, call drive.mount(\"/content/drive\", force_remount=True).\n"
          ]
        }
      ]
    },
    {
      "cell_type": "code",
      "source": [
        "!pip install pyhdf\n",
        "!pip install basemap"
      ],
      "metadata": {
        "colab": {
          "base_uri": "https://localhost:8080/",
          "height": 752
        },
        "id": "ooXkqYe3Ucam",
        "outputId": "5020563e-4234-45ca-fe4f-9a0daa7ac116"
      },
      "execution_count": 2,
      "outputs": [
        {
          "output_type": "stream",
          "name": "stdout",
          "text": [
            "Collecting pyhdf\n",
            "  Downloading pyhdf-0.11.3-cp310-cp310-manylinux_2_17_x86_64.manylinux2014_x86_64.whl (771 kB)\n",
            "\u001b[?25l     \u001b[90m━━━━━━━━━━━━━━━━━━━━━━━━━━━━━━━━━━━━━━━━\u001b[0m \u001b[32m0.0/771.4 kB\u001b[0m \u001b[31m?\u001b[0m eta \u001b[36m-:--:--\u001b[0m\r\u001b[2K     \u001b[91m━━━━━━━━━━━━━━━━━━━━━━━━━━━━\u001b[0m\u001b[90m╺\u001b[0m\u001b[90m━━━━━━━━━\u001b[0m \u001b[32m573.4/771.4 kB\u001b[0m \u001b[31m18.8 MB/s\u001b[0m eta \u001b[36m0:00:01\u001b[0m\r\u001b[2K     \u001b[90m━━━━━━━━━━━━━━━━━━━━━━━━━━━━━━━━━━━━━━\u001b[0m \u001b[32m771.4/771.4 kB\u001b[0m \u001b[31m15.7 MB/s\u001b[0m eta \u001b[36m0:00:00\u001b[0m\n",
            "\u001b[?25hInstalling collected packages: pyhdf\n",
            "Successfully installed pyhdf-0.11.3\n",
            "Collecting basemap\n",
            "  Downloading basemap-1.3.7-cp310-cp310-manylinux1_x86_64.whl (860 kB)\n",
            "\u001b[2K     \u001b[90m━━━━━━━━━━━━━━━━━━━━━━━━━━━━━━━━━━━━━━\u001b[0m \u001b[32m860.6/860.6 kB\u001b[0m \u001b[31m16.9 MB/s\u001b[0m eta \u001b[36m0:00:00\u001b[0m\n",
            "\u001b[?25hCollecting basemap-data<1.4,>=1.3.2 (from basemap)\n",
            "  Downloading basemap_data-1.3.2-py2.py3-none-any.whl (30.5 MB)\n",
            "\u001b[2K     \u001b[90m━━━━━━━━━━━━━━━━━━━━━━━━━━━━━━━━━━━━━━━━\u001b[0m \u001b[32m30.5/30.5 MB\u001b[0m \u001b[31m26.7 MB/s\u001b[0m eta \u001b[36m0:00:00\u001b[0m\n",
            "\u001b[?25hCollecting pyshp<2.4,>=1.2 (from basemap)\n",
            "  Downloading pyshp-2.3.1-py2.py3-none-any.whl (46 kB)\n",
            "\u001b[2K     \u001b[90m━━━━━━━━━━━━━━━━━━━━━━━━━━━━━━━━━━━━━━━━\u001b[0m \u001b[32m46.5/46.5 kB\u001b[0m \u001b[31m4.7 MB/s\u001b[0m eta \u001b[36m0:00:00\u001b[0m\n",
            "\u001b[?25hRequirement already satisfied: matplotlib<3.8,>=1.5 in /usr/local/lib/python3.10/dist-packages (from basemap) (3.7.1)\n",
            "Collecting pyproj<3.6.0,>=1.9.3 (from basemap)\n",
            "  Downloading pyproj-3.5.0-cp310-cp310-manylinux_2_17_x86_64.manylinux2014_x86_64.whl (7.7 MB)\n",
            "\u001b[2K     \u001b[90m━━━━━━━━━━━━━━━━━━━━━━━━━━━━━━━━━━━━━━━━\u001b[0m \u001b[32m7.7/7.7 MB\u001b[0m \u001b[31m62.5 MB/s\u001b[0m eta \u001b[36m0:00:00\u001b[0m\n",
            "\u001b[?25hRequirement already satisfied: numpy<1.25,>=1.22 in /usr/local/lib/python3.10/dist-packages (from basemap) (1.22.4)\n",
            "Requirement already satisfied: contourpy>=1.0.1 in /usr/local/lib/python3.10/dist-packages (from matplotlib<3.8,>=1.5->basemap) (1.1.0)\n",
            "Requirement already satisfied: cycler>=0.10 in /usr/local/lib/python3.10/dist-packages (from matplotlib<3.8,>=1.5->basemap) (0.11.0)\n",
            "Requirement already satisfied: fonttools>=4.22.0 in /usr/local/lib/python3.10/dist-packages (from matplotlib<3.8,>=1.5->basemap) (4.40.0)\n",
            "Requirement already satisfied: kiwisolver>=1.0.1 in /usr/local/lib/python3.10/dist-packages (from matplotlib<3.8,>=1.5->basemap) (1.4.4)\n",
            "Requirement already satisfied: packaging>=20.0 in /usr/local/lib/python3.10/dist-packages (from matplotlib<3.8,>=1.5->basemap) (23.1)\n",
            "Requirement already satisfied: pillow>=6.2.0 in /usr/local/lib/python3.10/dist-packages (from matplotlib<3.8,>=1.5->basemap) (8.4.0)\n",
            "Requirement already satisfied: pyparsing>=2.3.1 in /usr/local/lib/python3.10/dist-packages (from matplotlib<3.8,>=1.5->basemap) (3.1.0)\n",
            "Requirement already satisfied: python-dateutil>=2.7 in /usr/local/lib/python3.10/dist-packages (from matplotlib<3.8,>=1.5->basemap) (2.8.2)\n",
            "Requirement already satisfied: certifi in /usr/local/lib/python3.10/dist-packages (from pyproj<3.6.0,>=1.9.3->basemap) (2023.5.7)\n",
            "Requirement already satisfied: six>=1.5 in /usr/local/lib/python3.10/dist-packages (from python-dateutil>=2.7->matplotlib<3.8,>=1.5->basemap) (1.16.0)\n",
            "Installing collected packages: pyshp, pyproj, basemap-data, basemap\n",
            "  Attempting uninstall: pyproj\n",
            "    Found existing installation: pyproj 3.6.0\n",
            "    Uninstalling pyproj-3.6.0:\n",
            "      Successfully uninstalled pyproj-3.6.0\n",
            "Successfully installed basemap-1.3.7 basemap-data-1.3.2 pyproj-3.5.0 pyshp-2.3.1\n"
          ]
        },
        {
          "output_type": "display_data",
          "data": {
            "application/vnd.colab-display-data+json": {
              "pip_warning": {
                "packages": [
                  "mpl_toolkits"
                ]
              }
            }
          },
          "metadata": {}
        }
      ]
    },
    {
      "cell_type": "code",
      "source": [
        "# Importar librerias\n",
        "from pyhdf import SD # Para importar y leer archivos hdf\n",
        "from mpl_toolkits.basemap import Basemap, cm # Graficos de mapas\n",
        "import pandas as pd\n",
        "import numpy as np\n",
        "import matplotlib.pyplot as plt\n",
        "import seaborn as sns\n",
        "import glob as glb"
      ],
      "metadata": {
        "id": "j21Zqux8U3rm"
      },
      "execution_count": 4,
      "outputs": []
    },
    {
      "cell_type": "code",
      "source": [
        "%cd /content/drive/MyDrive/MODIS/Instrumental"
      ],
      "metadata": {
        "colab": {
          "base_uri": "https://localhost:8080/"
        },
        "id": "dI9nzpe7L56K",
        "outputId": "c1219a6a-4c25-4287-9dc9-b51b8065cc9e"
      },
      "execution_count": 161,
      "outputs": [
        {
          "output_type": "stream",
          "name": "stdout",
          "text": [
            "/content/drive/MyDrive/MODIS/Instrumental\n"
          ]
        }
      ]
    },
    {
      "cell_type": "code",
      "source": [
        "files = sorted(glb.glob(\"*hdf\"))\n",
        "files"
      ],
      "metadata": {
        "colab": {
          "base_uri": "https://localhost:8080/"
        },
        "id": "dk6wpXWbLrPk",
        "outputId": "48c498f9-5d22-4e45-9896-e30ee3b6d38c"
      },
      "execution_count": 162,
      "outputs": [
        {
          "output_type": "execute_result",
          "data": {
            "text/plain": [
              "['MOD07_L2.A2023174.1235.061.2023175012001.hdf',\n",
              " 'MOD07_L2.A2023175.1315.061.2023176012248.hdf',\n",
              " 'MOD07_L2.A2023177.1305.061.2023178022855.hdf',\n",
              " 'MOD07_L2.A2023179.1245.061.2023180012013.hdf']"
            ]
          },
          "metadata": {},
          "execution_count": 162
        }
      ]
    },
    {
      "cell_type": "code",
      "source": [
        "hdf_23_junio = SD.SD(files[0])\n",
        "hdf_24_junio = SD.SD(files[1])\n",
        "hdf_26_junio = SD.SD(files[2])\n",
        "hdf_28_junio = SD.SD(files[3])"
      ],
      "metadata": {
        "id": "aIt71f06MCLR"
      },
      "execution_count": 163,
      "outputs": []
    },
    {
      "cell_type": "markdown",
      "source": [
        "# 23 de junio 12:35"
      ],
      "metadata": {
        "id": "fv6ZYCiKMosm"
      }
    },
    {
      "cell_type": "code",
      "source": [
        "latitud23= hdf_23_junio.select('Latitude')[:]\n",
        "latitud23"
      ],
      "metadata": {
        "colab": {
          "base_uri": "https://localhost:8080/"
        },
        "id": "cHN0U8ZAO2Sp",
        "outputId": "c1b00744-9aae-4790-d908-884b2e95562d"
      },
      "execution_count": 50,
      "outputs": [
        {
          "output_type": "execute_result",
          "data": {
            "text/plain": [
              "array([[  5.8034053,   5.7763906,   5.750289 , ...,   2.959344 ,\n",
              "          2.930564 ,   2.9007103],\n",
              "       [  5.714916 ,   5.68923  ,   5.664402 , ...,   2.875057 ,\n",
              "          2.8450675,   2.8139539],\n",
              "       [  5.714928 ,   5.6878667,   5.661721 , ...,   2.8711286,\n",
              "          2.8424015,   2.8126035],\n",
              "       ...,\n",
              "       [-11.926713 , -11.964675 , -12.001152 , ..., -14.88549  ,\n",
              "        -14.906103 , -14.92729  ],\n",
              "       [-11.925639 , -11.964984 , -12.002785 , ..., -14.888481 ,\n",
              "        -14.907811 , -14.92766  ],\n",
              "       [-12.013706 , -12.051746 , -12.088302 , ..., -14.97386  ,\n",
              "        -14.99443  , -15.015572 ]], dtype=float32)"
            ]
          },
          "metadata": {},
          "execution_count": 50
        }
      ]
    },
    {
      "cell_type": "code",
      "source": [
        "longitud23 = hdf_23_junio.select('Longitude')[:]\n",
        "longitud23"
      ],
      "metadata": {
        "colab": {
          "base_uri": "https://localhost:8080/"
        },
        "id": "d6WYaVi6XMlg",
        "outputId": "23a22a79-10ac-42ed-d35f-446d837457bb"
      },
      "execution_count": 51,
      "outputs": [
        {
          "output_type": "execute_result",
          "data": {
            "text/plain": [
              "array([[-47.0149  , -46.80915 , -46.61091 , ..., -27.227184, -27.037308,\n",
              "        -26.84053 ],\n",
              "       [-47.02563 , -46.819763, -46.621403, ..., -27.240013, -27.050335,\n",
              "        -26.853764],\n",
              "       [-47.031357, -46.825687, -46.62752 , ..., -27.245565, -27.055687,\n",
              "        -26.858902],\n",
              "       ...,\n",
              "       [-51.06602 , -50.85742 , -50.656162, ..., -30.672398, -30.473206,\n",
              "        -30.26666 ],\n",
              "       [-51.07361 , -50.865227, -50.664196, ..., -30.680016, -30.480705,\n",
              "        -30.274042],\n",
              "       [-51.0903  , -50.8816  , -50.68022 , ..., -30.688667, -30.489393,\n",
              "        -30.282766]], dtype=float32)"
            ]
          },
          "metadata": {},
          "execution_count": 51
        }
      ]
    },
    {
      "cell_type": "code",
      "source": [
        "# Definiendo coordenadas\n",
        "lat_obs = -18.87\n",
        "long_obs = -48.22"
      ],
      "metadata": {
        "id": "SOnPXSJqiSZW"
      },
      "execution_count": 59,
      "outputs": []
    },
    {
      "cell_type": "code",
      "source": [
        "hdf_23_junio.info()"
      ],
      "metadata": {
        "colab": {
          "base_uri": "https://localhost:8080/"
        },
        "id": "1OADwYovMnao",
        "outputId": "6e5a707c-776f-4c9e-ab62-0e723230c8c8"
      },
      "execution_count": 10,
      "outputs": [
        {
          "output_type": "execute_result",
          "data": {
            "text/plain": [
              "(30, 10)"
            ]
          },
          "metadata": {},
          "execution_count": 10
        }
      ]
    },
    {
      "cell_type": "code",
      "source": [
        "datasets = hdf_23_junio.datasets()\n",
        "datasets.keys()"
      ],
      "metadata": {
        "colab": {
          "base_uri": "https://localhost:8080/"
        },
        "id": "9bUMUnFTadB_",
        "outputId": "d9df686d-ec56-4e40-c0f8-eda2753795cb"
      },
      "execution_count": 49,
      "outputs": [
        {
          "output_type": "execute_result",
          "data": {
            "text/plain": [
              "dict_keys(['Latitude', 'Longitude', 'Scan_Start_Time', 'Solar_Zenith', 'Solar_Azimuth', 'Sensor_Zenith', 'Sensor_Azimuth', 'Brightness_Temperature', 'Cloud_Mask', 'Skin_Temperature', 'Surface_Pressure', 'Surface_Elevation', 'Processing_Flag', 'Tropopause_Height', 'Guess_Temperature_Profile', 'Guess_Moisture_Profile', 'Retrieved_Temperature_Profile', 'Retrieved_Moisture_Profile', 'Retrieved_WV_Mixing_Ratio_Profile', 'Retrieved_Height_Profile', 'Total_Ozone', 'Total_Totals', 'Lifted_Index', 'K_Index', 'Water_Vapor', 'Water_Vapor_Direct', 'Water_Vapor_Low', 'Water_Vapor_High', 'Quality_Assurance', 'Quality_Assurance_Infrared'])"
            ]
          },
          "metadata": {},
          "execution_count": 49
        }
      ]
    },
    {
      "cell_type": "markdown",
      "source": [
        "## Temperatura"
      ],
      "metadata": {
        "id": "6Tmi_chQP2F3"
      }
    },
    {
      "cell_type": "code",
      "source": [
        "variable_temp = 'Retrieved_Temperature_Profile'\n",
        "sds_temp_23_junio = hdf_23_junio.select(variable_temp)"
      ],
      "metadata": {
        "id": "GDBXRlBybu2k"
      },
      "execution_count": 52,
      "outputs": []
    },
    {
      "cell_type": "code",
      "source": [
        "attrs_temp23 = sds_temp_23_junio.attributes()\n",
        "attrs_temp23"
      ],
      "metadata": {
        "colab": {
          "base_uri": "https://localhost:8080/"
        },
        "id": "FU05xiTBNqWR",
        "outputId": "4640786b-f669-4e81-cc40-468abfb4d982"
      },
      "execution_count": 55,
      "outputs": [
        {
          "output_type": "execute_result",
          "data": {
            "text/plain": [
              "{'valid_range': [0, 20000],\n",
              " '_FillValue': -32768,\n",
              " 'long_name': 'Retrieved Temperature Profile',\n",
              " 'units': 'K',\n",
              " 'scale_factor': 0.009999999776482582,\n",
              " 'add_offset': -15000.0,\n",
              " 'Parameter_Type': 'MODIS Ouput',\n",
              " 'Cell_Along_Swath_Sampling': [3, 2028, 5],\n",
              " 'Cell_Across_Swath_Sampling': [3, 1348, 5],\n",
              " 'Geolocation_Pointer': 'Internal geolocation arrays'}"
            ]
          },
          "metadata": {},
          "execution_count": 55
        }
      ]
    },
    {
      "cell_type": "code",
      "source": [
        "scale_factor =  attrs_temp23['scale_factor']\n",
        "add_offset = attrs_temp23['add_offset']\n",
        "FillValue = attrs_temp23['_FillValue']"
      ],
      "metadata": {
        "id": "ibnlC6tReo0O"
      },
      "execution_count": 56,
      "outputs": []
    },
    {
      "cell_type": "code",
      "source": [
        "data_temp_23 = sds_temp_23_junio.get()\n",
        "data_temp_23"
      ],
      "metadata": {
        "colab": {
          "base_uri": "https://localhost:8080/"
        },
        "id": "CPc32tbMN-dd",
        "outputId": "178b5d92-50b4-4bb5-c1c5-ad900b1908b6"
      },
      "execution_count": 53,
      "outputs": [
        {
          "output_type": "execute_result",
          "data": {
            "text/plain": [
              "array([[[-32768, -32768,   8743, ...,   8961,   8881,   8994],\n",
              "        [-32768, -32768, -32768, ...,   8922, -32768, -32768],\n",
              "        [-32768, -32768,   8693, ...,   8867,   8968,   9097],\n",
              "        ...,\n",
              "        [-32768, -32768,   9353, ..., -32768, -32768,   9011],\n",
              "        [-32768, -32768,   9302, ...,   8823, -32768,   8993],\n",
              "        [-32768, -32768, -32768, ..., -32768, -32768, -32768]],\n",
              "\n",
              "       [[-32768, -32768,   7997, ...,   8165,   8079,   8199],\n",
              "        [-32768, -32768, -32768, ...,   8118, -32768, -32768],\n",
              "        [-32768, -32768,   7953, ...,   8088,   8152,   8248],\n",
              "        ...,\n",
              "        [-32768, -32768,   8189, ..., -32768, -32768,   8219],\n",
              "        [-32768, -32768,   8127, ...,   8042, -32768,   8159],\n",
              "        [-32768, -32768, -32768, ..., -32768, -32768, -32768]],\n",
              "\n",
              "       [[-32768, -32768,   7268, ...,   7415,   7352,   7449],\n",
              "        [-32768, -32768, -32768, ...,   7366, -32768, -32768],\n",
              "        [-32768, -32768,   7233, ...,   7352,   7401,   7449],\n",
              "        ...,\n",
              "        [-32768, -32768,   7318, ..., -32768, -32768,   7545],\n",
              "        [-32768, -32768,   7272, ...,   7377, -32768,   7460],\n",
              "        [-32768, -32768, -32768, ..., -32768, -32768, -32768]],\n",
              "\n",
              "       ...,\n",
              "\n",
              "       [[-32768, -32768,  13925, ...,  13915,  13881,  13889],\n",
              "        [-32768, -32768, -32768, ...,  13878, -32768, -32768],\n",
              "        [-32768, -32768,  13880, ...,  13852,  13844,  13907],\n",
              "        ...,\n",
              "        [-32768, -32768,  13909, ..., -32768, -32768,  13706],\n",
              "        [-32768, -32768,  13848, ...,  13601, -32768,  13743],\n",
              "        [-32768, -32768, -32768, ..., -32768, -32768, -32768]],\n",
              "\n",
              "       [[-32768, -32768,  14240, ...,  14204,  14172,  14183],\n",
              "        [-32768, -32768, -32768, ...,  14168, -32768, -32768],\n",
              "        [-32768, -32768,  14216, ...,  14152,  14150,  14193],\n",
              "        ...,\n",
              "        [-32768, -32768,  14112, ..., -32768, -32768,  13998],\n",
              "        [-32768, -32768,  14052, ...,  13915, -32768,  14023],\n",
              "        [-32768, -32768, -32768, ..., -32768, -32768, -32768]],\n",
              "\n",
              "       [[-32768, -32768,  14959, ...,  14848,  14835,  14828],\n",
              "        [-32768, -32768, -32768, ...,  14809, -32768, -32768],\n",
              "        [-32768, -32768,  14989, ...,  14818,  14842,  14806],\n",
              "        ...,\n",
              "        [-32768, -32768, -32768, ..., -32768, -32768,  14670],\n",
              "        [-32768, -32768, -32768, ...,  14638, -32768,  14673],\n",
              "        [-32768, -32768, -32768, ..., -32768, -32768, -32768]]],\n",
              "      dtype=int16)"
            ]
          },
          "metadata": {},
          "execution_count": 53
        }
      ]
    },
    {
      "cell_type": "code",
      "source": [
        "data_temp_23 = data_temp_23.astype(float)\n",
        "data_temp_23[data_temp_23 == FillValue] = np.NaN\n",
        "data_temp_23"
      ],
      "metadata": {
        "colab": {
          "base_uri": "https://localhost:8080/"
        },
        "id": "jHzOXcoGOYAt",
        "outputId": "70600863-76ff-4b1f-997e-08353295e470"
      },
      "execution_count": 57,
      "outputs": [
        {
          "output_type": "execute_result",
          "data": {
            "text/plain": [
              "array([[[   nan,    nan,  8743., ...,  8961.,  8881.,  8994.],\n",
              "        [   nan,    nan,    nan, ...,  8922.,    nan,    nan],\n",
              "        [   nan,    nan,  8693., ...,  8867.,  8968.,  9097.],\n",
              "        ...,\n",
              "        [   nan,    nan,  9353., ...,    nan,    nan,  9011.],\n",
              "        [   nan,    nan,  9302., ...,  8823.,    nan,  8993.],\n",
              "        [   nan,    nan,    nan, ...,    nan,    nan,    nan]],\n",
              "\n",
              "       [[   nan,    nan,  7997., ...,  8165.,  8079.,  8199.],\n",
              "        [   nan,    nan,    nan, ...,  8118.,    nan,    nan],\n",
              "        [   nan,    nan,  7953., ...,  8088.,  8152.,  8248.],\n",
              "        ...,\n",
              "        [   nan,    nan,  8189., ...,    nan,    nan,  8219.],\n",
              "        [   nan,    nan,  8127., ...,  8042.,    nan,  8159.],\n",
              "        [   nan,    nan,    nan, ...,    nan,    nan,    nan]],\n",
              "\n",
              "       [[   nan,    nan,  7268., ...,  7415.,  7352.,  7449.],\n",
              "        [   nan,    nan,    nan, ...,  7366.,    nan,    nan],\n",
              "        [   nan,    nan,  7233., ...,  7352.,  7401.,  7449.],\n",
              "        ...,\n",
              "        [   nan,    nan,  7318., ...,    nan,    nan,  7545.],\n",
              "        [   nan,    nan,  7272., ...,  7377.,    nan,  7460.],\n",
              "        [   nan,    nan,    nan, ...,    nan,    nan,    nan]],\n",
              "\n",
              "       ...,\n",
              "\n",
              "       [[   nan,    nan, 13925., ..., 13915., 13881., 13889.],\n",
              "        [   nan,    nan,    nan, ..., 13878.,    nan,    nan],\n",
              "        [   nan,    nan, 13880., ..., 13852., 13844., 13907.],\n",
              "        ...,\n",
              "        [   nan,    nan, 13909., ...,    nan,    nan, 13706.],\n",
              "        [   nan,    nan, 13848., ..., 13601.,    nan, 13743.],\n",
              "        [   nan,    nan,    nan, ...,    nan,    nan,    nan]],\n",
              "\n",
              "       [[   nan,    nan, 14240., ..., 14204., 14172., 14183.],\n",
              "        [   nan,    nan,    nan, ..., 14168.,    nan,    nan],\n",
              "        [   nan,    nan, 14216., ..., 14152., 14150., 14193.],\n",
              "        ...,\n",
              "        [   nan,    nan, 14112., ...,    nan,    nan, 13998.],\n",
              "        [   nan,    nan, 14052., ..., 13915.,    nan, 14023.],\n",
              "        [   nan,    nan,    nan, ...,    nan,    nan,    nan]],\n",
              "\n",
              "       [[   nan,    nan, 14959., ..., 14848., 14835., 14828.],\n",
              "        [   nan,    nan,    nan, ..., 14809.,    nan,    nan],\n",
              "        [   nan,    nan, 14989., ..., 14818., 14842., 14806.],\n",
              "        ...,\n",
              "        [   nan,    nan,    nan, ...,    nan,    nan, 14670.],\n",
              "        [   nan,    nan,    nan, ..., 14638.,    nan, 14673.],\n",
              "        [   nan,    nan,    nan, ...,    nan,    nan,    nan]]])"
            ]
          },
          "metadata": {},
          "execution_count": 57
        }
      ]
    },
    {
      "cell_type": "code",
      "source": [
        "temp_celsius_23 = (scale_factor*(data_temp_23-add_offset)) -273.15\n",
        "temp_celsius_23"
      ],
      "metadata": {
        "colab": {
          "base_uri": "https://localhost:8080/"
        },
        "id": "R-xKQtW7Ojn7",
        "outputId": "6ab5b378-5d1e-456d-df1d-0e68eff32c25"
      },
      "execution_count": 58,
      "outputs": [
        {
          "output_type": "execute_result",
          "data": {
            "text/plain": [
              "array([[[         nan,          nan, -35.72000531, ..., -33.54000536,\n",
              "         -34.34000534, -33.21000536],\n",
              "        [         nan,          nan,          nan, ..., -33.93000535,\n",
              "                  nan,          nan],\n",
              "        [         nan,          nan, -36.2200053 , ..., -34.48000533,\n",
              "         -33.47000536, -32.18000539],\n",
              "        ...,\n",
              "        [         nan,          nan, -29.62000544, ...,          nan,\n",
              "                  nan, -33.04000537],\n",
              "        [         nan,          nan, -30.13000543, ..., -34.92000532,\n",
              "                  nan, -33.22000536],\n",
              "        [         nan,          nan,          nan, ...,          nan,\n",
              "                  nan,          nan]],\n",
              "\n",
              "       [[         nan,          nan, -43.18000514, ..., -41.50000518,\n",
              "         -42.36000516, -41.16000519],\n",
              "        [         nan,          nan,          nan, ..., -41.97000517,\n",
              "                  nan,          nan],\n",
              "        [         nan,          nan, -43.62000513, ..., -42.27000516,\n",
              "         -41.63000517, -40.6700052 ],\n",
              "        ...,\n",
              "        [         nan,          nan, -41.26000518, ...,          nan,\n",
              "                  nan, -40.96000519],\n",
              "        [         nan,          nan, -41.88000517, ..., -42.73000515,\n",
              "                  nan, -41.56000518],\n",
              "        [         nan,          nan,          nan, ...,          nan,\n",
              "                  nan,          nan]],\n",
              "\n",
              "       [[         nan,          nan, -50.47000498, ..., -49.00000501,\n",
              "         -49.630005  , -48.66000502],\n",
              "        [         nan,          nan,          nan, ..., -49.490005  ,\n",
              "                  nan,          nan],\n",
              "        [         nan,          nan, -50.82000497, ..., -49.630005  ,\n",
              "         -49.14000501, -48.66000502],\n",
              "        ...,\n",
              "        [         nan,          nan, -49.97000499, ...,          nan,\n",
              "                  nan, -47.70000504],\n",
              "        [         nan,          nan, -50.43000498, ..., -49.380005  ,\n",
              "                  nan, -48.55000502],\n",
              "        [         nan,          nan,          nan, ...,          nan,\n",
              "                  nan,          nan]],\n",
              "\n",
              "       ...,\n",
              "\n",
              "       [[         nan,          nan,  16.09999353, ...,  15.99999354,\n",
              "          15.65999354,  15.73999354],\n",
              "        [         nan,          nan,          nan, ...,  15.62999355,\n",
              "                  nan,          nan],\n",
              "        [         nan,          nan,  15.64999354, ...,  15.36999355,\n",
              "          15.28999355,  15.91999354],\n",
              "        ...,\n",
              "        [         nan,          nan,  15.93999354, ...,          nan,\n",
              "                  nan,  13.90999358],\n",
              "        [         nan,          nan,  15.32999355, ...,  12.85999361,\n",
              "                  nan,  14.27999358],\n",
              "        [         nan,          nan,          nan, ...,          nan,\n",
              "                  nan,          nan]],\n",
              "\n",
              "       [[         nan,          nan,  19.24999346, ...,  18.88999347,\n",
              "          18.56999348,  18.67999348],\n",
              "        [         nan,          nan,          nan, ...,  18.52999348,\n",
              "                  nan,          nan],\n",
              "        [         nan,          nan,  19.00999347, ...,  18.36999348,\n",
              "          18.34999348,  18.77999347],\n",
              "        ...,\n",
              "        [         nan,          nan,  17.96999349, ...,          nan,\n",
              "                  nan,  16.82999352],\n",
              "        [         nan,          nan,  17.36999351, ...,  15.99999354,\n",
              "                  nan,  17.07999351],\n",
              "        [         nan,          nan,          nan, ...,          nan,\n",
              "                  nan,          nan]],\n",
              "\n",
              "       [[         nan,          nan,  26.4399933 , ...,  25.32999333,\n",
              "          25.19999333,  25.12999333],\n",
              "        [         nan,          nan,          nan, ...,  24.93999334,\n",
              "                  nan,          nan],\n",
              "        [         nan,          nan,  26.7399933 , ...,  25.02999334,\n",
              "          25.26999333,  24.90999334],\n",
              "        ...,\n",
              "        [         nan,          nan,          nan, ...,          nan,\n",
              "                  nan,  23.54999337],\n",
              "        [         nan,          nan,          nan, ...,  23.22999338,\n",
              "                  nan,  23.57999337],\n",
              "        [         nan,          nan,          nan, ...,          nan,\n",
              "                  nan,          nan]]])"
            ]
          },
          "metadata": {},
          "execution_count": 58
        }
      ]
    },
    {
      "cell_type": "code",
      "source": [
        "coordenadas = np.unravel_index((np.abs(latitud23 - lat_obs) + np.abs(longitud23 - long_obs)).argmin(),longitud23.shape)\n",
        "coordenadas"
      ],
      "metadata": {
        "colab": {
          "base_uri": "https://localhost:8080/"
        },
        "id": "4-3eiPA-PM-V",
        "outputId": "1c25899d-d696-4d25-d2cb-90666005ad6b"
      },
      "execution_count": 60,
      "outputs": [
        {
          "output_type": "execute_result",
          "data": {
            "text/plain": [
              "(405, 18)"
            ]
          },
          "metadata": {},
          "execution_count": 60
        }
      ]
    },
    {
      "cell_type": "code",
      "source": [
        "temp23 = temp_celsius_23[:, coordenadas[0],coordenadas[1]]\n",
        "temp23"
      ],
      "metadata": {
        "colab": {
          "base_uri": "https://localhost:8080/"
        },
        "id": "gdP0xg1JPOzz",
        "outputId": "14b37bca-2ddd-4cfb-ff74-659523af1849"
      },
      "execution_count": 85,
      "outputs": [
        {
          "output_type": "execute_result",
          "data": {
            "text/plain": [
              "array([-29.15000545, -41.03000519, -49.78000499, -55.22000487,\n",
              "       -63.49000469, -70.44000453, -73.99000445, -66.10000463,\n",
              "       -55.60000486, -44.32000511, -34.19000534, -18.43000569,\n",
              "        -6.48000596,   3.60999381,   8.20999371,  11.28999364,\n",
              "        12.86999361,  15.65999354,  17.31999351,          nan])"
            ]
          },
          "metadata": {},
          "execution_count": 85
        }
      ]
    },
    {
      "cell_type": "markdown",
      "source": [
        "## Temperatura de rocio"
      ],
      "metadata": {
        "id": "XyHpyoieP9Ie"
      }
    },
    {
      "cell_type": "code",
      "source": [
        "variable_temp_rocio = 'Retrieved_Moisture_Profile'\n",
        "sds_rocio_23_junio = hdf_23_junio.select(variable_temp_rocio)"
      ],
      "metadata": {
        "id": "dB8eLElNP_Ma"
      },
      "execution_count": 67,
      "outputs": []
    },
    {
      "cell_type": "code",
      "source": [
        "data_rocio_23 = sds_rocio_23_junio.get()\n",
        "data_rocio_23"
      ],
      "metadata": {
        "colab": {
          "base_uri": "https://localhost:8080/"
        },
        "id": "Ltlie1cXQERJ",
        "outputId": "7d504514-d616-4c05-a3b7-a58e1081267c"
      },
      "execution_count": 63,
      "outputs": [
        {
          "output_type": "execute_result",
          "data": {
            "text/plain": [
              "array([[[-32768, -32768, -32768, ..., -32768, -32768, -32768],\n",
              "        [-32768, -32768, -32768, ..., -32768, -32768, -32768],\n",
              "        [-32768, -32768, -32768, ..., -32768, -32768, -32768],\n",
              "        ...,\n",
              "        [-32768, -32768, -32768, ..., -32768, -32768, -32768],\n",
              "        [-32768, -32768, -32768, ..., -32768, -32768, -32768],\n",
              "        [-32768, -32768, -32768, ..., -32768, -32768, -32768]],\n",
              "\n",
              "       [[-32768, -32768, -32768, ..., -32768, -32768, -32768],\n",
              "        [-32768, -32768, -32768, ..., -32768, -32768, -32768],\n",
              "        [-32768, -32768, -32768, ..., -32768, -32768, -32768],\n",
              "        ...,\n",
              "        [-32768, -32768, -32768, ..., -32768, -32768, -32768],\n",
              "        [-32768, -32768, -32768, ..., -32768, -32768, -32768],\n",
              "        [-32768, -32768, -32768, ..., -32768, -32768, -32768]],\n",
              "\n",
              "       [[-32768, -32768, -32768, ..., -32768, -32768, -32768],\n",
              "        [-32768, -32768, -32768, ..., -32768, -32768, -32768],\n",
              "        [-32768, -32768, -32768, ..., -32768, -32768, -32768],\n",
              "        ...,\n",
              "        [-32768, -32768, -32768, ..., -32768, -32768, -32768],\n",
              "        [-32768, -32768, -32768, ..., -32768, -32768, -32768],\n",
              "        [-32768, -32768, -32768, ..., -32768, -32768, -32768]],\n",
              "\n",
              "       ...,\n",
              "\n",
              "       [[-32768, -32768,  13924, ...,  13913,  13880,  13888],\n",
              "        [-32768, -32768, -32768, ...,  13876, -32768, -32768],\n",
              "        [-32768, -32768,  13878, ...,  13850,  13842,  13905],\n",
              "        ...,\n",
              "        [-32768, -32768,  13705, ..., -32768, -32768,  13705],\n",
              "        [-32768, -32768,  13731, ...,  13600, -32768,  13741],\n",
              "        [-32768, -32768, -32768, ..., -32768, -32768, -32768]],\n",
              "\n",
              "       [[-32768, -32768,  14239, ...,  14202,  14170,  14182],\n",
              "        [-32768, -32768, -32768, ...,  14166, -32768, -32768],\n",
              "        [-32768, -32768,  14215, ...,  14150,  14148,  14192],\n",
              "        ...,\n",
              "        [-32768, -32768,  13871, ..., -32768, -32768,  13996],\n",
              "        [-32768, -32768,  13894, ...,  13913, -32768,  14021],\n",
              "        [-32768, -32768, -32768, ..., -32768, -32768, -32768]],\n",
              "\n",
              "       [[-32768, -32768,  14701, ...,  14574,  14533,  14542],\n",
              "        [-32768, -32768, -32768, ...,  14502, -32768, -32768],\n",
              "        [-32768, -32768,  14722, ...,  14513,  14521,  14471],\n",
              "        ...,\n",
              "        [-32768, -32768, -32768, ..., -32768, -32768,  14299],\n",
              "        [-32768, -32768, -32768, ...,  14243, -32768,  14264],\n",
              "        [-32768, -32768, -32768, ..., -32768, -32768, -32768]]],\n",
              "      dtype=int16)"
            ]
          },
          "metadata": {},
          "execution_count": 63
        }
      ]
    },
    {
      "cell_type": "code",
      "source": [
        "data_rocio_23 = data_rocio_23.astype(float)\n",
        "data_rocio_23[data_rocio_23 == FillValue] = np.NaN\n",
        "data_rocio_23"
      ],
      "metadata": {
        "colab": {
          "base_uri": "https://localhost:8080/"
        },
        "id": "d3gioP6CQN4G",
        "outputId": "3d4488da-2224-41a7-bb6f-6f1f0a94ea81"
      },
      "execution_count": 64,
      "outputs": [
        {
          "output_type": "execute_result",
          "data": {
            "text/plain": [
              "array([[[   nan,    nan,    nan, ...,    nan,    nan,    nan],\n",
              "        [   nan,    nan,    nan, ...,    nan,    nan,    nan],\n",
              "        [   nan,    nan,    nan, ...,    nan,    nan,    nan],\n",
              "        ...,\n",
              "        [   nan,    nan,    nan, ...,    nan,    nan,    nan],\n",
              "        [   nan,    nan,    nan, ...,    nan,    nan,    nan],\n",
              "        [   nan,    nan,    nan, ...,    nan,    nan,    nan]],\n",
              "\n",
              "       [[   nan,    nan,    nan, ...,    nan,    nan,    nan],\n",
              "        [   nan,    nan,    nan, ...,    nan,    nan,    nan],\n",
              "        [   nan,    nan,    nan, ...,    nan,    nan,    nan],\n",
              "        ...,\n",
              "        [   nan,    nan,    nan, ...,    nan,    nan,    nan],\n",
              "        [   nan,    nan,    nan, ...,    nan,    nan,    nan],\n",
              "        [   nan,    nan,    nan, ...,    nan,    nan,    nan]],\n",
              "\n",
              "       [[   nan,    nan,    nan, ...,    nan,    nan,    nan],\n",
              "        [   nan,    nan,    nan, ...,    nan,    nan,    nan],\n",
              "        [   nan,    nan,    nan, ...,    nan,    nan,    nan],\n",
              "        ...,\n",
              "        [   nan,    nan,    nan, ...,    nan,    nan,    nan],\n",
              "        [   nan,    nan,    nan, ...,    nan,    nan,    nan],\n",
              "        [   nan,    nan,    nan, ...,    nan,    nan,    nan]],\n",
              "\n",
              "       ...,\n",
              "\n",
              "       [[   nan,    nan, 13924., ..., 13913., 13880., 13888.],\n",
              "        [   nan,    nan,    nan, ..., 13876.,    nan,    nan],\n",
              "        [   nan,    nan, 13878., ..., 13850., 13842., 13905.],\n",
              "        ...,\n",
              "        [   nan,    nan, 13705., ...,    nan,    nan, 13705.],\n",
              "        [   nan,    nan, 13731., ..., 13600.,    nan, 13741.],\n",
              "        [   nan,    nan,    nan, ...,    nan,    nan,    nan]],\n",
              "\n",
              "       [[   nan,    nan, 14239., ..., 14202., 14170., 14182.],\n",
              "        [   nan,    nan,    nan, ..., 14166.,    nan,    nan],\n",
              "        [   nan,    nan, 14215., ..., 14150., 14148., 14192.],\n",
              "        ...,\n",
              "        [   nan,    nan, 13871., ...,    nan,    nan, 13996.],\n",
              "        [   nan,    nan, 13894., ..., 13913.,    nan, 14021.],\n",
              "        [   nan,    nan,    nan, ...,    nan,    nan,    nan]],\n",
              "\n",
              "       [[   nan,    nan, 14701., ..., 14574., 14533., 14542.],\n",
              "        [   nan,    nan,    nan, ..., 14502.,    nan,    nan],\n",
              "        [   nan,    nan, 14722., ..., 14513., 14521., 14471.],\n",
              "        ...,\n",
              "        [   nan,    nan,    nan, ...,    nan,    nan, 14299.],\n",
              "        [   nan,    nan,    nan, ..., 14243.,    nan, 14264.],\n",
              "        [   nan,    nan,    nan, ...,    nan,    nan,    nan]]])"
            ]
          },
          "metadata": {},
          "execution_count": 64
        }
      ]
    },
    {
      "cell_type": "code",
      "source": [
        "rocio_celsius_23 = (scale_factor*(data_rocio_23-add_offset)) -273.15\n",
        "rocio_celsius_23"
      ],
      "metadata": {
        "colab": {
          "base_uri": "https://localhost:8080/"
        },
        "id": "XutfUs_ZQk0X",
        "outputId": "c0024988-0098-4453-f58f-1c19c231da02"
      },
      "execution_count": 65,
      "outputs": [
        {
          "output_type": "execute_result",
          "data": {
            "text/plain": [
              "array([[[        nan,         nan,         nan, ...,         nan,\n",
              "                 nan,         nan],\n",
              "        [        nan,         nan,         nan, ...,         nan,\n",
              "                 nan,         nan],\n",
              "        [        nan,         nan,         nan, ...,         nan,\n",
              "                 nan,         nan],\n",
              "        ...,\n",
              "        [        nan,         nan,         nan, ...,         nan,\n",
              "                 nan,         nan],\n",
              "        [        nan,         nan,         nan, ...,         nan,\n",
              "                 nan,         nan],\n",
              "        [        nan,         nan,         nan, ...,         nan,\n",
              "                 nan,         nan]],\n",
              "\n",
              "       [[        nan,         nan,         nan, ...,         nan,\n",
              "                 nan,         nan],\n",
              "        [        nan,         nan,         nan, ...,         nan,\n",
              "                 nan,         nan],\n",
              "        [        nan,         nan,         nan, ...,         nan,\n",
              "                 nan,         nan],\n",
              "        ...,\n",
              "        [        nan,         nan,         nan, ...,         nan,\n",
              "                 nan,         nan],\n",
              "        [        nan,         nan,         nan, ...,         nan,\n",
              "                 nan,         nan],\n",
              "        [        nan,         nan,         nan, ...,         nan,\n",
              "                 nan,         nan]],\n",
              "\n",
              "       [[        nan,         nan,         nan, ...,         nan,\n",
              "                 nan,         nan],\n",
              "        [        nan,         nan,         nan, ...,         nan,\n",
              "                 nan,         nan],\n",
              "        [        nan,         nan,         nan, ...,         nan,\n",
              "                 nan,         nan],\n",
              "        ...,\n",
              "        [        nan,         nan,         nan, ...,         nan,\n",
              "                 nan,         nan],\n",
              "        [        nan,         nan,         nan, ...,         nan,\n",
              "                 nan,         nan],\n",
              "        [        nan,         nan,         nan, ...,         nan,\n",
              "                 nan,         nan]],\n",
              "\n",
              "       ...,\n",
              "\n",
              "       [[        nan,         nan, 16.08999353, ..., 15.97999354,\n",
              "         15.64999354, 15.72999354],\n",
              "        [        nan,         nan,         nan, ..., 15.60999355,\n",
              "                 nan,         nan],\n",
              "        [        nan,         nan, 15.62999355, ..., 15.34999355,\n",
              "         15.26999355, 15.89999354],\n",
              "        ...,\n",
              "        [        nan,         nan, 13.89999358, ...,         nan,\n",
              "                 nan, 13.89999358],\n",
              "        [        nan,         nan, 14.15999358, ..., 12.84999361,\n",
              "                 nan, 14.25999358],\n",
              "        [        nan,         nan,         nan, ...,         nan,\n",
              "                 nan,         nan]],\n",
              "\n",
              "       [[        nan,         nan, 19.23999346, ..., 18.86999347,\n",
              "         18.54999348, 18.66999348],\n",
              "        [        nan,         nan,         nan, ..., 18.50999348,\n",
              "                 nan,         nan],\n",
              "        [        nan,         nan, 18.99999347, ..., 18.34999348,\n",
              "         18.32999348, 18.76999348],\n",
              "        ...,\n",
              "        [        nan,         nan, 15.55999355, ...,         nan,\n",
              "                 nan, 16.80999352],\n",
              "        [        nan,         nan, 15.78999354, ..., 15.97999354,\n",
              "                 nan, 17.05999351],\n",
              "        [        nan,         nan,         nan, ...,         nan,\n",
              "                 nan,         nan]],\n",
              "\n",
              "       [[        nan,         nan, 23.85999336, ..., 22.58999339,\n",
              "         22.1799934 , 22.2699934 ],\n",
              "        [        nan,         nan,         nan, ..., 21.86999341,\n",
              "                 nan,         nan],\n",
              "        [        nan,         nan, 24.06999336, ..., 21.9799934 ,\n",
              "         22.0599934 , 21.55999341],\n",
              "        ...,\n",
              "        [        nan,         nan,         nan, ...,         nan,\n",
              "                 nan, 19.83999345],\n",
              "        [        nan,         nan,         nan, ..., 19.27999346,\n",
              "                 nan, 19.48999346],\n",
              "        [        nan,         nan,         nan, ...,         nan,\n",
              "                 nan,         nan]]])"
            ]
          },
          "metadata": {},
          "execution_count": 65
        }
      ]
    },
    {
      "cell_type": "code",
      "source": [
        "rocio23 = rocio_celsius_23[:, coordenadas[0],coordenadas[1]]\n",
        "rocio23"
      ],
      "metadata": {
        "colab": {
          "base_uri": "https://localhost:8080/"
        },
        "id": "ep5M6elZQxbV",
        "outputId": "d6b061aa-4bb9-4fb6-d74d-d343b7434c24"
      },
      "execution_count": 84,
      "outputs": [
        {
          "output_type": "execute_result",
          "data": {
            "text/plain": [
              "array([         nan,          nan,          nan,          nan,\n",
              "       -90.25000409, -87.26000415, -84.07000423, -78.39000435,\n",
              "       -71.11000452, -63.55000468, -56.27000485, -43.14000514,\n",
              "       -34.05000534, -23.53000558, -14.50000578,  -3.05000604,\n",
              "         6.39999375,  10.88999365,  12.43999362,          nan])"
            ]
          },
          "metadata": {},
          "execution_count": 84
        }
      ]
    },
    {
      "cell_type": "markdown",
      "source": [
        "## Elevacion"
      ],
      "metadata": {
        "id": "ARk3EteGaNBz"
      }
    },
    {
      "cell_type": "code",
      "source": [
        "variable_elev = \"Retrieved_Height_Profile\"\n",
        "sds_elev_23_junio = hdf_23_junio.select(variable_elev)"
      ],
      "metadata": {
        "id": "EpDIJRy3aY5V"
      },
      "execution_count": 77,
      "outputs": []
    },
    {
      "cell_type": "code",
      "source": [
        "attrs_elev23 = sds_elev_23_junio.attributes()\n",
        "attrs_elev23"
      ],
      "metadata": {
        "colab": {
          "base_uri": "https://localhost:8080/"
        },
        "id": "LNg9n3FQasYs",
        "outputId": "b84fe97d-84f9-4f46-9d63-382817a910f0"
      },
      "execution_count": 78,
      "outputs": [
        {
          "output_type": "execute_result",
          "data": {
            "text/plain": [
              "{'valid_range': [-32500, 32500],\n",
              " '_FillValue': -32768,\n",
              " 'long_name': 'Retrieved Geopotential Height Profile',\n",
              " 'units': 'm',\n",
              " 'scale_factor': 1.0,\n",
              " 'add_offset': -32500.0,\n",
              " 'Parameter_Type': 'MODIS Output',\n",
              " 'Cell_Along_Swath_Sampling': [3, 2028, 5],\n",
              " 'Cell_Across_Swath_Sampling': [3, 1348, 5],\n",
              " 'Geolocation_Pointer': 'Internal geolocation arrays'}"
            ]
          },
          "metadata": {},
          "execution_count": 78
        }
      ]
    },
    {
      "cell_type": "code",
      "source": [
        "data_elev_23 = sds_elev_23_junio.get()\n",
        "data_elev_23 = data_elev_23.astype(float)\n",
        "data_elev_23[data_elev_23 == -32768] = np.NaN\n",
        "data_elev_23"
      ],
      "metadata": {
        "colab": {
          "base_uri": "https://localhost:8080/"
        },
        "id": "6ESyUl4sbDyn",
        "outputId": "bc666bd5-8e54-4dcc-fc51-3435dcd3bc7d"
      },
      "execution_count": 79,
      "outputs": [
        {
          "output_type": "execute_result",
          "data": {
            "text/plain": [
              "array([[[    nan,     nan,   3175., ...,   3329.,   3259.,   3370.],\n",
              "        [    nan,     nan,     nan, ...,   3286.,     nan,     nan],\n",
              "        [    nan,     nan,   3148., ...,   3277.,   3294.,   3371.],\n",
              "        ...,\n",
              "        [    nan,     nan,   3019., ...,     nan,     nan,   3354.],\n",
              "        [    nan,     nan,   2969., ...,   3194.,     nan,   3276.],\n",
              "        [    nan,     nan,     nan, ...,     nan,     nan,     nan]],\n",
              "\n",
              "       [[    nan,     nan,  -1568., ...,  -1453.,  -1504.,  -1419.],\n",
              "        [    nan,     nan,     nan, ...,  -1486.,     nan,     nan],\n",
              "        [    nan,     nan,  -1586., ...,  -1488.,  -1486.,  -1434.],\n",
              "        ...,\n",
              "        [    nan,     nan,  -1801., ...,     nan,     nan,  -1441.],\n",
              "        [    nan,     nan,  -1838., ...,  -1561.,     nan,  -1510.],\n",
              "        [    nan,     nan,     nan, ...,     nan,     nan,     nan]],\n",
              "\n",
              "       [[    nan,     nan,  -6166., ...,  -6082.,  -6118.,  -6054.],\n",
              "        [    nan,     nan,     nan, ...,  -6106.,     nan,     nan],\n",
              "        [    nan,     nan,  -6175., ...,  -6103.,  -6113.,  -6074.],\n",
              "        ...,\n",
              "        [    nan,     nan,  -6419., ...,     nan,     nan,  -6088.],\n",
              "        [    nan,     nan,  -6445., ...,  -6173.,     nan,  -6142.],\n",
              "        [    nan,     nan,     nan, ...,     nan,     nan,     nan]],\n",
              "\n",
              "       ...,\n",
              "\n",
              "       [[    nan,     nan, -31775., ..., -31777., -31777., -31777.],\n",
              "        [    nan,     nan,     nan, ..., -31778.,     nan,     nan],\n",
              "        [    nan,     nan, -31775., ..., -31778., -31778., -31777.],\n",
              "        ...,\n",
              "        [    nan,     nan, -32027., ...,     nan,     nan, -31782.],\n",
              "        [    nan,     nan, -32028., ..., -31784.,     nan, -31782.],\n",
              "        [    nan,     nan,     nan, ...,     nan,     nan,     nan]],\n",
              "\n",
              "       [[    nan,     nan, -32051., ..., -32052., -32052., -32052.],\n",
              "        [    nan,     nan,     nan, ..., -32053.,     nan,     nan],\n",
              "        [    nan,     nan, -32051., ..., -32053., -32053., -32053.],\n",
              "        ...,\n",
              "        [    nan,     nan, -32301., ...,     nan,     nan, -32056.],\n",
              "        [    nan,     nan, -32302., ..., -32057.,     nan, -32055.],\n",
              "        [    nan,     nan,     nan, ...,     nan,     nan,     nan]],\n",
              "\n",
              "       [[    nan,     nan, -32500., ..., -32500., -32500., -32500.],\n",
              "        [    nan,     nan,     nan, ..., -32500.,     nan,     nan],\n",
              "        [    nan,     nan, -32500., ..., -32500., -32500., -32500.],\n",
              "        ...,\n",
              "        [    nan,     nan,     nan, ...,     nan,     nan, -32500.],\n",
              "        [    nan,     nan,     nan, ..., -32500.,     nan, -32500.],\n",
              "        [    nan,     nan,     nan, ...,     nan,     nan,     nan]]])"
            ]
          },
          "metadata": {},
          "execution_count": 79
        }
      ]
    },
    {
      "cell_type": "code",
      "source": [
        "perfil_23 =  1*(data_elev_23-(-32500.0))\n",
        "perfil_23"
      ],
      "metadata": {
        "colab": {
          "base_uri": "https://localhost:8080/"
        },
        "id": "1Unp87Ehc3rb",
        "outputId": "a2918000-f699-4dc3-9bdb-0afa85110ab9"
      },
      "execution_count": 81,
      "outputs": [
        {
          "output_type": "execute_result",
          "data": {
            "text/plain": [
              "array([[[   nan,    nan, 35675., ..., 35829., 35759., 35870.],\n",
              "        [   nan,    nan,    nan, ..., 35786.,    nan,    nan],\n",
              "        [   nan,    nan, 35648., ..., 35777., 35794., 35871.],\n",
              "        ...,\n",
              "        [   nan,    nan, 35519., ...,    nan,    nan, 35854.],\n",
              "        [   nan,    nan, 35469., ..., 35694.,    nan, 35776.],\n",
              "        [   nan,    nan,    nan, ...,    nan,    nan,    nan]],\n",
              "\n",
              "       [[   nan,    nan, 30932., ..., 31047., 30996., 31081.],\n",
              "        [   nan,    nan,    nan, ..., 31014.,    nan,    nan],\n",
              "        [   nan,    nan, 30914., ..., 31012., 31014., 31066.],\n",
              "        ...,\n",
              "        [   nan,    nan, 30699., ...,    nan,    nan, 31059.],\n",
              "        [   nan,    nan, 30662., ..., 30939.,    nan, 30990.],\n",
              "        [   nan,    nan,    nan, ...,    nan,    nan,    nan]],\n",
              "\n",
              "       [[   nan,    nan, 26334., ..., 26418., 26382., 26446.],\n",
              "        [   nan,    nan,    nan, ..., 26394.,    nan,    nan],\n",
              "        [   nan,    nan, 26325., ..., 26397., 26387., 26426.],\n",
              "        ...,\n",
              "        [   nan,    nan, 26081., ...,    nan,    nan, 26412.],\n",
              "        [   nan,    nan, 26055., ..., 26327.,    nan, 26358.],\n",
              "        [   nan,    nan,    nan, ...,    nan,    nan,    nan]],\n",
              "\n",
              "       ...,\n",
              "\n",
              "       [[   nan,    nan,   725., ...,   723.,   723.,   723.],\n",
              "        [   nan,    nan,    nan, ...,   722.,    nan,    nan],\n",
              "        [   nan,    nan,   725., ...,   722.,   722.,   723.],\n",
              "        ...,\n",
              "        [   nan,    nan,   473., ...,    nan,    nan,   718.],\n",
              "        [   nan,    nan,   472., ...,   716.,    nan,   718.],\n",
              "        [   nan,    nan,    nan, ...,    nan,    nan,    nan]],\n",
              "\n",
              "       [[   nan,    nan,   449., ...,   448.,   448.,   448.],\n",
              "        [   nan,    nan,    nan, ...,   447.,    nan,    nan],\n",
              "        [   nan,    nan,   449., ...,   447.,   447.,   447.],\n",
              "        ...,\n",
              "        [   nan,    nan,   199., ...,    nan,    nan,   444.],\n",
              "        [   nan,    nan,   198., ...,   443.,    nan,   445.],\n",
              "        [   nan,    nan,    nan, ...,    nan,    nan,    nan]],\n",
              "\n",
              "       [[   nan,    nan,     0., ...,     0.,     0.,     0.],\n",
              "        [   nan,    nan,    nan, ...,     0.,    nan,    nan],\n",
              "        [   nan,    nan,     0., ...,     0.,     0.,     0.],\n",
              "        ...,\n",
              "        [   nan,    nan,    nan, ...,    nan,    nan,     0.],\n",
              "        [   nan,    nan,    nan, ...,     0.,    nan,     0.],\n",
              "        [   nan,    nan,    nan, ...,    nan,    nan,    nan]]])"
            ]
          },
          "metadata": {},
          "execution_count": 81
        }
      ]
    },
    {
      "cell_type": "code",
      "source": [
        "data_elev_23.shape"
      ],
      "metadata": {
        "colab": {
          "base_uri": "https://localhost:8080/"
        },
        "id": "XsSPmk7Gb_Rx",
        "outputId": "85bf9827-4233-4791-c7e0-02c5e6c3b36d"
      },
      "execution_count": 80,
      "outputs": [
        {
          "output_type": "execute_result",
          "data": {
            "text/plain": [
              "(20, 406, 270)"
            ]
          },
          "metadata": {},
          "execution_count": 80
        }
      ]
    },
    {
      "cell_type": "code",
      "source": [
        "altura23 = perfil_23[:,coordenadas[0],coordenadas[1]]\n",
        "altura23"
      ],
      "metadata": {
        "colab": {
          "base_uri": "https://localhost:8080/"
        },
        "id": "-ofkY9FDbs3g",
        "outputId": "56849e2f-f0fb-4d64-a8c3-e0e90dee59f2"
      },
      "execution_count": 83,
      "outputs": [
        {
          "output_type": "execute_result",
          "data": {
            "text/plain": [
              "array([35633., 30805., 26183., 23562., 20363., 18330., 16237., 13834.,\n",
              "       12045., 10587.,  9338.,  7257.,  5552.,  3839.,  2846.,  1948.,\n",
              "        1227.,   558.,   284.,    nan])"
            ]
          },
          "metadata": {},
          "execution_count": 83
        }
      ]
    },
    {
      "cell_type": "markdown",
      "source": [
        "## Df"
      ],
      "metadata": {
        "id": "HNJFnrs0o97T"
      }
    },
    {
      "cell_type": "code",
      "source": [
        "df_23_junio = pd.DataFrame({'Altura (m)': altura23, 'T (ºC)': temp23, 'Td (ºC)': rocio23})\n",
        "df_23_junio"
      ],
      "metadata": {
        "colab": {
          "base_uri": "https://localhost:8080/",
          "height": 676
        },
        "id": "ObUWikxjf0CC",
        "outputId": "68e12619-e28e-4a13-b81c-c34b9583f11e"
      },
      "execution_count": 91,
      "outputs": [
        {
          "output_type": "execute_result",
          "data": {
            "text/plain": [
              "    Altura (m)     T (ºC)    Td (ºC)\n",
              "0      35633.0 -29.150005        NaN\n",
              "1      30805.0 -41.030005        NaN\n",
              "2      26183.0 -49.780005        NaN\n",
              "3      23562.0 -55.220005        NaN\n",
              "4      20363.0 -63.490005 -90.250004\n",
              "5      18330.0 -70.440005 -87.260004\n",
              "6      16237.0 -73.990004 -84.070004\n",
              "7      13834.0 -66.100005 -78.390004\n",
              "8      12045.0 -55.600005 -71.110005\n",
              "9      10587.0 -44.320005 -63.550005\n",
              "10      9338.0 -34.190005 -56.270005\n",
              "11      7257.0 -18.430006 -43.140005\n",
              "12      5552.0  -6.480006 -34.050005\n",
              "13      3839.0   3.609994 -23.530006\n",
              "14      2846.0   8.209994 -14.500006\n",
              "15      1948.0  11.289994  -3.050006\n",
              "16      1227.0  12.869994   6.399994\n",
              "17       558.0  15.659994  10.889994\n",
              "18       284.0  17.319994  12.439994\n",
              "19         NaN        NaN        NaN"
            ],
            "text/html": [
              "\n",
              "  <div id=\"df-5015c367-4747-4018-a1d9-541f37ddb508\">\n",
              "    <div class=\"colab-df-container\">\n",
              "      <div>\n",
              "<style scoped>\n",
              "    .dataframe tbody tr th:only-of-type {\n",
              "        vertical-align: middle;\n",
              "    }\n",
              "\n",
              "    .dataframe tbody tr th {\n",
              "        vertical-align: top;\n",
              "    }\n",
              "\n",
              "    .dataframe thead th {\n",
              "        text-align: right;\n",
              "    }\n",
              "</style>\n",
              "<table border=\"1\" class=\"dataframe\">\n",
              "  <thead>\n",
              "    <tr style=\"text-align: right;\">\n",
              "      <th></th>\n",
              "      <th>Altura (m)</th>\n",
              "      <th>T (ºC)</th>\n",
              "      <th>Td (ºC)</th>\n",
              "    </tr>\n",
              "  </thead>\n",
              "  <tbody>\n",
              "    <tr>\n",
              "      <th>0</th>\n",
              "      <td>35633.0</td>\n",
              "      <td>-29.150005</td>\n",
              "      <td>NaN</td>\n",
              "    </tr>\n",
              "    <tr>\n",
              "      <th>1</th>\n",
              "      <td>30805.0</td>\n",
              "      <td>-41.030005</td>\n",
              "      <td>NaN</td>\n",
              "    </tr>\n",
              "    <tr>\n",
              "      <th>2</th>\n",
              "      <td>26183.0</td>\n",
              "      <td>-49.780005</td>\n",
              "      <td>NaN</td>\n",
              "    </tr>\n",
              "    <tr>\n",
              "      <th>3</th>\n",
              "      <td>23562.0</td>\n",
              "      <td>-55.220005</td>\n",
              "      <td>NaN</td>\n",
              "    </tr>\n",
              "    <tr>\n",
              "      <th>4</th>\n",
              "      <td>20363.0</td>\n",
              "      <td>-63.490005</td>\n",
              "      <td>-90.250004</td>\n",
              "    </tr>\n",
              "    <tr>\n",
              "      <th>5</th>\n",
              "      <td>18330.0</td>\n",
              "      <td>-70.440005</td>\n",
              "      <td>-87.260004</td>\n",
              "    </tr>\n",
              "    <tr>\n",
              "      <th>6</th>\n",
              "      <td>16237.0</td>\n",
              "      <td>-73.990004</td>\n",
              "      <td>-84.070004</td>\n",
              "    </tr>\n",
              "    <tr>\n",
              "      <th>7</th>\n",
              "      <td>13834.0</td>\n",
              "      <td>-66.100005</td>\n",
              "      <td>-78.390004</td>\n",
              "    </tr>\n",
              "    <tr>\n",
              "      <th>8</th>\n",
              "      <td>12045.0</td>\n",
              "      <td>-55.600005</td>\n",
              "      <td>-71.110005</td>\n",
              "    </tr>\n",
              "    <tr>\n",
              "      <th>9</th>\n",
              "      <td>10587.0</td>\n",
              "      <td>-44.320005</td>\n",
              "      <td>-63.550005</td>\n",
              "    </tr>\n",
              "    <tr>\n",
              "      <th>10</th>\n",
              "      <td>9338.0</td>\n",
              "      <td>-34.190005</td>\n",
              "      <td>-56.270005</td>\n",
              "    </tr>\n",
              "    <tr>\n",
              "      <th>11</th>\n",
              "      <td>7257.0</td>\n",
              "      <td>-18.430006</td>\n",
              "      <td>-43.140005</td>\n",
              "    </tr>\n",
              "    <tr>\n",
              "      <th>12</th>\n",
              "      <td>5552.0</td>\n",
              "      <td>-6.480006</td>\n",
              "      <td>-34.050005</td>\n",
              "    </tr>\n",
              "    <tr>\n",
              "      <th>13</th>\n",
              "      <td>3839.0</td>\n",
              "      <td>3.609994</td>\n",
              "      <td>-23.530006</td>\n",
              "    </tr>\n",
              "    <tr>\n",
              "      <th>14</th>\n",
              "      <td>2846.0</td>\n",
              "      <td>8.209994</td>\n",
              "      <td>-14.500006</td>\n",
              "    </tr>\n",
              "    <tr>\n",
              "      <th>15</th>\n",
              "      <td>1948.0</td>\n",
              "      <td>11.289994</td>\n",
              "      <td>-3.050006</td>\n",
              "    </tr>\n",
              "    <tr>\n",
              "      <th>16</th>\n",
              "      <td>1227.0</td>\n",
              "      <td>12.869994</td>\n",
              "      <td>6.399994</td>\n",
              "    </tr>\n",
              "    <tr>\n",
              "      <th>17</th>\n",
              "      <td>558.0</td>\n",
              "      <td>15.659994</td>\n",
              "      <td>10.889994</td>\n",
              "    </tr>\n",
              "    <tr>\n",
              "      <th>18</th>\n",
              "      <td>284.0</td>\n",
              "      <td>17.319994</td>\n",
              "      <td>12.439994</td>\n",
              "    </tr>\n",
              "    <tr>\n",
              "      <th>19</th>\n",
              "      <td>NaN</td>\n",
              "      <td>NaN</td>\n",
              "      <td>NaN</td>\n",
              "    </tr>\n",
              "  </tbody>\n",
              "</table>\n",
              "</div>\n",
              "      <button class=\"colab-df-convert\" onclick=\"convertToInteractive('df-5015c367-4747-4018-a1d9-541f37ddb508')\"\n",
              "              title=\"Convert this dataframe to an interactive table.\"\n",
              "              style=\"display:none;\">\n",
              "        \n",
              "  <svg xmlns=\"http://www.w3.org/2000/svg\" height=\"24px\"viewBox=\"0 0 24 24\"\n",
              "       width=\"24px\">\n",
              "    <path d=\"M0 0h24v24H0V0z\" fill=\"none\"/>\n",
              "    <path d=\"M18.56 5.44l.94 2.06.94-2.06 2.06-.94-2.06-.94-.94-2.06-.94 2.06-2.06.94zm-11 1L8.5 8.5l.94-2.06 2.06-.94-2.06-.94L8.5 2.5l-.94 2.06-2.06.94zm10 10l.94 2.06.94-2.06 2.06-.94-2.06-.94-.94-2.06-.94 2.06-2.06.94z\"/><path d=\"M17.41 7.96l-1.37-1.37c-.4-.4-.92-.59-1.43-.59-.52 0-1.04.2-1.43.59L10.3 9.45l-7.72 7.72c-.78.78-.78 2.05 0 2.83L4 21.41c.39.39.9.59 1.41.59.51 0 1.02-.2 1.41-.59l7.78-7.78 2.81-2.81c.8-.78.8-2.07 0-2.86zM5.41 20L4 18.59l7.72-7.72 1.47 1.35L5.41 20z\"/>\n",
              "  </svg>\n",
              "      </button>\n",
              "      \n",
              "  <style>\n",
              "    .colab-df-container {\n",
              "      display:flex;\n",
              "      flex-wrap:wrap;\n",
              "      gap: 12px;\n",
              "    }\n",
              "\n",
              "    .colab-df-convert {\n",
              "      background-color: #E8F0FE;\n",
              "      border: none;\n",
              "      border-radius: 50%;\n",
              "      cursor: pointer;\n",
              "      display: none;\n",
              "      fill: #1967D2;\n",
              "      height: 32px;\n",
              "      padding: 0 0 0 0;\n",
              "      width: 32px;\n",
              "    }\n",
              "\n",
              "    .colab-df-convert:hover {\n",
              "      background-color: #E2EBFA;\n",
              "      box-shadow: 0px 1px 2px rgba(60, 64, 67, 0.3), 0px 1px 3px 1px rgba(60, 64, 67, 0.15);\n",
              "      fill: #174EA6;\n",
              "    }\n",
              "\n",
              "    [theme=dark] .colab-df-convert {\n",
              "      background-color: #3B4455;\n",
              "      fill: #D2E3FC;\n",
              "    }\n",
              "\n",
              "    [theme=dark] .colab-df-convert:hover {\n",
              "      background-color: #434B5C;\n",
              "      box-shadow: 0px 1px 3px 1px rgba(0, 0, 0, 0.15);\n",
              "      filter: drop-shadow(0px 1px 2px rgba(0, 0, 0, 0.3));\n",
              "      fill: #FFFFFF;\n",
              "    }\n",
              "  </style>\n",
              "\n",
              "      <script>\n",
              "        const buttonEl =\n",
              "          document.querySelector('#df-5015c367-4747-4018-a1d9-541f37ddb508 button.colab-df-convert');\n",
              "        buttonEl.style.display =\n",
              "          google.colab.kernel.accessAllowed ? 'block' : 'none';\n",
              "\n",
              "        async function convertToInteractive(key) {\n",
              "          const element = document.querySelector('#df-5015c367-4747-4018-a1d9-541f37ddb508');\n",
              "          const dataTable =\n",
              "            await google.colab.kernel.invokeFunction('convertToInteractive',\n",
              "                                                     [key], {});\n",
              "          if (!dataTable) return;\n",
              "\n",
              "          const docLinkHtml = 'Like what you see? Visit the ' +\n",
              "            '<a target=\"_blank\" href=https://colab.research.google.com/notebooks/data_table.ipynb>data table notebook</a>'\n",
              "            + ' to learn more about interactive tables.';\n",
              "          element.innerHTML = '';\n",
              "          dataTable['output_type'] = 'display_data';\n",
              "          await google.colab.output.renderOutput(dataTable, element);\n",
              "          const docLink = document.createElement('div');\n",
              "          docLink.innerHTML = docLinkHtml;\n",
              "          element.appendChild(docLink);\n",
              "        }\n",
              "      </script>\n",
              "    </div>\n",
              "  </div>\n",
              "  "
            ]
          },
          "metadata": {},
          "execution_count": 91
        }
      ]
    },
    {
      "cell_type": "markdown",
      "source": [
        "# Dia 24 de junio 12:15"
      ],
      "metadata": {
        "id": "bKQK9STsTLbf"
      }
    },
    {
      "cell_type": "code",
      "source": [
        "longitud24 = hdf_24_junio.select('Longitude')[:]\n",
        "longitud24"
      ],
      "metadata": {
        "colab": {
          "base_uri": "https://localhost:8080/"
        },
        "id": "Ht9AvFJVh0wv",
        "outputId": "151c6fe9-8558-4033-ef9a-8e5d3751b2ce"
      },
      "execution_count": 121,
      "outputs": [
        {
          "output_type": "execute_result",
          "data": {
            "text/plain": [
              "array([[-56.552277, -56.344456, -56.144245, ..., -36.62878 , -36.438427,\n",
              "        -36.241177],\n",
              "       [-56.56202 , -56.354122, -56.15383 , ..., -36.64279 , -36.452675,\n",
              "        -36.255665],\n",
              "       [-56.567673, -56.35995 , -56.15984 , ..., -36.648518, -36.45816 ,\n",
              "        -36.2609  ],\n",
              "       ...,\n",
              "       [-60.362976, -60.15647 , -59.957325, ..., -40.283226, -40.08677 ,\n",
              "        -39.88307 ],\n",
              "       [-60.37048 , -60.16426 , -59.965355, ..., -40.29073 , -40.09415 ,\n",
              "        -39.890213],\n",
              "       [-60.385582, -60.178814, -59.98017 , ..., -40.301186, -40.103615,\n",
              "        -39.899975]], dtype=float32)"
            ]
          },
          "metadata": {},
          "execution_count": 121
        }
      ]
    },
    {
      "cell_type": "code",
      "source": [
        "latitud24= hdf_24_junio.select('Latitude')[:]\n",
        "latitud24"
      ],
      "metadata": {
        "colab": {
          "base_uri": "https://localhost:8080/"
        },
        "id": "pZM2H1oQhxAV",
        "outputId": "87479d11-b38e-4866-90bd-83959da449c2"
      },
      "execution_count": 122,
      "outputs": [
        {
          "output_type": "execute_result",
          "data": {
            "text/plain": [
              "array([[  9.6682205,   9.643494 ,   9.619551 , ...,   6.8129086,\n",
              "          6.781784 ,   6.749457 ],\n",
              "       [  9.579662 ,   9.556268 ,   9.533602 , ...,   6.7288647,\n",
              "          6.6965384,   6.6629596],\n",
              "       [  9.5797415,   9.554967 ,   9.530981 , ...,   6.72466  ,\n",
              "          6.693585 ,   6.6613092],\n",
              "       ...,\n",
              "       [ -8.102376 ,  -8.137365 ,  -8.17101  , ..., -11.009601 ,\n",
              "        -11.0322485, -11.055593 ],\n",
              "       [ -8.101514 ,  -8.137873 ,  -8.172837 , ..., -11.012615 ,\n",
              "        -11.033969 , -11.055976 ],\n",
              "       [ -8.189709 ,  -8.224803 ,  -8.25842  , ..., -11.097573 ,\n",
              "        -11.120294 , -11.143572 ]], dtype=float32)"
            ]
          },
          "metadata": {},
          "execution_count": 122
        }
      ]
    },
    {
      "cell_type": "code",
      "source": [
        "coordenadas24 = np.unravel_index((np.abs(latitud24 - lat_obs) + np.abs(longitud24 - long_obs)).argmin(),longitud24.shape)\n",
        "coordenadas24"
      ],
      "metadata": {
        "colab": {
          "base_uri": "https://localhost:8080/"
        },
        "id": "TCpEH7IuiLDN",
        "outputId": "443075ce-b0d6-4599-f051-3eb1100280a8"
      },
      "execution_count": 123,
      "outputs": [
        {
          "output_type": "execute_result",
          "data": {
            "text/plain": [
              "(405, 175)"
            ]
          },
          "metadata": {},
          "execution_count": 123
        }
      ]
    },
    {
      "cell_type": "markdown",
      "source": [
        "## Temperatura"
      ],
      "metadata": {
        "id": "ijq4p1VqjMZi"
      }
    },
    {
      "cell_type": "code",
      "source": [
        "sds_temp_24_junio = hdf_24_junio.select(variable_temp)\n",
        "attrs_temp24 = sds_temp_24_junio.attributes()\n",
        "attrs_temp24"
      ],
      "metadata": {
        "colab": {
          "base_uri": "https://localhost:8080/"
        },
        "id": "itIFGZ18aOPg",
        "outputId": "d8107a3b-89e1-4cd2-99fd-0f2607e4b6be"
      },
      "execution_count": 124,
      "outputs": [
        {
          "output_type": "execute_result",
          "data": {
            "text/plain": [
              "{'valid_range': [0, 20000],\n",
              " '_FillValue': -32768,\n",
              " 'long_name': 'Retrieved Temperature Profile',\n",
              " 'units': 'K',\n",
              " 'scale_factor': 0.009999999776482582,\n",
              " 'add_offset': -15000.0,\n",
              " 'Parameter_Type': 'MODIS Ouput',\n",
              " 'Cell_Along_Swath_Sampling': [3, 2028, 5],\n",
              " 'Cell_Across_Swath_Sampling': [3, 1348, 5],\n",
              " 'Geolocation_Pointer': 'Internal geolocation arrays'}"
            ]
          },
          "metadata": {},
          "execution_count": 124
        }
      ]
    },
    {
      "cell_type": "code",
      "source": [
        "data_temp_24 = sds_temp_24_junio.get()\n",
        "data_temp_24 = data_temp_24.astype(float)\n",
        "data_temp_24[data_temp_24 == FillValue] = np.NaN\n",
        "temp_celsius_24 = (scale_factor*(data_temp_24-add_offset)) -273.15\n",
        "temp_celsius_24"
      ],
      "metadata": {
        "colab": {
          "base_uri": "https://localhost:8080/"
        },
        "id": "z2q9Am3Jhc4u",
        "outputId": "793138fe-7920-4a59-ee27-920e8b5fd156"
      },
      "execution_count": 125,
      "outputs": [
        {
          "output_type": "execute_result",
          "data": {
            "text/plain": [
              "array([[[         nan,          nan, -35.36000532, ...,          nan,\n",
              "                  nan,          nan],\n",
              "        [         nan,          nan, -34.64000533, ...,          nan,\n",
              "                  nan,          nan],\n",
              "        [         nan,          nan, -34.92000532, ...,          nan,\n",
              "                  nan,          nan],\n",
              "        ...,\n",
              "        [         nan,          nan, -29.20000545, ...,          nan,\n",
              "                  nan,          nan],\n",
              "        [         nan,          nan, -28.07000548, ...,          nan,\n",
              "                  nan,          nan],\n",
              "        [         nan,          nan, -30.58000542, ...,          nan,\n",
              "                  nan,          nan]],\n",
              "\n",
              "       [[         nan,          nan, -42.93000515, ...,          nan,\n",
              "                  nan,          nan],\n",
              "        [         nan,          nan, -42.44000516, ...,          nan,\n",
              "                  nan,          nan],\n",
              "        [         nan,          nan, -42.46000516, ...,          nan,\n",
              "                  nan,          nan],\n",
              "        ...,\n",
              "        [         nan,          nan, -41.11000519, ...,          nan,\n",
              "                  nan,          nan],\n",
              "        [         nan,          nan, -40.21000521, ...,          nan,\n",
              "                  nan,          nan],\n",
              "        [         nan,          nan, -42.16000516, ...,          nan,\n",
              "                  nan,          nan]],\n",
              "\n",
              "       [[         nan,          nan, -50.22000498, ...,          nan,\n",
              "                  nan,          nan],\n",
              "        [         nan,          nan, -49.99000499, ...,          nan,\n",
              "                  nan,          nan],\n",
              "        [         nan,          nan, -49.80000499, ...,          nan,\n",
              "                  nan,          nan],\n",
              "        ...,\n",
              "        [         nan,          nan, -49.89000499, ...,          nan,\n",
              "                  nan,          nan],\n",
              "        [         nan,          nan, -49.20000501, ...,          nan,\n",
              "                  nan,          nan],\n",
              "        [         nan,          nan, -50.41000498, ...,          nan,\n",
              "                  nan,          nan]],\n",
              "\n",
              "       ...,\n",
              "\n",
              "       [[         nan,          nan,  17.4799935 , ...,          nan,\n",
              "                  nan,          nan],\n",
              "        [         nan,          nan,  16.99999351, ...,          nan,\n",
              "                  nan,          nan],\n",
              "        [         nan,          nan,  17.5099935 , ...,          nan,\n",
              "                  nan,          nan],\n",
              "        ...,\n",
              "        [         nan,          nan,  18.12999349, ...,          nan,\n",
              "                  nan,          nan],\n",
              "        [         nan,          nan,  18.56999348, ...,          nan,\n",
              "                  nan,          nan],\n",
              "        [         nan,          nan,  17.7399935 , ...,          nan,\n",
              "                  nan,          nan]],\n",
              "\n",
              "       [[         nan,          nan,  20.34999344, ...,          nan,\n",
              "                  nan,          nan],\n",
              "        [         nan,          nan,  20.00999345, ...,          nan,\n",
              "                  nan,          nan],\n",
              "        [         nan,          nan,  20.40999344, ...,          nan,\n",
              "                  nan,          nan],\n",
              "        ...,\n",
              "        [         nan,          nan,  19.89999345, ...,          nan,\n",
              "                  nan,          nan],\n",
              "        [         nan,          nan,  20.22999344, ...,          nan,\n",
              "                  nan,          nan],\n",
              "        [         nan,          nan,  19.60999346, ...,          nan,\n",
              "                  nan,          nan]],\n",
              "\n",
              "       [[         nan,          nan,  26.7799933 , ...,          nan,\n",
              "                  nan,          nan],\n",
              "        [         nan,          nan,  26.7599933 , ...,          nan,\n",
              "                  nan,          nan],\n",
              "        [         nan,          nan,  26.87999329, ...,          nan,\n",
              "                  nan,          nan],\n",
              "        ...,\n",
              "        [         nan,          nan,          nan, ...,          nan,\n",
              "                  nan,          nan],\n",
              "        [         nan,          nan,          nan, ...,          nan,\n",
              "                  nan,          nan],\n",
              "        [         nan,          nan,          nan, ...,          nan,\n",
              "                  nan,          nan]]])"
            ]
          },
          "metadata": {},
          "execution_count": 125
        }
      ]
    },
    {
      "cell_type": "code",
      "source": [
        "temp24 = temp_celsius_24[:, coordenadas24[0],coordenadas24[1]]\n",
        "temp24"
      ],
      "metadata": {
        "colab": {
          "base_uri": "https://localhost:8080/"
        },
        "id": "A_JyPDp0iRuO",
        "outputId": "3f01cc91-ff98-4b51-cd2c-011c3a87dd6d"
      },
      "execution_count": 126,
      "outputs": [
        {
          "output_type": "execute_result",
          "data": {
            "text/plain": [
              "array([-33.77000535, -43.79000513, -51.85000495, -56.78000484,\n",
              "       -64.38000467, -70.35000453, -72.97000447, -65.60000464,\n",
              "       -57.42000482, -47.47000504, -37.67000526, -21.25000563,\n",
              "        -8.69000591,   1.36999386,   6.21999376,   9.75999368,\n",
              "        12.73999361,  16.05999354,  17.6699935 ,          nan])"
            ]
          },
          "metadata": {},
          "execution_count": 126
        }
      ]
    },
    {
      "cell_type": "markdown",
      "source": [
        "## Temperatura de rocio"
      ],
      "metadata": {
        "id": "0TpFKmw_jO-G"
      }
    },
    {
      "cell_type": "code",
      "source": [
        "sds_rocio_24_junio = hdf_24_junio.select(variable_temp_rocio)\n",
        "data_rocio_24 = sds_rocio_24_junio.get()\n",
        "data_rocio_24 = data_rocio_24.astype(float)\n",
        "data_rocio_24[data_rocio_24 == FillValue] = np.NaN\n",
        "rocio_celsius_24 = (scale_factor*(data_rocio_24-add_offset)) -273.15\n",
        "rocio_celsius_24"
      ],
      "metadata": {
        "colab": {
          "base_uri": "https://localhost:8080/"
        },
        "id": "MyK3oECEjQ0r",
        "outputId": "2a43a929-b39e-41c3-dedc-6b87151d305f"
      },
      "execution_count": 127,
      "outputs": [
        {
          "output_type": "execute_result",
          "data": {
            "text/plain": [
              "array([[[        nan,         nan,         nan, ...,         nan,\n",
              "                 nan,         nan],\n",
              "        [        nan,         nan,         nan, ...,         nan,\n",
              "                 nan,         nan],\n",
              "        [        nan,         nan,         nan, ...,         nan,\n",
              "                 nan,         nan],\n",
              "        ...,\n",
              "        [        nan,         nan,         nan, ...,         nan,\n",
              "                 nan,         nan],\n",
              "        [        nan,         nan,         nan, ...,         nan,\n",
              "                 nan,         nan],\n",
              "        [        nan,         nan,         nan, ...,         nan,\n",
              "                 nan,         nan]],\n",
              "\n",
              "       [[        nan,         nan,         nan, ...,         nan,\n",
              "                 nan,         nan],\n",
              "        [        nan,         nan,         nan, ...,         nan,\n",
              "                 nan,         nan],\n",
              "        [        nan,         nan,         nan, ...,         nan,\n",
              "                 nan,         nan],\n",
              "        ...,\n",
              "        [        nan,         nan,         nan, ...,         nan,\n",
              "                 nan,         nan],\n",
              "        [        nan,         nan,         nan, ...,         nan,\n",
              "                 nan,         nan],\n",
              "        [        nan,         nan,         nan, ...,         nan,\n",
              "                 nan,         nan]],\n",
              "\n",
              "       [[        nan,         nan,         nan, ...,         nan,\n",
              "                 nan,         nan],\n",
              "        [        nan,         nan,         nan, ...,         nan,\n",
              "                 nan,         nan],\n",
              "        [        nan,         nan,         nan, ...,         nan,\n",
              "                 nan,         nan],\n",
              "        ...,\n",
              "        [        nan,         nan,         nan, ...,         nan,\n",
              "                 nan,         nan],\n",
              "        [        nan,         nan,         nan, ...,         nan,\n",
              "                 nan,         nan],\n",
              "        [        nan,         nan,         nan, ...,         nan,\n",
              "                 nan,         nan]],\n",
              "\n",
              "       ...,\n",
              "\n",
              "       [[        nan,         nan, 17.4599935 , ...,         nan,\n",
              "                 nan,         nan],\n",
              "        [        nan,         nan, 16.97999352, ...,         nan,\n",
              "                 nan,         nan],\n",
              "        [        nan,         nan, 17.4899935 , ...,         nan,\n",
              "                 nan,         nan],\n",
              "        ...,\n",
              "        [        nan,         nan, 16.45999353, ...,         nan,\n",
              "                 nan,         nan],\n",
              "        [        nan,         nan, 15.90999354, ...,         nan,\n",
              "                 nan,         nan],\n",
              "        [        nan,         nan, 17.39999351, ...,         nan,\n",
              "                 nan,         nan]],\n",
              "\n",
              "       [[        nan,         nan, 20.33999344, ...,         nan,\n",
              "                 nan,         nan],\n",
              "        [        nan,         nan, 19.99999345, ...,         nan,\n",
              "                 nan,         nan],\n",
              "        [        nan,         nan, 20.38999344, ...,         nan,\n",
              "                 nan,         nan],\n",
              "        ...,\n",
              "        [        nan,         nan, 18.36999348, ...,         nan,\n",
              "                 nan,         nan],\n",
              "        [        nan,         nan, 17.8399935 , ...,         nan,\n",
              "                 nan,         nan],\n",
              "        [        nan,         nan, 19.34999346, ...,         nan,\n",
              "                 nan,         nan]],\n",
              "\n",
              "       [[        nan,         nan, 24.48999335, ...,         nan,\n",
              "                 nan,         nan],\n",
              "        [        nan,         nan, 24.52999335, ...,         nan,\n",
              "                 nan,         nan],\n",
              "        [        nan,         nan, 24.61999334, ...,         nan,\n",
              "                 nan,         nan],\n",
              "        ...,\n",
              "        [        nan,         nan,         nan, ...,         nan,\n",
              "                 nan,         nan],\n",
              "        [        nan,         nan,         nan, ...,         nan,\n",
              "                 nan,         nan],\n",
              "        [        nan,         nan,         nan, ...,         nan,\n",
              "                 nan,         nan]]])"
            ]
          },
          "metadata": {},
          "execution_count": 127
        }
      ]
    },
    {
      "cell_type": "code",
      "source": [
        "rocio24 = rocio_celsius_24[:, coordenadas24[0],coordenadas24[1]]\n",
        "rocio24"
      ],
      "metadata": {
        "colab": {
          "base_uri": "https://localhost:8080/"
        },
        "id": "gM1pZFn9jc8n",
        "outputId": "719fccb8-689f-4d34-f07b-578b5d07bd31"
      },
      "execution_count": 128,
      "outputs": [
        {
          "output_type": "execute_result",
          "data": {
            "text/plain": [
              "array([         nan,          nan,          nan,          nan,\n",
              "       -90.31000409, -87.58000415, -84.74000421, -78.57000435,\n",
              "       -69.86000454, -61.87000472, -54.85000488, -43.82000513,\n",
              "       -33.85000535, -18.50000569,  -8.12000592,   2.71999383,\n",
              "         9.31999369,  12.76999361,  13.87999358,          nan])"
            ]
          },
          "metadata": {},
          "execution_count": 128
        }
      ]
    },
    {
      "cell_type": "markdown",
      "source": [
        "## Elevacion"
      ],
      "metadata": {
        "id": "zJ4TwXYWoXCt"
      }
    },
    {
      "cell_type": "code",
      "source": [
        "sds_elev_24_junio = hdf_24_junio.select(variable_elev)\n",
        "attrs_elev24 = sds_elev_24_junio.attributes()\n",
        "attrs_elev24"
      ],
      "metadata": {
        "colab": {
          "base_uri": "https://localhost:8080/"
        },
        "id": "cLW2ITlmoaar",
        "outputId": "3d5cc7c2-2a9c-4c89-897b-70be8fdae616"
      },
      "execution_count": 138,
      "outputs": [
        {
          "output_type": "execute_result",
          "data": {
            "text/plain": [
              "{'valid_range': [-32500, 32500],\n",
              " '_FillValue': -32768,\n",
              " 'long_name': 'Retrieved Geopotential Height Profile',\n",
              " 'units': 'm',\n",
              " 'scale_factor': 1.0,\n",
              " 'add_offset': -32500.0,\n",
              " 'Parameter_Type': 'MODIS Output',\n",
              " 'Cell_Along_Swath_Sampling': [3, 2028, 5],\n",
              " 'Cell_Across_Swath_Sampling': [3, 1348, 5],\n",
              " 'Geolocation_Pointer': 'Internal geolocation arrays'}"
            ]
          },
          "metadata": {},
          "execution_count": 138
        }
      ]
    },
    {
      "cell_type": "code",
      "source": [
        "data_elev_24 = sds_elev_24_junio.get()\n",
        "data_elev_24 = data_elev_24.astype(float)\n",
        "data_elev_24[data_elev_24 == -32768] = np.NaN\n",
        "perfil_24 =  1*(data_elev_24-(-32500.0))\n",
        "perfil_24"
      ],
      "metadata": {
        "colab": {
          "base_uri": "https://localhost:8080/"
        },
        "id": "LJ4GqMVRohTH",
        "outputId": "75d17899-a0ca-419c-d066-68bd024ec834"
      },
      "execution_count": 139,
      "outputs": [
        {
          "output_type": "execute_result",
          "data": {
            "text/plain": [
              "array([[[   nan,    nan, 35733., ...,    nan,    nan,    nan],\n",
              "        [   nan,    nan, 35748., ...,    nan,    nan,    nan],\n",
              "        [   nan,    nan, 35782., ...,    nan,    nan,    nan],\n",
              "        ...,\n",
              "        [   nan,    nan, 35478., ...,    nan,    nan,    nan],\n",
              "        [   nan,    nan, 35541., ...,    nan,    nan,    nan],\n",
              "        [   nan,    nan, 35421., ...,    nan,    nan,    nan]],\n",
              "\n",
              "       [[   nan,    nan, 30984., ...,    nan,    nan,    nan],\n",
              "        [   nan,    nan, 30986., ...,    nan,    nan,    nan],\n",
              "        [   nan,    nan, 31022., ...,    nan,    nan,    nan],\n",
              "        ...,\n",
              "        [   nan,    nan, 30655., ...,    nan,    nan,    nan],\n",
              "        [   nan,    nan, 30698., ...,    nan,    nan,    nan],\n",
              "        [   nan,    nan, 30623., ...,    nan,    nan,    nan]],\n",
              "\n",
              "       [[   nan,    nan, 26382., ...,    nan,    nan,    nan],\n",
              "        [   nan,    nan, 26376., ...,    nan,    nan,    nan],\n",
              "        [   nan,    nan, 26411., ...,    nan,    nan,    nan],\n",
              "        ...,\n",
              "        [   nan,    nan, 26035., ...,    nan,    nan,    nan],\n",
              "        [   nan,    nan, 26060., ...,    nan,    nan,    nan],\n",
              "        [   nan,    nan, 26018., ...,    nan,    nan,    nan]],\n",
              "\n",
              "       ...,\n",
              "\n",
              "       [[   nan,    nan,   728., ...,    nan,    nan,    nan],\n",
              "        [   nan,    nan,   727., ...,    nan,    nan,    nan],\n",
              "        [   nan,    nan,   728., ...,    nan,    nan,    nan],\n",
              "        ...,\n",
              "        [   nan,    nan,   401., ...,    nan,    nan,    nan],\n",
              "        [   nan,    nan,   399., ...,    nan,    nan,    nan],\n",
              "        [   nan,    nan,   391., ...,    nan,    nan,    nan]],\n",
              "\n",
              "       [[   nan,    nan,   451., ...,    nan,    nan,    nan],\n",
              "        [   nan,    nan,   450., ...,    nan,    nan,    nan],\n",
              "        [   nan,    nan,   451., ...,    nan,    nan,    nan],\n",
              "        ...,\n",
              "        [   nan,    nan,   124., ...,    nan,    nan,    nan],\n",
              "        [   nan,    nan,   122., ...,    nan,    nan,    nan],\n",
              "        [   nan,    nan,   114., ...,    nan,    nan,    nan]],\n",
              "\n",
              "       [[   nan,    nan,     0., ...,    nan,    nan,    nan],\n",
              "        [   nan,    nan,     0., ...,    nan,    nan,    nan],\n",
              "        [   nan,    nan,     0., ...,    nan,    nan,    nan],\n",
              "        ...,\n",
              "        [   nan,    nan,    nan, ...,    nan,    nan,    nan],\n",
              "        [   nan,    nan,    nan, ...,    nan,    nan,    nan],\n",
              "        [   nan,    nan,    nan, ...,    nan,    nan,    nan]]])"
            ]
          },
          "metadata": {},
          "execution_count": 139
        }
      ]
    },
    {
      "cell_type": "code",
      "source": [
        "altura24 = perfil_24[:,coordenadas24[0],coordenadas24[1]]\n",
        "altura24"
      ],
      "metadata": {
        "colab": {
          "base_uri": "https://localhost:8080/"
        },
        "id": "_gurWnkjouy4",
        "outputId": "aac2e5ca-e1a9-4051-c8e1-b93b6eedd6c0"
      },
      "execution_count": 140,
      "outputs": [
        {
          "output_type": "execute_result",
          "data": {
            "text/plain": [
              "array([35705., 30954., 26381., 23782., 20601., 18573., 16473., 14059.,\n",
              "       12276., 10833.,  9602.,  7549.,  5860.,  4161.,  3175.,  2281.,\n",
              "        1562.,   892.,   617.,    nan])"
            ]
          },
          "metadata": {},
          "execution_count": 140
        }
      ]
    },
    {
      "cell_type": "markdown",
      "source": [
        "## Df"
      ],
      "metadata": {
        "id": "D7kZiIk4o_3x"
      }
    },
    {
      "cell_type": "code",
      "source": [
        "df_24_junio = pd.DataFrame({'Altura (m)': altura24, 'T (ºC)': temp24, 'Td (ºC)': rocio24})\n",
        "df_24_junio"
      ],
      "metadata": {
        "colab": {
          "base_uri": "https://localhost:8080/",
          "height": 676
        },
        "id": "OskyP4eBo4fn",
        "outputId": "cec024ba-d9ee-4264-8cee-0045c77eb8c6"
      },
      "execution_count": 141,
      "outputs": [
        {
          "output_type": "execute_result",
          "data": {
            "text/plain": [
              "    Altura (m)     T (ºC)    Td (ºC)\n",
              "0      35705.0 -33.770005        NaN\n",
              "1      30954.0 -43.790005        NaN\n",
              "2      26381.0 -51.850005        NaN\n",
              "3      23782.0 -56.780005        NaN\n",
              "4      20601.0 -64.380005 -90.310004\n",
              "5      18573.0 -70.350005 -87.580004\n",
              "6      16473.0 -72.970004 -84.740004\n",
              "7      14059.0 -65.600005 -78.570004\n",
              "8      12276.0 -57.420005 -69.860005\n",
              "9      10833.0 -47.470005 -61.870005\n",
              "10      9602.0 -37.670005 -54.850005\n",
              "11      7549.0 -21.250006 -43.820005\n",
              "12      5860.0  -8.690006 -33.850005\n",
              "13      4161.0   1.369994 -18.500006\n",
              "14      3175.0   6.219994  -8.120006\n",
              "15      2281.0   9.759994   2.719994\n",
              "16      1562.0  12.739994   9.319994\n",
              "17       892.0  16.059994  12.769994\n",
              "18       617.0  17.669993  13.879994\n",
              "19         NaN        NaN        NaN"
            ],
            "text/html": [
              "\n",
              "  <div id=\"df-8837e5ac-40bc-4510-ae66-2c7ebb7f4b68\">\n",
              "    <div class=\"colab-df-container\">\n",
              "      <div>\n",
              "<style scoped>\n",
              "    .dataframe tbody tr th:only-of-type {\n",
              "        vertical-align: middle;\n",
              "    }\n",
              "\n",
              "    .dataframe tbody tr th {\n",
              "        vertical-align: top;\n",
              "    }\n",
              "\n",
              "    .dataframe thead th {\n",
              "        text-align: right;\n",
              "    }\n",
              "</style>\n",
              "<table border=\"1\" class=\"dataframe\">\n",
              "  <thead>\n",
              "    <tr style=\"text-align: right;\">\n",
              "      <th></th>\n",
              "      <th>Altura (m)</th>\n",
              "      <th>T (ºC)</th>\n",
              "      <th>Td (ºC)</th>\n",
              "    </tr>\n",
              "  </thead>\n",
              "  <tbody>\n",
              "    <tr>\n",
              "      <th>0</th>\n",
              "      <td>35705.0</td>\n",
              "      <td>-33.770005</td>\n",
              "      <td>NaN</td>\n",
              "    </tr>\n",
              "    <tr>\n",
              "      <th>1</th>\n",
              "      <td>30954.0</td>\n",
              "      <td>-43.790005</td>\n",
              "      <td>NaN</td>\n",
              "    </tr>\n",
              "    <tr>\n",
              "      <th>2</th>\n",
              "      <td>26381.0</td>\n",
              "      <td>-51.850005</td>\n",
              "      <td>NaN</td>\n",
              "    </tr>\n",
              "    <tr>\n",
              "      <th>3</th>\n",
              "      <td>23782.0</td>\n",
              "      <td>-56.780005</td>\n",
              "      <td>NaN</td>\n",
              "    </tr>\n",
              "    <tr>\n",
              "      <th>4</th>\n",
              "      <td>20601.0</td>\n",
              "      <td>-64.380005</td>\n",
              "      <td>-90.310004</td>\n",
              "    </tr>\n",
              "    <tr>\n",
              "      <th>5</th>\n",
              "      <td>18573.0</td>\n",
              "      <td>-70.350005</td>\n",
              "      <td>-87.580004</td>\n",
              "    </tr>\n",
              "    <tr>\n",
              "      <th>6</th>\n",
              "      <td>16473.0</td>\n",
              "      <td>-72.970004</td>\n",
              "      <td>-84.740004</td>\n",
              "    </tr>\n",
              "    <tr>\n",
              "      <th>7</th>\n",
              "      <td>14059.0</td>\n",
              "      <td>-65.600005</td>\n",
              "      <td>-78.570004</td>\n",
              "    </tr>\n",
              "    <tr>\n",
              "      <th>8</th>\n",
              "      <td>12276.0</td>\n",
              "      <td>-57.420005</td>\n",
              "      <td>-69.860005</td>\n",
              "    </tr>\n",
              "    <tr>\n",
              "      <th>9</th>\n",
              "      <td>10833.0</td>\n",
              "      <td>-47.470005</td>\n",
              "      <td>-61.870005</td>\n",
              "    </tr>\n",
              "    <tr>\n",
              "      <th>10</th>\n",
              "      <td>9602.0</td>\n",
              "      <td>-37.670005</td>\n",
              "      <td>-54.850005</td>\n",
              "    </tr>\n",
              "    <tr>\n",
              "      <th>11</th>\n",
              "      <td>7549.0</td>\n",
              "      <td>-21.250006</td>\n",
              "      <td>-43.820005</td>\n",
              "    </tr>\n",
              "    <tr>\n",
              "      <th>12</th>\n",
              "      <td>5860.0</td>\n",
              "      <td>-8.690006</td>\n",
              "      <td>-33.850005</td>\n",
              "    </tr>\n",
              "    <tr>\n",
              "      <th>13</th>\n",
              "      <td>4161.0</td>\n",
              "      <td>1.369994</td>\n",
              "      <td>-18.500006</td>\n",
              "    </tr>\n",
              "    <tr>\n",
              "      <th>14</th>\n",
              "      <td>3175.0</td>\n",
              "      <td>6.219994</td>\n",
              "      <td>-8.120006</td>\n",
              "    </tr>\n",
              "    <tr>\n",
              "      <th>15</th>\n",
              "      <td>2281.0</td>\n",
              "      <td>9.759994</td>\n",
              "      <td>2.719994</td>\n",
              "    </tr>\n",
              "    <tr>\n",
              "      <th>16</th>\n",
              "      <td>1562.0</td>\n",
              "      <td>12.739994</td>\n",
              "      <td>9.319994</td>\n",
              "    </tr>\n",
              "    <tr>\n",
              "      <th>17</th>\n",
              "      <td>892.0</td>\n",
              "      <td>16.059994</td>\n",
              "      <td>12.769994</td>\n",
              "    </tr>\n",
              "    <tr>\n",
              "      <th>18</th>\n",
              "      <td>617.0</td>\n",
              "      <td>17.669993</td>\n",
              "      <td>13.879994</td>\n",
              "    </tr>\n",
              "    <tr>\n",
              "      <th>19</th>\n",
              "      <td>NaN</td>\n",
              "      <td>NaN</td>\n",
              "      <td>NaN</td>\n",
              "    </tr>\n",
              "  </tbody>\n",
              "</table>\n",
              "</div>\n",
              "      <button class=\"colab-df-convert\" onclick=\"convertToInteractive('df-8837e5ac-40bc-4510-ae66-2c7ebb7f4b68')\"\n",
              "              title=\"Convert this dataframe to an interactive table.\"\n",
              "              style=\"display:none;\">\n",
              "        \n",
              "  <svg xmlns=\"http://www.w3.org/2000/svg\" height=\"24px\"viewBox=\"0 0 24 24\"\n",
              "       width=\"24px\">\n",
              "    <path d=\"M0 0h24v24H0V0z\" fill=\"none\"/>\n",
              "    <path d=\"M18.56 5.44l.94 2.06.94-2.06 2.06-.94-2.06-.94-.94-2.06-.94 2.06-2.06.94zm-11 1L8.5 8.5l.94-2.06 2.06-.94-2.06-.94L8.5 2.5l-.94 2.06-2.06.94zm10 10l.94 2.06.94-2.06 2.06-.94-2.06-.94-.94-2.06-.94 2.06-2.06.94z\"/><path d=\"M17.41 7.96l-1.37-1.37c-.4-.4-.92-.59-1.43-.59-.52 0-1.04.2-1.43.59L10.3 9.45l-7.72 7.72c-.78.78-.78 2.05 0 2.83L4 21.41c.39.39.9.59 1.41.59.51 0 1.02-.2 1.41-.59l7.78-7.78 2.81-2.81c.8-.78.8-2.07 0-2.86zM5.41 20L4 18.59l7.72-7.72 1.47 1.35L5.41 20z\"/>\n",
              "  </svg>\n",
              "      </button>\n",
              "      \n",
              "  <style>\n",
              "    .colab-df-container {\n",
              "      display:flex;\n",
              "      flex-wrap:wrap;\n",
              "      gap: 12px;\n",
              "    }\n",
              "\n",
              "    .colab-df-convert {\n",
              "      background-color: #E8F0FE;\n",
              "      border: none;\n",
              "      border-radius: 50%;\n",
              "      cursor: pointer;\n",
              "      display: none;\n",
              "      fill: #1967D2;\n",
              "      height: 32px;\n",
              "      padding: 0 0 0 0;\n",
              "      width: 32px;\n",
              "    }\n",
              "\n",
              "    .colab-df-convert:hover {\n",
              "      background-color: #E2EBFA;\n",
              "      box-shadow: 0px 1px 2px rgba(60, 64, 67, 0.3), 0px 1px 3px 1px rgba(60, 64, 67, 0.15);\n",
              "      fill: #174EA6;\n",
              "    }\n",
              "\n",
              "    [theme=dark] .colab-df-convert {\n",
              "      background-color: #3B4455;\n",
              "      fill: #D2E3FC;\n",
              "    }\n",
              "\n",
              "    [theme=dark] .colab-df-convert:hover {\n",
              "      background-color: #434B5C;\n",
              "      box-shadow: 0px 1px 3px 1px rgba(0, 0, 0, 0.15);\n",
              "      filter: drop-shadow(0px 1px 2px rgba(0, 0, 0, 0.3));\n",
              "      fill: #FFFFFF;\n",
              "    }\n",
              "  </style>\n",
              "\n",
              "      <script>\n",
              "        const buttonEl =\n",
              "          document.querySelector('#df-8837e5ac-40bc-4510-ae66-2c7ebb7f4b68 button.colab-df-convert');\n",
              "        buttonEl.style.display =\n",
              "          google.colab.kernel.accessAllowed ? 'block' : 'none';\n",
              "\n",
              "        async function convertToInteractive(key) {\n",
              "          const element = document.querySelector('#df-8837e5ac-40bc-4510-ae66-2c7ebb7f4b68');\n",
              "          const dataTable =\n",
              "            await google.colab.kernel.invokeFunction('convertToInteractive',\n",
              "                                                     [key], {});\n",
              "          if (!dataTable) return;\n",
              "\n",
              "          const docLinkHtml = 'Like what you see? Visit the ' +\n",
              "            '<a target=\"_blank\" href=https://colab.research.google.com/notebooks/data_table.ipynb>data table notebook</a>'\n",
              "            + ' to learn more about interactive tables.';\n",
              "          element.innerHTML = '';\n",
              "          dataTable['output_type'] = 'display_data';\n",
              "          await google.colab.output.renderOutput(dataTable, element);\n",
              "          const docLink = document.createElement('div');\n",
              "          docLink.innerHTML = docLinkHtml;\n",
              "          element.appendChild(docLink);\n",
              "        }\n",
              "      </script>\n",
              "    </div>\n",
              "  </div>\n",
              "  "
            ]
          },
          "metadata": {},
          "execution_count": 141
        }
      ]
    },
    {
      "cell_type": "markdown",
      "source": [
        "# Para el 26 de junio 13:05"
      ],
      "metadata": {
        "id": "i0iIPSsRq7Dh"
      }
    },
    {
      "cell_type": "code",
      "source": [
        "longitud26 = hdf_26_junio.select('Longitude')[:]\n",
        "longitud26"
      ],
      "metadata": {
        "colab": {
          "base_uri": "https://localhost:8080/"
        },
        "id": "7v_it_s3rJ8I",
        "outputId": "c180090f-4249-4d93-8913-2f13401d8c23"
      },
      "execution_count": 164,
      "outputs": [
        {
          "output_type": "execute_result",
          "data": {
            "text/plain": [
              "array([[-57.751396, -57.540703, -57.337727, ..., -37.163296, -36.96155 ,\n",
              "        -36.752354],\n",
              "       [-57.768272, -57.557316, -57.354744, ..., -37.17156 , -36.96983 ,\n",
              "        -36.76066 ],\n",
              "       [-57.775887, -57.565025, -57.36256 , ..., -37.178837, -36.97701 ,\n",
              "        -36.76774 ],\n",
              "       ...,\n",
              "       [-63.641407, -63.405094, -63.177063, ..., -39.761818, -39.522648,\n",
              "        -39.27455 ],\n",
              "       [-63.6463  , -63.41052 , -63.182915, ..., -39.767002, -39.52773 ,\n",
              "        -39.279533],\n",
              "       [-63.675373, -63.439075, -63.211063, ..., -39.771866, -39.53239 ,\n",
              "        -39.283974]], dtype=float32)"
            ]
          },
          "metadata": {},
          "execution_count": 164
        }
      ]
    },
    {
      "cell_type": "code",
      "source": [
        "latitud26= hdf_26_junio.select('Latitude')[:]\n",
        "latitud26"
      ],
      "metadata": {
        "colab": {
          "base_uri": "https://localhost:8080/"
        },
        "id": "qT04T9GerWMe",
        "outputId": "fe7dc006-fa21-43bf-ca63-6d22a7fad486"
      },
      "execution_count": 165,
      "outputs": [
        {
          "output_type": "execute_result",
          "data": {
            "text/plain": [
              "array([[-13.882531 , -13.923651 , -13.9630785, ..., -16.875835 ,\n",
              "        -16.894203 , -16.913029 ],\n",
              "       [-13.9706135, -14.010409 , -14.048447 , ..., -16.96135  ,\n",
              "        -16.98096  , -17.001081 ],\n",
              "       [-13.969388 , -14.010601 , -14.049987 , ..., -16.964306 ,\n",
              "        -16.98263  , -17.00141  ],\n",
              "       ...,\n",
              "       [-31.256443 , -31.31452  , -31.370092 , ..., -34.750565 ,\n",
              "        -34.76171  , -34.772774 ],\n",
              "       [-31.254734 , -31.31415  , -31.371023 , ..., -34.75247  ,\n",
              "        -34.762302 , -34.772    ],\n",
              "       [-31.341639 , -31.399776 , -31.455404 , ..., -34.83904  ,\n",
              "        -34.85014  , -34.861156 ]], dtype=float32)"
            ]
          },
          "metadata": {},
          "execution_count": 165
        }
      ]
    },
    {
      "cell_type": "code",
      "source": [
        "coordenadas26 = np.unravel_index((np.abs(latitud26 - lat_obs) + np.abs(longitud26 - long_obs)).argmin(),longitud26.shape)\n",
        "coordenadas26"
      ],
      "metadata": {
        "colab": {
          "base_uri": "https://localhost:8080/"
        },
        "id": "S-G2Hjd-rcXV",
        "outputId": "2ef571f5-ab84-479c-ff91-68247eb59517"
      },
      "execution_count": 166,
      "outputs": [
        {
          "output_type": "execute_result",
          "data": {
            "text/plain": [
              "(72, 129)"
            ]
          },
          "metadata": {},
          "execution_count": 166
        }
      ]
    },
    {
      "cell_type": "markdown",
      "source": [
        "## Temp"
      ],
      "metadata": {
        "id": "0hUutl_Vrhl4"
      }
    },
    {
      "cell_type": "code",
      "source": [
        "sds_temp_26_junio = hdf_26_junio.select(variable_temp)\n",
        "attrs_temp26 = sds_temp_26_junio.attributes()\n",
        "attrs_temp26"
      ],
      "metadata": {
        "colab": {
          "base_uri": "https://localhost:8080/"
        },
        "id": "TCWqb-O0rivq",
        "outputId": "2288af6e-de4a-480a-f77b-1153323cd31c"
      },
      "execution_count": 167,
      "outputs": [
        {
          "output_type": "execute_result",
          "data": {
            "text/plain": [
              "{'valid_range': [0, 20000],\n",
              " '_FillValue': -32768,\n",
              " 'long_name': 'Retrieved Temperature Profile',\n",
              " 'units': 'K',\n",
              " 'scale_factor': 0.009999999776482582,\n",
              " 'add_offset': -15000.0,\n",
              " 'Parameter_Type': 'MODIS Ouput',\n",
              " 'Cell_Along_Swath_Sampling': [3, 2028, 5],\n",
              " 'Cell_Across_Swath_Sampling': [3, 1348, 5],\n",
              " 'Geolocation_Pointer': 'Internal geolocation arrays'}"
            ]
          },
          "metadata": {},
          "execution_count": 167
        }
      ]
    },
    {
      "cell_type": "code",
      "source": [
        "data_temp_26 = sds_temp_26_junio.get()\n",
        "data_temp_26 = data_temp_26.astype(float)\n",
        "data_temp_26[data_temp_26 == FillValue] = np.NaN\n",
        "temp_celsius_26 = (scale_factor*(data_temp_26-add_offset)) -273.15\n",
        "temp_celsius_26"
      ],
      "metadata": {
        "colab": {
          "base_uri": "https://localhost:8080/"
        },
        "id": "7mrAeN6ersNW",
        "outputId": "9a615aab-4c86-4704-e45b-8d9d76017909"
      },
      "execution_count": 168,
      "outputs": [
        {
          "output_type": "execute_result",
          "data": {
            "text/plain": [
              "array([[[         nan,          nan, -28.52000547, ...,          nan,\n",
              "                  nan,          nan],\n",
              "        [         nan,          nan, -29.94000544, ...,          nan,\n",
              "                  nan,          nan],\n",
              "        [         nan,          nan, -29.24000545, ...,          nan,\n",
              "                  nan,          nan],\n",
              "        ...,\n",
              "        [         nan,          nan,          nan, ..., -32.62000538,\n",
              "         -33.59000535,          nan],\n",
              "        [         nan,          nan,          nan, ..., -33.01000537,\n",
              "         -33.87000535, -30.94000541],\n",
              "        [         nan,          nan,          nan, ...,          nan,\n",
              "                  nan,          nan]],\n",
              "\n",
              "       [[         nan,          nan, -40.91000519, ...,          nan,\n",
              "                  nan,          nan],\n",
              "        [         nan,          nan, -41.77000517, ...,          nan,\n",
              "                  nan,          nan],\n",
              "        [         nan,          nan, -41.14000519, ...,          nan,\n",
              "                  nan,          nan],\n",
              "        ...,\n",
              "        [         nan,          nan,          nan, ..., -42.87000515,\n",
              "         -42.69000515,          nan],\n",
              "        [         nan,          nan,          nan, ..., -42.41000516,\n",
              "         -42.74000515, -41.39000518],\n",
              "        [         nan,          nan,          nan, ...,          nan,\n",
              "                  nan,          nan]],\n",
              "\n",
              "       [[         nan,          nan, -49.73000499, ...,          nan,\n",
              "                  nan,          nan],\n",
              "        [         nan,          nan, -50.13000498, ...,          nan,\n",
              "                  nan,          nan],\n",
              "        [         nan,          nan, -49.510005  , ...,          nan,\n",
              "                  nan,          nan],\n",
              "        ...,\n",
              "        [         nan,          nan,          nan, ..., -50.66000497,\n",
              "         -50.38000498,          nan],\n",
              "        [         nan,          nan,          nan, ..., -49.74000499,\n",
              "         -50.13000498, -49.330005  ],\n",
              "        [         nan,          nan,          nan, ...,          nan,\n",
              "                  nan,          nan]],\n",
              "\n",
              "       ...,\n",
              "\n",
              "       [[         nan,          nan,  16.42999353, ...,          nan,\n",
              "                  nan,          nan],\n",
              "        [         nan,          nan,  16.08999353, ...,          nan,\n",
              "                  nan,          nan],\n",
              "        [         nan,          nan,  16.48999353, ...,          nan,\n",
              "                  nan,          nan],\n",
              "        ...,\n",
              "        [         nan,          nan,          nan, ...,   9.06999369,\n",
              "           9.14999369,          nan],\n",
              "        [         nan,          nan,          nan, ...,   8.6199937 ,\n",
              "           8.8699937 ,   8.7099937 ],\n",
              "        [         nan,          nan,          nan, ...,          nan,\n",
              "                  nan,          nan]],\n",
              "\n",
              "       [[         nan,          nan,  17.8599935 , ...,          nan,\n",
              "                  nan,          nan],\n",
              "        [         nan,          nan,  17.7399935 , ...,          nan,\n",
              "                  nan,          nan],\n",
              "        [         nan,          nan,  17.97999349, ...,          nan,\n",
              "                  nan,          nan],\n",
              "        ...,\n",
              "        [         nan,          nan,          nan, ...,  11.60999364,\n",
              "          11.35999364,          nan],\n",
              "        [         nan,          nan,          nan, ...,  11.24999364,\n",
              "          11.15999365,  11.79999363],\n",
              "        [         nan,          nan,          nan, ...,          nan,\n",
              "                  nan,          nan]],\n",
              "\n",
              "       [[         nan,          nan,          nan, ...,          nan,\n",
              "                  nan,          nan],\n",
              "        [         nan,          nan,          nan, ...,          nan,\n",
              "                  nan,          nan],\n",
              "        [         nan,          nan,          nan, ...,          nan,\n",
              "                  nan,          nan],\n",
              "        ...,\n",
              "        [         nan,          nan,          nan, ...,  16.38999353,\n",
              "          15.86999354,          nan],\n",
              "        [         nan,          nan,          nan, ...,  16.23999353,\n",
              "          15.73999354,  17.08999351],\n",
              "        [         nan,          nan,          nan, ...,          nan,\n",
              "                  nan,          nan]]])"
            ]
          },
          "metadata": {},
          "execution_count": 168
        }
      ]
    },
    {
      "cell_type": "code",
      "source": [
        "temp26 = temp_celsius_26[:, coordenadas26[0],coordenadas26[1]]\n",
        "temp26"
      ],
      "metadata": {
        "colab": {
          "base_uri": "https://localhost:8080/"
        },
        "id": "doXX-rbgr0eh",
        "outputId": "a39a2ba3-ec7f-43c0-a752-0b76c102fa8a"
      },
      "execution_count": 169,
      "outputs": [
        {
          "output_type": "execute_result",
          "data": {
            "text/plain": [
              "array([-31.5000054 , -42.96000515, -51.27000496, -56.26000485,\n",
              "       -63.34000469, -68.15000458, -70.58000453, -63.63000468,\n",
              "       -56.03000485, -46.67000506, -37.52000527, -22.10000561,\n",
              "        -9.87000588,   0.97999387,   6.74999374,  11.70999363,\n",
              "        14.92999356,  17.23999351,          nan,          nan])"
            ]
          },
          "metadata": {},
          "execution_count": 169
        }
      ]
    },
    {
      "cell_type": "markdown",
      "source": [
        "## Temperatura de rocio"
      ],
      "metadata": {
        "id": "ZIwxLYQUsdr2"
      }
    },
    {
      "cell_type": "code",
      "source": [
        "sds_rocio_26_junio = hdf_26_junio.select(variable_temp_rocio)\n",
        "data_rocio_26 = sds_rocio_26_junio.get()\n",
        "data_rocio_26 = data_rocio_26.astype(float)\n",
        "data_rocio_26[data_rocio_26 == FillValue] = np.NaN\n",
        "rocio_celsius_26 = (scale_factor*(data_rocio_26-add_offset)) -273.15\n",
        "rocio_celsius_26"
      ],
      "metadata": {
        "colab": {
          "base_uri": "https://localhost:8080/"
        },
        "id": "kQm2Ptf1sfzL",
        "outputId": "d9e00f28-2759-4779-d497-479ddaf8546f"
      },
      "execution_count": 170,
      "outputs": [
        {
          "output_type": "execute_result",
          "data": {
            "text/plain": [
              "array([[[        nan,         nan,         nan, ...,         nan,\n",
              "                 nan,         nan],\n",
              "        [        nan,         nan,         nan, ...,         nan,\n",
              "                 nan,         nan],\n",
              "        [        nan,         nan,         nan, ...,         nan,\n",
              "                 nan,         nan],\n",
              "        ...,\n",
              "        [        nan,         nan,         nan, ...,         nan,\n",
              "                 nan,         nan],\n",
              "        [        nan,         nan,         nan, ...,         nan,\n",
              "                 nan,         nan],\n",
              "        [        nan,         nan,         nan, ...,         nan,\n",
              "                 nan,         nan]],\n",
              "\n",
              "       [[        nan,         nan,         nan, ...,         nan,\n",
              "                 nan,         nan],\n",
              "        [        nan,         nan,         nan, ...,         nan,\n",
              "                 nan,         nan],\n",
              "        [        nan,         nan,         nan, ...,         nan,\n",
              "                 nan,         nan],\n",
              "        ...,\n",
              "        [        nan,         nan,         nan, ...,         nan,\n",
              "                 nan,         nan],\n",
              "        [        nan,         nan,         nan, ...,         nan,\n",
              "                 nan,         nan],\n",
              "        [        nan,         nan,         nan, ...,         nan,\n",
              "                 nan,         nan]],\n",
              "\n",
              "       [[        nan,         nan,         nan, ...,         nan,\n",
              "                 nan,         nan],\n",
              "        [        nan,         nan,         nan, ...,         nan,\n",
              "                 nan,         nan],\n",
              "        [        nan,         nan,         nan, ...,         nan,\n",
              "                 nan,         nan],\n",
              "        ...,\n",
              "        [        nan,         nan,         nan, ...,         nan,\n",
              "                 nan,         nan],\n",
              "        [        nan,         nan,         nan, ...,         nan,\n",
              "                 nan,         nan],\n",
              "        [        nan,         nan,         nan, ...,         nan,\n",
              "                 nan,         nan]],\n",
              "\n",
              "       ...,\n",
              "\n",
              "       [[        nan,         nan,  6.68999375, ...,         nan,\n",
              "                 nan,         nan],\n",
              "        [        nan,         nan,  8.6999937 , ...,         nan,\n",
              "                 nan,         nan],\n",
              "        [        nan,         nan,  7.47999373, ...,         nan,\n",
              "                 nan,         nan],\n",
              "        ...,\n",
              "        [        nan,         nan,         nan, ...,  6.38999375,\n",
              "          5.74999377,         nan],\n",
              "        [        nan,         nan,         nan, ...,  6.50999375,\n",
              "          5.98999376,  7.43999373],\n",
              "        [        nan,         nan,         nan, ...,         nan,\n",
              "                 nan,         nan]],\n",
              "\n",
              "       [[        nan,         nan,  8.10999371, ...,         nan,\n",
              "                 nan,         nan],\n",
              "        [        nan,         nan, 10.15999367, ...,         nan,\n",
              "                 nan,         nan],\n",
              "        [        nan,         nan,  8.9099937 , ...,         nan,\n",
              "                 nan,         nan],\n",
              "        ...,\n",
              "        [        nan,         nan,         nan, ...,  8.02999372,\n",
              "          7.88999372,         nan],\n",
              "        [        nan,         nan,         nan, ...,  8.25999371,\n",
              "          8.04999371,  8.99999369],\n",
              "        [        nan,         nan,         nan, ...,         nan,\n",
              "                 nan,         nan]],\n",
              "\n",
              "       [[        nan,         nan,         nan, ...,         nan,\n",
              "                 nan,         nan],\n",
              "        [        nan,         nan,         nan, ...,         nan,\n",
              "                 nan,         nan],\n",
              "        [        nan,         nan,         nan, ...,         nan,\n",
              "                 nan,         nan],\n",
              "        ...,\n",
              "        [        nan,         nan,         nan, ...,  9.15999369,\n",
              "          8.93999369,         nan],\n",
              "        [        nan,         nan,         nan, ...,  9.33999369,\n",
              "          9.07999369,  9.47999368],\n",
              "        [        nan,         nan,         nan, ...,         nan,\n",
              "                 nan,         nan]]])"
            ]
          },
          "metadata": {},
          "execution_count": 170
        }
      ]
    },
    {
      "cell_type": "code",
      "source": [
        "rocio26 = rocio_celsius_26[:, coordenadas26[0],coordenadas26[1]]\n",
        "rocio26"
      ],
      "metadata": {
        "colab": {
          "base_uri": "https://localhost:8080/"
        },
        "id": "pZTmami2tdmf",
        "outputId": "c2be7091-c180-42c3-8dd1-c10106f44f46"
      },
      "execution_count": 171,
      "outputs": [
        {
          "output_type": "execute_result",
          "data": {
            "text/plain": [
              "array([         nan,          nan,          nan,          nan,\n",
              "       -90.20000409, -87.46000415, -84.90000421, -81.41000429,\n",
              "       -76.97000438, -73.19000447, -68.62000457, -56.51000484,\n",
              "       -43.40000514, -27.38000549, -17.49000571,  -6.94000595,\n",
              "         0.65999388,   4.3099938 ,          nan,          nan])"
            ]
          },
          "metadata": {},
          "execution_count": 171
        }
      ]
    },
    {
      "cell_type": "markdown",
      "source": [
        "## Elev"
      ],
      "metadata": {
        "id": "WdHSxEgKtlm7"
      }
    },
    {
      "cell_type": "code",
      "source": [
        "sds_elev_26_junio = hdf_26_junio.select(variable_elev)\n",
        "attrs_elev26 = sds_elev_26_junio.attributes()\n",
        "attrs_elev26"
      ],
      "metadata": {
        "colab": {
          "base_uri": "https://localhost:8080/"
        },
        "id": "y8UI_6Z0tnI8",
        "outputId": "a4ac5a18-d0bc-49f5-f4f4-5b6255993ac6"
      },
      "execution_count": 172,
      "outputs": [
        {
          "output_type": "execute_result",
          "data": {
            "text/plain": [
              "{'valid_range': [-32500, 32500],\n",
              " '_FillValue': -32768,\n",
              " 'long_name': 'Retrieved Geopotential Height Profile',\n",
              " 'units': 'm',\n",
              " 'scale_factor': 1.0,\n",
              " 'add_offset': -32500.0,\n",
              " 'Parameter_Type': 'MODIS Output',\n",
              " 'Cell_Along_Swath_Sampling': [3, 2028, 5],\n",
              " 'Cell_Across_Swath_Sampling': [3, 1348, 5],\n",
              " 'Geolocation_Pointer': 'Internal geolocation arrays'}"
            ]
          },
          "metadata": {},
          "execution_count": 172
        }
      ]
    },
    {
      "cell_type": "code",
      "source": [
        "data_elev_26 = sds_elev_26_junio.get()\n",
        "data_elev_26 = data_elev_26.astype(float)\n",
        "data_elev_26[data_elev_26 == -32768] = np.NaN\n",
        "perfil_26 =  1*(data_elev_26-(-32500.0))\n",
        "perfil_26"
      ],
      "metadata": {
        "colab": {
          "base_uri": "https://localhost:8080/"
        },
        "id": "lRaD8g1DtqP5",
        "outputId": "f1b5ed07-57c8-4882-8424-6792aad49c2d"
      },
      "execution_count": 173,
      "outputs": [
        {
          "output_type": "execute_result",
          "data": {
            "text/plain": [
              "array([[[   nan,    nan, 35962., ...,    nan,    nan,    nan],\n",
              "        [   nan,    nan, 35972., ...,    nan,    nan,    nan],\n",
              "        [   nan,    nan, 36025., ...,    nan,    nan,    nan],\n",
              "        ...,\n",
              "        [   nan,    nan,    nan, ..., 35625., 35670.,    nan],\n",
              "        [   nan,    nan,    nan, ..., 35704., 35694., 35724.],\n",
              "        [   nan,    nan,    nan, ...,    nan,    nan,    nan]],\n",
              "\n",
              "       [[   nan,    nan, 31127., ...,    nan,    nan,    nan],\n",
              "        [   nan,    nan, 31159., ...,    nan,    nan,    nan],\n",
              "        [   nan,    nan, 31199., ...,    nan,    nan,    nan],\n",
              "        ...,\n",
              "        [   nan,    nan,    nan, ..., 30854., 30904.,    nan],\n",
              "        [   nan,    nan,    nan, ..., 30931., 30931., 30917.],\n",
              "        [   nan,    nan,    nan, ...,    nan,    nan,    nan]],\n",
              "\n",
              "       [[   nan,    nan, 26503., ...,    nan,    nan,    nan],\n",
              "        [   nan,    nan, 26548., ...,    nan,    nan,    nan],\n",
              "        [   nan,    nan, 26575., ...,    nan,    nan,    nan],\n",
              "        ...,\n",
              "        [   nan,    nan,    nan, ..., 26262., 26309.,    nan],\n",
              "        [   nan,    nan,    nan, ..., 26324., 26333., 26298.],\n",
              "        [   nan,    nan,    nan, ...,    nan,    nan,    nan]],\n",
              "\n",
              "       ...,\n",
              "\n",
              "       [[   nan,    nan,   847., ...,    nan,    nan,    nan],\n",
              "        [   nan,    nan,   860., ...,    nan,    nan,    nan],\n",
              "        [   nan,    nan,   861., ...,    nan,    nan,    nan],\n",
              "        ...,\n",
              "        [   nan,    nan,    nan, ...,   701.,   700.,    nan],\n",
              "        [   nan,    nan,    nan, ...,   700.,   700.,   702.],\n",
              "        [   nan,    nan,    nan, ...,    nan,    nan,    nan]],\n",
              "\n",
              "       [[   nan,    nan,   573., ...,    nan,    nan,    nan],\n",
              "        [   nan,    nan,   586., ...,    nan,    nan,    nan],\n",
              "        [   nan,    nan,   587., ...,    nan,    nan,    nan],\n",
              "        ...,\n",
              "        [   nan,    nan,    nan, ...,   433.,   433.,    nan],\n",
              "        [   nan,    nan,    nan, ...,   433.,   432.,   434.],\n",
              "        [   nan,    nan,    nan, ...,    nan,    nan,    nan]],\n",
              "\n",
              "       [[   nan,    nan,    nan, ...,    nan,    nan,    nan],\n",
              "        [   nan,    nan,    nan, ...,    nan,    nan,    nan],\n",
              "        [   nan,    nan,    nan, ...,    nan,    nan,    nan],\n",
              "        ...,\n",
              "        [   nan,    nan,    nan, ...,     0.,     0.,    nan],\n",
              "        [   nan,    nan,    nan, ...,     0.,     0.,     0.],\n",
              "        [   nan,    nan,    nan, ...,    nan,    nan,    nan]]])"
            ]
          },
          "metadata": {},
          "execution_count": 173
        }
      ]
    },
    {
      "cell_type": "code",
      "source": [
        "altura26 = perfil_26[:,coordenadas26[0],coordenadas26[1]]\n",
        "altura26"
      ],
      "metadata": {
        "colab": {
          "base_uri": "https://localhost:8080/"
        },
        "id": "y2snMDKgts4b",
        "outputId": "e7c21686-8668-4bcd-914f-d0647b927597"
      },
      "execution_count": 174,
      "outputs": [
        {
          "output_type": "execute_result",
          "data": {
            "text/plain": [
              "array([35831., 31044., 26458., 23853., 20661., 18617., 16493., 14053.,\n",
              "       12255., 10806.,  9572.,  7522.,  5841.,  4147.,  3162.,  2265.,\n",
              "        1543.,   870.,    nan,    nan])"
            ]
          },
          "metadata": {},
          "execution_count": 174
        }
      ]
    },
    {
      "cell_type": "markdown",
      "source": [
        "## df"
      ],
      "metadata": {
        "id": "6oZKfRW3t6An"
      }
    },
    {
      "cell_type": "code",
      "source": [
        "df_26_junio = pd.DataFrame({'Altura (m)': altura26, 'T (ºC)': temp26, 'Td (ºC)': rocio26})\n",
        "df_26_junio"
      ],
      "metadata": {
        "colab": {
          "base_uri": "https://localhost:8080/",
          "height": 676
        },
        "id": "AtNokdyht6s3",
        "outputId": "cba25652-b6be-4d8c-a5ea-e38fdd185d26"
      },
      "execution_count": 175,
      "outputs": [
        {
          "output_type": "execute_result",
          "data": {
            "text/plain": [
              "    Altura (m)     T (ºC)    Td (ºC)\n",
              "0      35831.0 -31.500005        NaN\n",
              "1      31044.0 -42.960005        NaN\n",
              "2      26458.0 -51.270005        NaN\n",
              "3      23853.0 -56.260005        NaN\n",
              "4      20661.0 -63.340005 -90.200004\n",
              "5      18617.0 -68.150005 -87.460004\n",
              "6      16493.0 -70.580005 -84.900004\n",
              "7      14053.0 -63.630005 -81.410004\n",
              "8      12255.0 -56.030005 -76.970004\n",
              "9      10806.0 -46.670005 -73.190004\n",
              "10      9572.0 -37.520005 -68.620005\n",
              "11      7522.0 -22.100006 -56.510005\n",
              "12      5841.0  -9.870006 -43.400005\n",
              "13      4147.0   0.979994 -27.380005\n",
              "14      3162.0   6.749994 -17.490006\n",
              "15      2265.0  11.709994  -6.940006\n",
              "16      1543.0  14.929994   0.659994\n",
              "17       870.0  17.239994   4.309994\n",
              "18         NaN        NaN        NaN\n",
              "19         NaN        NaN        NaN"
            ],
            "text/html": [
              "\n",
              "  <div id=\"df-abb66036-db62-4e02-b8cb-032fbc3d9dec\">\n",
              "    <div class=\"colab-df-container\">\n",
              "      <div>\n",
              "<style scoped>\n",
              "    .dataframe tbody tr th:only-of-type {\n",
              "        vertical-align: middle;\n",
              "    }\n",
              "\n",
              "    .dataframe tbody tr th {\n",
              "        vertical-align: top;\n",
              "    }\n",
              "\n",
              "    .dataframe thead th {\n",
              "        text-align: right;\n",
              "    }\n",
              "</style>\n",
              "<table border=\"1\" class=\"dataframe\">\n",
              "  <thead>\n",
              "    <tr style=\"text-align: right;\">\n",
              "      <th></th>\n",
              "      <th>Altura (m)</th>\n",
              "      <th>T (ºC)</th>\n",
              "      <th>Td (ºC)</th>\n",
              "    </tr>\n",
              "  </thead>\n",
              "  <tbody>\n",
              "    <tr>\n",
              "      <th>0</th>\n",
              "      <td>35831.0</td>\n",
              "      <td>-31.500005</td>\n",
              "      <td>NaN</td>\n",
              "    </tr>\n",
              "    <tr>\n",
              "      <th>1</th>\n",
              "      <td>31044.0</td>\n",
              "      <td>-42.960005</td>\n",
              "      <td>NaN</td>\n",
              "    </tr>\n",
              "    <tr>\n",
              "      <th>2</th>\n",
              "      <td>26458.0</td>\n",
              "      <td>-51.270005</td>\n",
              "      <td>NaN</td>\n",
              "    </tr>\n",
              "    <tr>\n",
              "      <th>3</th>\n",
              "      <td>23853.0</td>\n",
              "      <td>-56.260005</td>\n",
              "      <td>NaN</td>\n",
              "    </tr>\n",
              "    <tr>\n",
              "      <th>4</th>\n",
              "      <td>20661.0</td>\n",
              "      <td>-63.340005</td>\n",
              "      <td>-90.200004</td>\n",
              "    </tr>\n",
              "    <tr>\n",
              "      <th>5</th>\n",
              "      <td>18617.0</td>\n",
              "      <td>-68.150005</td>\n",
              "      <td>-87.460004</td>\n",
              "    </tr>\n",
              "    <tr>\n",
              "      <th>6</th>\n",
              "      <td>16493.0</td>\n",
              "      <td>-70.580005</td>\n",
              "      <td>-84.900004</td>\n",
              "    </tr>\n",
              "    <tr>\n",
              "      <th>7</th>\n",
              "      <td>14053.0</td>\n",
              "      <td>-63.630005</td>\n",
              "      <td>-81.410004</td>\n",
              "    </tr>\n",
              "    <tr>\n",
              "      <th>8</th>\n",
              "      <td>12255.0</td>\n",
              "      <td>-56.030005</td>\n",
              "      <td>-76.970004</td>\n",
              "    </tr>\n",
              "    <tr>\n",
              "      <th>9</th>\n",
              "      <td>10806.0</td>\n",
              "      <td>-46.670005</td>\n",
              "      <td>-73.190004</td>\n",
              "    </tr>\n",
              "    <tr>\n",
              "      <th>10</th>\n",
              "      <td>9572.0</td>\n",
              "      <td>-37.520005</td>\n",
              "      <td>-68.620005</td>\n",
              "    </tr>\n",
              "    <tr>\n",
              "      <th>11</th>\n",
              "      <td>7522.0</td>\n",
              "      <td>-22.100006</td>\n",
              "      <td>-56.510005</td>\n",
              "    </tr>\n",
              "    <tr>\n",
              "      <th>12</th>\n",
              "      <td>5841.0</td>\n",
              "      <td>-9.870006</td>\n",
              "      <td>-43.400005</td>\n",
              "    </tr>\n",
              "    <tr>\n",
              "      <th>13</th>\n",
              "      <td>4147.0</td>\n",
              "      <td>0.979994</td>\n",
              "      <td>-27.380005</td>\n",
              "    </tr>\n",
              "    <tr>\n",
              "      <th>14</th>\n",
              "      <td>3162.0</td>\n",
              "      <td>6.749994</td>\n",
              "      <td>-17.490006</td>\n",
              "    </tr>\n",
              "    <tr>\n",
              "      <th>15</th>\n",
              "      <td>2265.0</td>\n",
              "      <td>11.709994</td>\n",
              "      <td>-6.940006</td>\n",
              "    </tr>\n",
              "    <tr>\n",
              "      <th>16</th>\n",
              "      <td>1543.0</td>\n",
              "      <td>14.929994</td>\n",
              "      <td>0.659994</td>\n",
              "    </tr>\n",
              "    <tr>\n",
              "      <th>17</th>\n",
              "      <td>870.0</td>\n",
              "      <td>17.239994</td>\n",
              "      <td>4.309994</td>\n",
              "    </tr>\n",
              "    <tr>\n",
              "      <th>18</th>\n",
              "      <td>NaN</td>\n",
              "      <td>NaN</td>\n",
              "      <td>NaN</td>\n",
              "    </tr>\n",
              "    <tr>\n",
              "      <th>19</th>\n",
              "      <td>NaN</td>\n",
              "      <td>NaN</td>\n",
              "      <td>NaN</td>\n",
              "    </tr>\n",
              "  </tbody>\n",
              "</table>\n",
              "</div>\n",
              "      <button class=\"colab-df-convert\" onclick=\"convertToInteractive('df-abb66036-db62-4e02-b8cb-032fbc3d9dec')\"\n",
              "              title=\"Convert this dataframe to an interactive table.\"\n",
              "              style=\"display:none;\">\n",
              "        \n",
              "  <svg xmlns=\"http://www.w3.org/2000/svg\" height=\"24px\"viewBox=\"0 0 24 24\"\n",
              "       width=\"24px\">\n",
              "    <path d=\"M0 0h24v24H0V0z\" fill=\"none\"/>\n",
              "    <path d=\"M18.56 5.44l.94 2.06.94-2.06 2.06-.94-2.06-.94-.94-2.06-.94 2.06-2.06.94zm-11 1L8.5 8.5l.94-2.06 2.06-.94-2.06-.94L8.5 2.5l-.94 2.06-2.06.94zm10 10l.94 2.06.94-2.06 2.06-.94-2.06-.94-.94-2.06-.94 2.06-2.06.94z\"/><path d=\"M17.41 7.96l-1.37-1.37c-.4-.4-.92-.59-1.43-.59-.52 0-1.04.2-1.43.59L10.3 9.45l-7.72 7.72c-.78.78-.78 2.05 0 2.83L4 21.41c.39.39.9.59 1.41.59.51 0 1.02-.2 1.41-.59l7.78-7.78 2.81-2.81c.8-.78.8-2.07 0-2.86zM5.41 20L4 18.59l7.72-7.72 1.47 1.35L5.41 20z\"/>\n",
              "  </svg>\n",
              "      </button>\n",
              "      \n",
              "  <style>\n",
              "    .colab-df-container {\n",
              "      display:flex;\n",
              "      flex-wrap:wrap;\n",
              "      gap: 12px;\n",
              "    }\n",
              "\n",
              "    .colab-df-convert {\n",
              "      background-color: #E8F0FE;\n",
              "      border: none;\n",
              "      border-radius: 50%;\n",
              "      cursor: pointer;\n",
              "      display: none;\n",
              "      fill: #1967D2;\n",
              "      height: 32px;\n",
              "      padding: 0 0 0 0;\n",
              "      width: 32px;\n",
              "    }\n",
              "\n",
              "    .colab-df-convert:hover {\n",
              "      background-color: #E2EBFA;\n",
              "      box-shadow: 0px 1px 2px rgba(60, 64, 67, 0.3), 0px 1px 3px 1px rgba(60, 64, 67, 0.15);\n",
              "      fill: #174EA6;\n",
              "    }\n",
              "\n",
              "    [theme=dark] .colab-df-convert {\n",
              "      background-color: #3B4455;\n",
              "      fill: #D2E3FC;\n",
              "    }\n",
              "\n",
              "    [theme=dark] .colab-df-convert:hover {\n",
              "      background-color: #434B5C;\n",
              "      box-shadow: 0px 1px 3px 1px rgba(0, 0, 0, 0.15);\n",
              "      filter: drop-shadow(0px 1px 2px rgba(0, 0, 0, 0.3));\n",
              "      fill: #FFFFFF;\n",
              "    }\n",
              "  </style>\n",
              "\n",
              "      <script>\n",
              "        const buttonEl =\n",
              "          document.querySelector('#df-abb66036-db62-4e02-b8cb-032fbc3d9dec button.colab-df-convert');\n",
              "        buttonEl.style.display =\n",
              "          google.colab.kernel.accessAllowed ? 'block' : 'none';\n",
              "\n",
              "        async function convertToInteractive(key) {\n",
              "          const element = document.querySelector('#df-abb66036-db62-4e02-b8cb-032fbc3d9dec');\n",
              "          const dataTable =\n",
              "            await google.colab.kernel.invokeFunction('convertToInteractive',\n",
              "                                                     [key], {});\n",
              "          if (!dataTable) return;\n",
              "\n",
              "          const docLinkHtml = 'Like what you see? Visit the ' +\n",
              "            '<a target=\"_blank\" href=https://colab.research.google.com/notebooks/data_table.ipynb>data table notebook</a>'\n",
              "            + ' to learn more about interactive tables.';\n",
              "          element.innerHTML = '';\n",
              "          dataTable['output_type'] = 'display_data';\n",
              "          await google.colab.output.renderOutput(dataTable, element);\n",
              "          const docLink = document.createElement('div');\n",
              "          docLink.innerHTML = docLinkHtml;\n",
              "          element.appendChild(docLink);\n",
              "        }\n",
              "      </script>\n",
              "    </div>\n",
              "  </div>\n",
              "  "
            ]
          },
          "metadata": {},
          "execution_count": 175
        }
      ]
    },
    {
      "cell_type": "markdown",
      "source": [
        "# Para el 28 de junio 12:45"
      ],
      "metadata": {
        "id": "vP4tcXSVk_t4"
      }
    },
    {
      "cell_type": "code",
      "source": [
        "longitud28 = hdf_28_junio.select('Longitude')[:]\n",
        "longitud28"
      ],
      "metadata": {
        "colab": {
          "base_uri": "https://localhost:8080/"
        },
        "id": "NPnDveNmkrZF",
        "outputId": "ab8e0494-7fee-43f8-fe5b-7a938d5f47d4"
      },
      "execution_count": 132,
      "outputs": [
        {
          "output_type": "execute_result",
          "data": {
            "text/plain": [
              "array([[-50.62804 , -50.423424, -50.22653 , ..., -30.82425 , -30.632748,\n",
              "        -30.434204],\n",
              "       [-50.640995, -50.436264, -50.23879 , ..., -30.835102, -30.643715,\n",
              "        -30.445318],\n",
              "       [-50.648632, -50.444042, -50.24667 , ..., -30.842428, -30.650915,\n",
              "        -30.452394],\n",
              "       ...,\n",
              "       [-55.240192, -55.022217, -54.808537, ..., -33.922813, -33.712814,\n",
              "        -33.495026],\n",
              "       [-55.245712, -55.028114, -54.814915, ..., -33.928783, -33.718678,\n",
              "        -33.500786],\n",
              "       [-55.265728, -55.047485, -54.83623 , ..., -33.93599 , -33.725845,\n",
              "        -33.507904]], dtype=float32)"
            ]
          },
          "metadata": {},
          "execution_count": 132
        }
      ]
    },
    {
      "cell_type": "code",
      "source": [
        "latitud28= hdf_28_junio.select('Latitude')[:]\n",
        "latitud28"
      ],
      "metadata": {
        "colab": {
          "base_uri": "https://localhost:8080/"
        },
        "id": "RQ88F5TRlIUg",
        "outputId": "f544a4c0-bf9e-4526-e3c9-a44988b52569"
      },
      "execution_count": 133,
      "outputs": [
        {
          "output_type": "execute_result",
          "data": {
            "text/plain": [
              "array([[ -1.7600522,  -1.7919117,  -1.8225452, ...,  -4.620665 ,\n",
              "         -4.6452045,  -4.6705813],\n",
              "       [ -1.8484155,  -1.8789406,  -1.908367 , ...,  -4.7054534,\n",
              "         -4.7312183,  -4.757869 ],\n",
              "       [ -1.8476398,  -1.8795538,  -1.9103183, ...,  -4.7089343,\n",
              "         -4.7334256,  -4.7587476],\n",
              "       ...,\n",
              "       [-19.385693 , -19.430704 , -19.474552 , ..., -22.490055 ,\n",
              "        -22.507042 , -22.524366 ],\n",
              "       [-19.384851 , -19.431234 , -19.4764   , ..., -22.49263  ,\n",
              "        -22.508318 , -22.524288 ],\n",
              "       [-19.472717 , -19.51784  , -19.561249 , ..., -22.578482 ,\n",
              "        -22.595423 , -22.612698 ]], dtype=float32)"
            ]
          },
          "metadata": {},
          "execution_count": 133
        }
      ]
    },
    {
      "cell_type": "code",
      "source": [
        "coordenadas28 = np.unravel_index((np.abs(latitud28 - lat_obs) + np.abs(longitud28 - long_obs)).argmin(),longitud28.shape)\n",
        "coordenadas28"
      ],
      "metadata": {
        "colab": {
          "base_uri": "https://localhost:8080/"
        },
        "id": "EVWZ4oShlRZ5",
        "outputId": "5bc8a195-6ae5-43b1-8f40-ba83d15ee9c2"
      },
      "execution_count": 134,
      "outputs": [
        {
          "output_type": "execute_result",
          "data": {
            "text/plain": [
              "(364, 56)"
            ]
          },
          "metadata": {},
          "execution_count": 134
        }
      ]
    },
    {
      "cell_type": "markdown",
      "source": [
        "## Temp"
      ],
      "metadata": {
        "id": "fzbmCP3vlXc1"
      }
    },
    {
      "cell_type": "code",
      "source": [
        "sds_temp_28_junio = hdf_28_junio.select(variable_temp)\n",
        "attrs_temp28 = sds_temp_28_junio.attributes()\n",
        "attrs_temp28"
      ],
      "metadata": {
        "colab": {
          "base_uri": "https://localhost:8080/"
        },
        "id": "JJviCkNalWcE",
        "outputId": "495f49c0-f188-4e06-9730-0d245ca75f87"
      },
      "execution_count": 135,
      "outputs": [
        {
          "output_type": "execute_result",
          "data": {
            "text/plain": [
              "{'valid_range': [0, 20000],\n",
              " '_FillValue': -32768,\n",
              " 'long_name': 'Retrieved Temperature Profile',\n",
              " 'units': 'K',\n",
              " 'scale_factor': 0.009999999776482582,\n",
              " 'add_offset': -15000.0,\n",
              " 'Parameter_Type': 'MODIS Ouput',\n",
              " 'Cell_Along_Swath_Sampling': [3, 2028, 5],\n",
              " 'Cell_Across_Swath_Sampling': [3, 1348, 5],\n",
              " 'Geolocation_Pointer': 'Internal geolocation arrays'}"
            ]
          },
          "metadata": {},
          "execution_count": 135
        }
      ]
    },
    {
      "cell_type": "code",
      "source": [
        "data_temp_28 = sds_temp_28_junio.get()\n",
        "data_temp_28 = data_temp_28.astype(float)\n",
        "data_temp_28[data_temp_28 == FillValue] = np.NaN\n",
        "temp_celsius_28 = (scale_factor*(data_temp_28-add_offset)) -273.15\n",
        "temp_celsius_28"
      ],
      "metadata": {
        "colab": {
          "base_uri": "https://localhost:8080/"
        },
        "id": "l8-4L2-KlauS",
        "outputId": "80e33430-b072-486c-aef0-3a24b5f3b51f"
      },
      "execution_count": 136,
      "outputs": [
        {
          "output_type": "execute_result",
          "data": {
            "text/plain": [
              "array([[[         nan,          nan,          nan, ...,          nan,\n",
              "                  nan,          nan],\n",
              "        [         nan,          nan,          nan, ...,          nan,\n",
              "                  nan,          nan],\n",
              "        [         nan,          nan,          nan, ...,          nan,\n",
              "                  nan,          nan],\n",
              "        ...,\n",
              "        [         nan,          nan,          nan, ...,          nan,\n",
              "         -34.95000532, -33.70000535],\n",
              "        [         nan,          nan,          nan, ...,          nan,\n",
              "         -31.96000539, -29.65000544],\n",
              "        [         nan,          nan,          nan, ...,          nan,\n",
              "                  nan,          nan]],\n",
              "\n",
              "       [[         nan,          nan,          nan, ...,          nan,\n",
              "                  nan,          nan],\n",
              "        [         nan,          nan,          nan, ...,          nan,\n",
              "                  nan,          nan],\n",
              "        [         nan,          nan,          nan, ...,          nan,\n",
              "                  nan,          nan],\n",
              "        ...,\n",
              "        [         nan,          nan,          nan, ...,          nan,\n",
              "         -43.16000514, -42.69000515],\n",
              "        [         nan,          nan,          nan, ...,          nan,\n",
              "         -39.51000522, -38.23000525],\n",
              "        [         nan,          nan,          nan, ...,          nan,\n",
              "                  nan,          nan]],\n",
              "\n",
              "       [[         nan,          nan,          nan, ...,          nan,\n",
              "                  nan,          nan],\n",
              "        [         nan,          nan,          nan, ...,          nan,\n",
              "                  nan,          nan],\n",
              "        [         nan,          nan,          nan, ...,          nan,\n",
              "                  nan,          nan],\n",
              "        ...,\n",
              "        [         nan,          nan,          nan, ...,          nan,\n",
              "         -50.50000498, -50.03000499],\n",
              "        [         nan,          nan,          nan, ...,          nan,\n",
              "         -46.58000506, -45.72000508],\n",
              "        [         nan,          nan,          nan, ...,          nan,\n",
              "                  nan,          nan]],\n",
              "\n",
              "       ...,\n",
              "\n",
              "       [[         nan,          nan,          nan, ...,          nan,\n",
              "                  nan,          nan],\n",
              "        [         nan,          nan,          nan, ...,          nan,\n",
              "                  nan,          nan],\n",
              "        [         nan,          nan,          nan, ...,          nan,\n",
              "                  nan,          nan],\n",
              "        ...,\n",
              "        [         nan,          nan,          nan, ...,          nan,\n",
              "          12.88999361,  13.3199936 ],\n",
              "        [         nan,          nan,          nan, ...,          nan,\n",
              "          13.71999359,  14.21999358],\n",
              "        [         nan,          nan,          nan, ...,          nan,\n",
              "                  nan,          nan]],\n",
              "\n",
              "       [[         nan,          nan,          nan, ...,          nan,\n",
              "                  nan,          nan],\n",
              "        [         nan,          nan,          nan, ...,          nan,\n",
              "                  nan,          nan],\n",
              "        [         nan,          nan,          nan, ...,          nan,\n",
              "                  nan,          nan],\n",
              "        ...,\n",
              "        [         nan,          nan,          nan, ...,          nan,\n",
              "          15.56999355,  16.11999353],\n",
              "        [         nan,          nan,          nan, ...,          nan,\n",
              "          16.31999353,  16.87999352],\n",
              "        [         nan,          nan,          nan, ...,          nan,\n",
              "                  nan,          nan]],\n",
              "\n",
              "       [[         nan,          nan,          nan, ...,          nan,\n",
              "                  nan,          nan],\n",
              "        [         nan,          nan,          nan, ...,          nan,\n",
              "                  nan,          nan],\n",
              "        [         nan,          nan,          nan, ...,          nan,\n",
              "                  nan,          nan],\n",
              "        ...,\n",
              "        [         nan,          nan,          nan, ...,          nan,\n",
              "          21.27999342,  21.60999341],\n",
              "        [         nan,          nan,          nan, ...,          nan,\n",
              "          21.57999341,  21.71999341],\n",
              "        [         nan,          nan,          nan, ...,          nan,\n",
              "                  nan,          nan]]])"
            ]
          },
          "metadata": {},
          "execution_count": 136
        }
      ]
    },
    {
      "cell_type": "code",
      "source": [
        "temp28 = temp_celsius_28[:, coordenadas28[0],coordenadas28[1]]\n",
        "temp28"
      ],
      "metadata": {
        "colab": {
          "base_uri": "https://localhost:8080/"
        },
        "id": "XZuQYR9algkg",
        "outputId": "d96b2d56-2d79-4334-d337-33418f223098"
      },
      "execution_count": 137,
      "outputs": [
        {
          "output_type": "execute_result",
          "data": {
            "text/plain": [
              "array([-30.53000542, -42.22000516, -50.85000497, -56.26000485,\n",
              "       -63.63000468, -68.96000456, -72.08000449, -64.38000467,\n",
              "       -55.41000487, -45.1800051 , -35.77000531, -20.51000565,\n",
              "        -8.54000591,   1.92999385,   7.60999372,  12.36999362,\n",
              "        15.14999356,  17.19999351,          nan,          nan])"
            ]
          },
          "metadata": {},
          "execution_count": 137
        }
      ]
    },
    {
      "cell_type": "markdown",
      "source": [
        "## Temmperatura de rocio"
      ],
      "metadata": {
        "id": "MGYMbWNApOM0"
      }
    },
    {
      "cell_type": "code",
      "source": [
        "sds_rocio_28_junio = hdf_28_junio.select(variable_temp_rocio)\n",
        "data_rocio_28 = sds_rocio_28_junio.get()\n",
        "data_rocio_28 = data_rocio_28.astype(float)\n",
        "data_rocio_28[data_rocio_28 == FillValue] = np.NaN\n",
        "rocio_celsius_28 = (scale_factor*(data_rocio_28-add_offset)) -273.15\n",
        "rocio_celsius_28"
      ],
      "metadata": {
        "colab": {
          "base_uri": "https://localhost:8080/"
        },
        "id": "is5aonFOpTf9",
        "outputId": "db6205ef-6019-4351-e5ee-e9aa76bb491e"
      },
      "execution_count": 142,
      "outputs": [
        {
          "output_type": "execute_result",
          "data": {
            "text/plain": [
              "array([[[        nan,         nan,         nan, ...,         nan,\n",
              "                 nan,         nan],\n",
              "        [        nan,         nan,         nan, ...,         nan,\n",
              "                 nan,         nan],\n",
              "        [        nan,         nan,         nan, ...,         nan,\n",
              "                 nan,         nan],\n",
              "        ...,\n",
              "        [        nan,         nan,         nan, ...,         nan,\n",
              "                 nan,         nan],\n",
              "        [        nan,         nan,         nan, ...,         nan,\n",
              "                 nan,         nan],\n",
              "        [        nan,         nan,         nan, ...,         nan,\n",
              "                 nan,         nan]],\n",
              "\n",
              "       [[        nan,         nan,         nan, ...,         nan,\n",
              "                 nan,         nan],\n",
              "        [        nan,         nan,         nan, ...,         nan,\n",
              "                 nan,         nan],\n",
              "        [        nan,         nan,         nan, ...,         nan,\n",
              "                 nan,         nan],\n",
              "        ...,\n",
              "        [        nan,         nan,         nan, ...,         nan,\n",
              "                 nan,         nan],\n",
              "        [        nan,         nan,         nan, ...,         nan,\n",
              "                 nan,         nan],\n",
              "        [        nan,         nan,         nan, ...,         nan,\n",
              "                 nan,         nan]],\n",
              "\n",
              "       [[        nan,         nan,         nan, ...,         nan,\n",
              "                 nan,         nan],\n",
              "        [        nan,         nan,         nan, ...,         nan,\n",
              "                 nan,         nan],\n",
              "        [        nan,         nan,         nan, ...,         nan,\n",
              "                 nan,         nan],\n",
              "        ...,\n",
              "        [        nan,         nan,         nan, ...,         nan,\n",
              "                 nan,         nan],\n",
              "        [        nan,         nan,         nan, ...,         nan,\n",
              "                 nan,         nan],\n",
              "        [        nan,         nan,         nan, ...,         nan,\n",
              "                 nan,         nan]],\n",
              "\n",
              "       ...,\n",
              "\n",
              "       [[        nan,         nan,         nan, ...,         nan,\n",
              "                 nan,         nan],\n",
              "        [        nan,         nan,         nan, ...,         nan,\n",
              "                 nan,         nan],\n",
              "        [        nan,         nan,         nan, ...,         nan,\n",
              "                 nan,         nan],\n",
              "        ...,\n",
              "        [        nan,         nan,         nan, ...,         nan,\n",
              "         11.54999364, 11.83999363],\n",
              "        [        nan,         nan,         nan, ...,         nan,\n",
              "         12.16999362, 12.00999363],\n",
              "        [        nan,         nan,         nan, ...,         nan,\n",
              "                 nan,         nan]],\n",
              "\n",
              "       [[        nan,         nan,         nan, ...,         nan,\n",
              "                 nan,         nan],\n",
              "        [        nan,         nan,         nan, ...,         nan,\n",
              "                 nan,         nan],\n",
              "        [        nan,         nan,         nan, ...,         nan,\n",
              "                 nan,         nan],\n",
              "        ...,\n",
              "        [        nan,         nan,         nan, ...,         nan,\n",
              "         13.79999359, 13.88999358],\n",
              "        [        nan,         nan,         nan, ...,         nan,\n",
              "         14.30999357, 13.96999358],\n",
              "        [        nan,         nan,         nan, ...,         nan,\n",
              "                 nan,         nan]],\n",
              "\n",
              "       [[        nan,         nan,         nan, ...,         nan,\n",
              "                 nan,         nan],\n",
              "        [        nan,         nan,         nan, ...,         nan,\n",
              "                 nan,         nan],\n",
              "        [        nan,         nan,         nan, ...,         nan,\n",
              "                 nan,         nan],\n",
              "        ...,\n",
              "        [        nan,         nan,         nan, ...,         nan,\n",
              "         15.46999355, 15.38999355],\n",
              "        [        nan,         nan,         nan, ...,         nan,\n",
              "         16.01999354, 15.53999355],\n",
              "        [        nan,         nan,         nan, ...,         nan,\n",
              "                 nan,         nan]]])"
            ]
          },
          "metadata": {},
          "execution_count": 142
        }
      ]
    },
    {
      "cell_type": "code",
      "source": [
        "rocio28 = rocio_celsius_28[:, coordenadas28[0],coordenadas28[1]]\n",
        "rocio28"
      ],
      "metadata": {
        "colab": {
          "base_uri": "https://localhost:8080/"
        },
        "id": "j5U580kTpp1i",
        "outputId": "eae2178b-3135-4262-b93f-d41906b23128"
      },
      "execution_count": 143,
      "outputs": [
        {
          "output_type": "execute_result",
          "data": {
            "text/plain": [
              "array([         nan,          nan,          nan,          nan,\n",
              "       -90.13000409, -87.21000416, -84.75000421, -80.6900043 ,\n",
              "       -75.77000441, -71.57000451, -66.69000461, -53.34000491,\n",
              "       -41.15000519, -26.51000551, -17.28000572,  -6.97000595,\n",
              "         1.44999386,   5.58999377,          nan,          nan])"
            ]
          },
          "metadata": {},
          "execution_count": 143
        }
      ]
    },
    {
      "cell_type": "markdown",
      "source": [
        "## Elevacion"
      ],
      "metadata": {
        "id": "1aWlpfcupQr8"
      }
    },
    {
      "cell_type": "code",
      "source": [
        "sds_elev_28_junio = hdf_28_junio.select(variable_elev)\n",
        "attrs_elev28 = sds_elev_28_junio.attributes()\n",
        "attrs_elev28"
      ],
      "metadata": {
        "colab": {
          "base_uri": "https://localhost:8080/"
        },
        "id": "592ronFZpTvk",
        "outputId": "051daec3-79b0-417c-9f7c-67cb7aa3cec0"
      },
      "execution_count": 144,
      "outputs": [
        {
          "output_type": "execute_result",
          "data": {
            "text/plain": [
              "{'valid_range': [-32500, 32500],\n",
              " '_FillValue': -32768,\n",
              " 'long_name': 'Retrieved Geopotential Height Profile',\n",
              " 'units': 'm',\n",
              " 'scale_factor': 1.0,\n",
              " 'add_offset': -32500.0,\n",
              " 'Parameter_Type': 'MODIS Output',\n",
              " 'Cell_Along_Swath_Sampling': [3, 2028, 5],\n",
              " 'Cell_Across_Swath_Sampling': [3, 1348, 5],\n",
              " 'Geolocation_Pointer': 'Internal geolocation arrays'}"
            ]
          },
          "metadata": {},
          "execution_count": 144
        }
      ]
    },
    {
      "cell_type": "code",
      "source": [
        "data_elev_28 = sds_elev_28_junio.get()\n",
        "data_elev_28 = data_elev_28.astype(float)\n",
        "data_elev_28[data_elev_28 == -32768] = np.NaN\n",
        "perfil_28 =  1*(data_elev_28-(-32500.0))\n",
        "perfil_28"
      ],
      "metadata": {
        "colab": {
          "base_uri": "https://localhost:8080/"
        },
        "id": "r7XcU_wapzUr",
        "outputId": "31664b08-f81b-40cf-b15d-65f5da61d338"
      },
      "execution_count": 145,
      "outputs": [
        {
          "output_type": "execute_result",
          "data": {
            "text/plain": [
              "array([[[   nan,    nan,    nan, ...,    nan,    nan,    nan],\n",
              "        [   nan,    nan,    nan, ...,    nan,    nan,    nan],\n",
              "        [   nan,    nan,    nan, ...,    nan,    nan,    nan],\n",
              "        ...,\n",
              "        [   nan,    nan,    nan, ...,    nan, 35610., 35637.],\n",
              "        [   nan,    nan,    nan, ...,    nan, 36027., 36070.],\n",
              "        [   nan,    nan,    nan, ...,    nan,    nan,    nan]],\n",
              "\n",
              "       [[   nan,    nan,    nan, ...,    nan,    nan,    nan],\n",
              "        [   nan,    nan,    nan, ...,    nan,    nan,    nan],\n",
              "        [   nan,    nan,    nan, ...,    nan,    nan,    nan],\n",
              "        ...,\n",
              "        [   nan,    nan,    nan, ...,    nan, 30860., 30869.],\n",
              "        [   nan,    nan,    nan, ...,    nan, 31210., 31213.],\n",
              "        [   nan,    nan,    nan, ...,    nan,    nan,    nan]],\n",
              "\n",
              "       [[   nan,    nan,    nan, ...,    nan,    nan,    nan],\n",
              "        [   nan,    nan,    nan, ...,    nan,    nan,    nan],\n",
              "        [   nan,    nan,    nan, ...,    nan,    nan,    nan],\n",
              "        ...,\n",
              "        [   nan,    nan,    nan, ...,    nan, 26266., 26266.],\n",
              "        [   nan,    nan,    nan, ...,    nan, 26539., 26521.],\n",
              "        [   nan,    nan,    nan, ...,    nan,    nan,    nan]],\n",
              "\n",
              "       ...,\n",
              "\n",
              "       [[   nan,    nan,    nan, ...,    nan,    nan,    nan],\n",
              "        [   nan,    nan,    nan, ...,    nan,    nan,    nan],\n",
              "        [   nan,    nan,    nan, ...,    nan,    nan,    nan],\n",
              "        ...,\n",
              "        [   nan,    nan,    nan, ...,    nan,   713.,   714.],\n",
              "        [   nan,    nan,    nan, ...,    nan,   714.,   715.],\n",
              "        [   nan,    nan,    nan, ...,    nan,    nan,    nan]],\n",
              "\n",
              "       [[   nan,    nan,    nan, ...,    nan,    nan,    nan],\n",
              "        [   nan,    nan,    nan, ...,    nan,    nan,    nan],\n",
              "        [   nan,    nan,    nan, ...,    nan,    nan,    nan],\n",
              "        ...,\n",
              "        [   nan,    nan,    nan, ...,    nan,   441.,   442.],\n",
              "        [   nan,    nan,    nan, ...,    nan,   442.,   442.],\n",
              "        [   nan,    nan,    nan, ...,    nan,    nan,    nan]],\n",
              "\n",
              "       [[   nan,    nan,    nan, ...,    nan,    nan,    nan],\n",
              "        [   nan,    nan,    nan, ...,    nan,    nan,    nan],\n",
              "        [   nan,    nan,    nan, ...,    nan,    nan,    nan],\n",
              "        ...,\n",
              "        [   nan,    nan,    nan, ...,    nan,     0.,     0.],\n",
              "        [   nan,    nan,    nan, ...,    nan,     0.,     0.],\n",
              "        [   nan,    nan,    nan, ...,    nan,    nan,    nan]]])"
            ]
          },
          "metadata": {},
          "execution_count": 145
        }
      ]
    },
    {
      "cell_type": "code",
      "source": [
        "altura28 = perfil_28[:,coordenadas28[0],coordenadas28[1]]\n",
        "altura28"
      ],
      "metadata": {
        "colab": {
          "base_uri": "https://localhost:8080/"
        },
        "id": "Kg9n1sK4p4Hr",
        "outputId": "4ff23a08-2803-4f38-a85f-da9ad64ceead"
      },
      "execution_count": 146,
      "outputs": [
        {
          "output_type": "execute_result",
          "data": {
            "text/plain": [
              "array([35923., 31117., 26521., 23913., 20723., 18683., 16572., 14147.,\n",
              "       12350., 10894.,  9651.,  7587.,  5896.,  4195.,  3207.,  2308.,\n",
              "        1584.,   911.,    nan,    nan])"
            ]
          },
          "metadata": {},
          "execution_count": 146
        }
      ]
    },
    {
      "cell_type": "markdown",
      "source": [
        "## Df"
      ],
      "metadata": {
        "id": "pdeVfnkipSlu"
      }
    },
    {
      "cell_type": "code",
      "source": [
        "df_28_junio = pd.DataFrame({'Altura (m)': altura28, 'T (ºC)': temp28, 'Td (ºC)': rocio28})\n",
        "df_28_junio"
      ],
      "metadata": {
        "colab": {
          "base_uri": "https://localhost:8080/",
          "height": 676
        },
        "id": "29l5XtDLpUWK",
        "outputId": "856ce1e8-5365-4fc0-fa65-40f130073055"
      },
      "execution_count": 147,
      "outputs": [
        {
          "output_type": "execute_result",
          "data": {
            "text/plain": [
              "    Altura (m)     T (ºC)    Td (ºC)\n",
              "0      35923.0 -30.530005        NaN\n",
              "1      31117.0 -42.220005        NaN\n",
              "2      26521.0 -50.850005        NaN\n",
              "3      23913.0 -56.260005        NaN\n",
              "4      20723.0 -63.630005 -90.130004\n",
              "5      18683.0 -68.960005 -87.210004\n",
              "6      16572.0 -72.080004 -84.750004\n",
              "7      14147.0 -64.380005 -80.690004\n",
              "8      12350.0 -55.410005 -75.770004\n",
              "9      10894.0 -45.180005 -71.570005\n",
              "10      9651.0 -35.770005 -66.690005\n",
              "11      7587.0 -20.510006 -53.340005\n",
              "12      5896.0  -8.540006 -41.150005\n",
              "13      4195.0   1.929994 -26.510006\n",
              "14      3207.0   7.609994 -17.280006\n",
              "15      2308.0  12.369994  -6.970006\n",
              "16      1584.0  15.149994   1.449994\n",
              "17       911.0  17.199994   5.589994\n",
              "18         NaN        NaN        NaN\n",
              "19         NaN        NaN        NaN"
            ],
            "text/html": [
              "\n",
              "  <div id=\"df-6a3cf7dd-da0a-4153-82e9-4b9685ad43af\">\n",
              "    <div class=\"colab-df-container\">\n",
              "      <div>\n",
              "<style scoped>\n",
              "    .dataframe tbody tr th:only-of-type {\n",
              "        vertical-align: middle;\n",
              "    }\n",
              "\n",
              "    .dataframe tbody tr th {\n",
              "        vertical-align: top;\n",
              "    }\n",
              "\n",
              "    .dataframe thead th {\n",
              "        text-align: right;\n",
              "    }\n",
              "</style>\n",
              "<table border=\"1\" class=\"dataframe\">\n",
              "  <thead>\n",
              "    <tr style=\"text-align: right;\">\n",
              "      <th></th>\n",
              "      <th>Altura (m)</th>\n",
              "      <th>T (ºC)</th>\n",
              "      <th>Td (ºC)</th>\n",
              "    </tr>\n",
              "  </thead>\n",
              "  <tbody>\n",
              "    <tr>\n",
              "      <th>0</th>\n",
              "      <td>35923.0</td>\n",
              "      <td>-30.530005</td>\n",
              "      <td>NaN</td>\n",
              "    </tr>\n",
              "    <tr>\n",
              "      <th>1</th>\n",
              "      <td>31117.0</td>\n",
              "      <td>-42.220005</td>\n",
              "      <td>NaN</td>\n",
              "    </tr>\n",
              "    <tr>\n",
              "      <th>2</th>\n",
              "      <td>26521.0</td>\n",
              "      <td>-50.850005</td>\n",
              "      <td>NaN</td>\n",
              "    </tr>\n",
              "    <tr>\n",
              "      <th>3</th>\n",
              "      <td>23913.0</td>\n",
              "      <td>-56.260005</td>\n",
              "      <td>NaN</td>\n",
              "    </tr>\n",
              "    <tr>\n",
              "      <th>4</th>\n",
              "      <td>20723.0</td>\n",
              "      <td>-63.630005</td>\n",
              "      <td>-90.130004</td>\n",
              "    </tr>\n",
              "    <tr>\n",
              "      <th>5</th>\n",
              "      <td>18683.0</td>\n",
              "      <td>-68.960005</td>\n",
              "      <td>-87.210004</td>\n",
              "    </tr>\n",
              "    <tr>\n",
              "      <th>6</th>\n",
              "      <td>16572.0</td>\n",
              "      <td>-72.080004</td>\n",
              "      <td>-84.750004</td>\n",
              "    </tr>\n",
              "    <tr>\n",
              "      <th>7</th>\n",
              "      <td>14147.0</td>\n",
              "      <td>-64.380005</td>\n",
              "      <td>-80.690004</td>\n",
              "    </tr>\n",
              "    <tr>\n",
              "      <th>8</th>\n",
              "      <td>12350.0</td>\n",
              "      <td>-55.410005</td>\n",
              "      <td>-75.770004</td>\n",
              "    </tr>\n",
              "    <tr>\n",
              "      <th>9</th>\n",
              "      <td>10894.0</td>\n",
              "      <td>-45.180005</td>\n",
              "      <td>-71.570005</td>\n",
              "    </tr>\n",
              "    <tr>\n",
              "      <th>10</th>\n",
              "      <td>9651.0</td>\n",
              "      <td>-35.770005</td>\n",
              "      <td>-66.690005</td>\n",
              "    </tr>\n",
              "    <tr>\n",
              "      <th>11</th>\n",
              "      <td>7587.0</td>\n",
              "      <td>-20.510006</td>\n",
              "      <td>-53.340005</td>\n",
              "    </tr>\n",
              "    <tr>\n",
              "      <th>12</th>\n",
              "      <td>5896.0</td>\n",
              "      <td>-8.540006</td>\n",
              "      <td>-41.150005</td>\n",
              "    </tr>\n",
              "    <tr>\n",
              "      <th>13</th>\n",
              "      <td>4195.0</td>\n",
              "      <td>1.929994</td>\n",
              "      <td>-26.510006</td>\n",
              "    </tr>\n",
              "    <tr>\n",
              "      <th>14</th>\n",
              "      <td>3207.0</td>\n",
              "      <td>7.609994</td>\n",
              "      <td>-17.280006</td>\n",
              "    </tr>\n",
              "    <tr>\n",
              "      <th>15</th>\n",
              "      <td>2308.0</td>\n",
              "      <td>12.369994</td>\n",
              "      <td>-6.970006</td>\n",
              "    </tr>\n",
              "    <tr>\n",
              "      <th>16</th>\n",
              "      <td>1584.0</td>\n",
              "      <td>15.149994</td>\n",
              "      <td>1.449994</td>\n",
              "    </tr>\n",
              "    <tr>\n",
              "      <th>17</th>\n",
              "      <td>911.0</td>\n",
              "      <td>17.199994</td>\n",
              "      <td>5.589994</td>\n",
              "    </tr>\n",
              "    <tr>\n",
              "      <th>18</th>\n",
              "      <td>NaN</td>\n",
              "      <td>NaN</td>\n",
              "      <td>NaN</td>\n",
              "    </tr>\n",
              "    <tr>\n",
              "      <th>19</th>\n",
              "      <td>NaN</td>\n",
              "      <td>NaN</td>\n",
              "      <td>NaN</td>\n",
              "    </tr>\n",
              "  </tbody>\n",
              "</table>\n",
              "</div>\n",
              "      <button class=\"colab-df-convert\" onclick=\"convertToInteractive('df-6a3cf7dd-da0a-4153-82e9-4b9685ad43af')\"\n",
              "              title=\"Convert this dataframe to an interactive table.\"\n",
              "              style=\"display:none;\">\n",
              "        \n",
              "  <svg xmlns=\"http://www.w3.org/2000/svg\" height=\"24px\"viewBox=\"0 0 24 24\"\n",
              "       width=\"24px\">\n",
              "    <path d=\"M0 0h24v24H0V0z\" fill=\"none\"/>\n",
              "    <path d=\"M18.56 5.44l.94 2.06.94-2.06 2.06-.94-2.06-.94-.94-2.06-.94 2.06-2.06.94zm-11 1L8.5 8.5l.94-2.06 2.06-.94-2.06-.94L8.5 2.5l-.94 2.06-2.06.94zm10 10l.94 2.06.94-2.06 2.06-.94-2.06-.94-.94-2.06-.94 2.06-2.06.94z\"/><path d=\"M17.41 7.96l-1.37-1.37c-.4-.4-.92-.59-1.43-.59-.52 0-1.04.2-1.43.59L10.3 9.45l-7.72 7.72c-.78.78-.78 2.05 0 2.83L4 21.41c.39.39.9.59 1.41.59.51 0 1.02-.2 1.41-.59l7.78-7.78 2.81-2.81c.8-.78.8-2.07 0-2.86zM5.41 20L4 18.59l7.72-7.72 1.47 1.35L5.41 20z\"/>\n",
              "  </svg>\n",
              "      </button>\n",
              "      \n",
              "  <style>\n",
              "    .colab-df-container {\n",
              "      display:flex;\n",
              "      flex-wrap:wrap;\n",
              "      gap: 12px;\n",
              "    }\n",
              "\n",
              "    .colab-df-convert {\n",
              "      background-color: #E8F0FE;\n",
              "      border: none;\n",
              "      border-radius: 50%;\n",
              "      cursor: pointer;\n",
              "      display: none;\n",
              "      fill: #1967D2;\n",
              "      height: 32px;\n",
              "      padding: 0 0 0 0;\n",
              "      width: 32px;\n",
              "    }\n",
              "\n",
              "    .colab-df-convert:hover {\n",
              "      background-color: #E2EBFA;\n",
              "      box-shadow: 0px 1px 2px rgba(60, 64, 67, 0.3), 0px 1px 3px 1px rgba(60, 64, 67, 0.15);\n",
              "      fill: #174EA6;\n",
              "    }\n",
              "\n",
              "    [theme=dark] .colab-df-convert {\n",
              "      background-color: #3B4455;\n",
              "      fill: #D2E3FC;\n",
              "    }\n",
              "\n",
              "    [theme=dark] .colab-df-convert:hover {\n",
              "      background-color: #434B5C;\n",
              "      box-shadow: 0px 1px 3px 1px rgba(0, 0, 0, 0.15);\n",
              "      filter: drop-shadow(0px 1px 2px rgba(0, 0, 0, 0.3));\n",
              "      fill: #FFFFFF;\n",
              "    }\n",
              "  </style>\n",
              "\n",
              "      <script>\n",
              "        const buttonEl =\n",
              "          document.querySelector('#df-6a3cf7dd-da0a-4153-82e9-4b9685ad43af button.colab-df-convert');\n",
              "        buttonEl.style.display =\n",
              "          google.colab.kernel.accessAllowed ? 'block' : 'none';\n",
              "\n",
              "        async function convertToInteractive(key) {\n",
              "          const element = document.querySelector('#df-6a3cf7dd-da0a-4153-82e9-4b9685ad43af');\n",
              "          const dataTable =\n",
              "            await google.colab.kernel.invokeFunction('convertToInteractive',\n",
              "                                                     [key], {});\n",
              "          if (!dataTable) return;\n",
              "\n",
              "          const docLinkHtml = 'Like what you see? Visit the ' +\n",
              "            '<a target=\"_blank\" href=https://colab.research.google.com/notebooks/data_table.ipynb>data table notebook</a>'\n",
              "            + ' to learn more about interactive tables.';\n",
              "          element.innerHTML = '';\n",
              "          dataTable['output_type'] = 'display_data';\n",
              "          await google.colab.output.renderOutput(dataTable, element);\n",
              "          const docLink = document.createElement('div');\n",
              "          docLink.innerHTML = docLinkHtml;\n",
              "          element.appendChild(docLink);\n",
              "        }\n",
              "      </script>\n",
              "    </div>\n",
              "  </div>\n",
              "  "
            ]
          },
          "metadata": {},
          "execution_count": 147
        }
      ]
    },
    {
      "cell_type": "markdown",
      "source": [
        "# Graficando las variaciones"
      ],
      "metadata": {
        "id": "zwFCcYis6q1N"
      }
    },
    {
      "cell_type": "code",
      "source": [
        "df_23_junio_cleaned = df_23_junio.dropna(subset=['Altura (m)', 'T (ºC)', 'Td (ºC)'])\n",
        "df_23_junio_cleaned.head()"
      ],
      "metadata": {
        "colab": {
          "base_uri": "https://localhost:8080/",
          "height": 206
        },
        "id": "iicdlEmk6tR1",
        "outputId": "52bad02d-5569-4ecf-f7f5-7669776141ee"
      },
      "execution_count": 193,
      "outputs": [
        {
          "output_type": "execute_result",
          "data": {
            "text/plain": [
              "   Altura (m)     T (ºC)    Td (ºC)\n",
              "4     20363.0 -63.490005 -90.250004\n",
              "5     18330.0 -70.440005 -87.260004\n",
              "6     16237.0 -73.990004 -84.070004\n",
              "7     13834.0 -66.100005 -78.390004\n",
              "8     12045.0 -55.600005 -71.110005"
            ],
            "text/html": [
              "\n",
              "  <div id=\"df-b0943140-058d-4fca-8c88-a2aa12dcc7ee\">\n",
              "    <div class=\"colab-df-container\">\n",
              "      <div>\n",
              "<style scoped>\n",
              "    .dataframe tbody tr th:only-of-type {\n",
              "        vertical-align: middle;\n",
              "    }\n",
              "\n",
              "    .dataframe tbody tr th {\n",
              "        vertical-align: top;\n",
              "    }\n",
              "\n",
              "    .dataframe thead th {\n",
              "        text-align: right;\n",
              "    }\n",
              "</style>\n",
              "<table border=\"1\" class=\"dataframe\">\n",
              "  <thead>\n",
              "    <tr style=\"text-align: right;\">\n",
              "      <th></th>\n",
              "      <th>Altura (m)</th>\n",
              "      <th>T (ºC)</th>\n",
              "      <th>Td (ºC)</th>\n",
              "    </tr>\n",
              "  </thead>\n",
              "  <tbody>\n",
              "    <tr>\n",
              "      <th>4</th>\n",
              "      <td>20363.0</td>\n",
              "      <td>-63.490005</td>\n",
              "      <td>-90.250004</td>\n",
              "    </tr>\n",
              "    <tr>\n",
              "      <th>5</th>\n",
              "      <td>18330.0</td>\n",
              "      <td>-70.440005</td>\n",
              "      <td>-87.260004</td>\n",
              "    </tr>\n",
              "    <tr>\n",
              "      <th>6</th>\n",
              "      <td>16237.0</td>\n",
              "      <td>-73.990004</td>\n",
              "      <td>-84.070004</td>\n",
              "    </tr>\n",
              "    <tr>\n",
              "      <th>7</th>\n",
              "      <td>13834.0</td>\n",
              "      <td>-66.100005</td>\n",
              "      <td>-78.390004</td>\n",
              "    </tr>\n",
              "    <tr>\n",
              "      <th>8</th>\n",
              "      <td>12045.0</td>\n",
              "      <td>-55.600005</td>\n",
              "      <td>-71.110005</td>\n",
              "    </tr>\n",
              "  </tbody>\n",
              "</table>\n",
              "</div>\n",
              "      <button class=\"colab-df-convert\" onclick=\"convertToInteractive('df-b0943140-058d-4fca-8c88-a2aa12dcc7ee')\"\n",
              "              title=\"Convert this dataframe to an interactive table.\"\n",
              "              style=\"display:none;\">\n",
              "        \n",
              "  <svg xmlns=\"http://www.w3.org/2000/svg\" height=\"24px\"viewBox=\"0 0 24 24\"\n",
              "       width=\"24px\">\n",
              "    <path d=\"M0 0h24v24H0V0z\" fill=\"none\"/>\n",
              "    <path d=\"M18.56 5.44l.94 2.06.94-2.06 2.06-.94-2.06-.94-.94-2.06-.94 2.06-2.06.94zm-11 1L8.5 8.5l.94-2.06 2.06-.94-2.06-.94L8.5 2.5l-.94 2.06-2.06.94zm10 10l.94 2.06.94-2.06 2.06-.94-2.06-.94-.94-2.06-.94 2.06-2.06.94z\"/><path d=\"M17.41 7.96l-1.37-1.37c-.4-.4-.92-.59-1.43-.59-.52 0-1.04.2-1.43.59L10.3 9.45l-7.72 7.72c-.78.78-.78 2.05 0 2.83L4 21.41c.39.39.9.59 1.41.59.51 0 1.02-.2 1.41-.59l7.78-7.78 2.81-2.81c.8-.78.8-2.07 0-2.86zM5.41 20L4 18.59l7.72-7.72 1.47 1.35L5.41 20z\"/>\n",
              "  </svg>\n",
              "      </button>\n",
              "      \n",
              "  <style>\n",
              "    .colab-df-container {\n",
              "      display:flex;\n",
              "      flex-wrap:wrap;\n",
              "      gap: 12px;\n",
              "    }\n",
              "\n",
              "    .colab-df-convert {\n",
              "      background-color: #E8F0FE;\n",
              "      border: none;\n",
              "      border-radius: 50%;\n",
              "      cursor: pointer;\n",
              "      display: none;\n",
              "      fill: #1967D2;\n",
              "      height: 32px;\n",
              "      padding: 0 0 0 0;\n",
              "      width: 32px;\n",
              "    }\n",
              "\n",
              "    .colab-df-convert:hover {\n",
              "      background-color: #E2EBFA;\n",
              "      box-shadow: 0px 1px 2px rgba(60, 64, 67, 0.3), 0px 1px 3px 1px rgba(60, 64, 67, 0.15);\n",
              "      fill: #174EA6;\n",
              "    }\n",
              "\n",
              "    [theme=dark] .colab-df-convert {\n",
              "      background-color: #3B4455;\n",
              "      fill: #D2E3FC;\n",
              "    }\n",
              "\n",
              "    [theme=dark] .colab-df-convert:hover {\n",
              "      background-color: #434B5C;\n",
              "      box-shadow: 0px 1px 3px 1px rgba(0, 0, 0, 0.15);\n",
              "      filter: drop-shadow(0px 1px 2px rgba(0, 0, 0, 0.3));\n",
              "      fill: #FFFFFF;\n",
              "    }\n",
              "  </style>\n",
              "\n",
              "      <script>\n",
              "        const buttonEl =\n",
              "          document.querySelector('#df-b0943140-058d-4fca-8c88-a2aa12dcc7ee button.colab-df-convert');\n",
              "        buttonEl.style.display =\n",
              "          google.colab.kernel.accessAllowed ? 'block' : 'none';\n",
              "\n",
              "        async function convertToInteractive(key) {\n",
              "          const element = document.querySelector('#df-b0943140-058d-4fca-8c88-a2aa12dcc7ee');\n",
              "          const dataTable =\n",
              "            await google.colab.kernel.invokeFunction('convertToInteractive',\n",
              "                                                     [key], {});\n",
              "          if (!dataTable) return;\n",
              "\n",
              "          const docLinkHtml = 'Like what you see? Visit the ' +\n",
              "            '<a target=\"_blank\" href=https://colab.research.google.com/notebooks/data_table.ipynb>data table notebook</a>'\n",
              "            + ' to learn more about interactive tables.';\n",
              "          element.innerHTML = '';\n",
              "          dataTable['output_type'] = 'display_data';\n",
              "          await google.colab.output.renderOutput(dataTable, element);\n",
              "          const docLink = document.createElement('div');\n",
              "          docLink.innerHTML = docLinkHtml;\n",
              "          element.appendChild(docLink);\n",
              "        }\n",
              "      </script>\n",
              "    </div>\n",
              "  </div>\n",
              "  "
            ]
          },
          "metadata": {},
          "execution_count": 193
        }
      ]
    },
    {
      "cell_type": "code",
      "source": [
        "df_24_junio_cleaned = df_24_junio.dropna(subset=['Altura (m)', 'T (ºC)', 'Td (ºC)'])\n",
        "df_24_junio_cleaned.head()"
      ],
      "metadata": {
        "colab": {
          "base_uri": "https://localhost:8080/",
          "height": 206
        },
        "id": "Y4ndRWEg8aI_",
        "outputId": "fffabe4c-a4ef-4a3a-b882-fc9474336f03"
      },
      "execution_count": 189,
      "outputs": [
        {
          "output_type": "execute_result",
          "data": {
            "text/plain": [
              "   Altura (m)     T (ºC)    Td (ºC)\n",
              "4     20601.0 -64.380005 -90.310004\n",
              "5     18573.0 -70.350005 -87.580004\n",
              "6     16473.0 -72.970004 -84.740004\n",
              "7     14059.0 -65.600005 -78.570004\n",
              "8     12276.0 -57.420005 -69.860005"
            ],
            "text/html": [
              "\n",
              "  <div id=\"df-a4a54aca-0e95-41fd-a209-9cf41f75ae10\">\n",
              "    <div class=\"colab-df-container\">\n",
              "      <div>\n",
              "<style scoped>\n",
              "    .dataframe tbody tr th:only-of-type {\n",
              "        vertical-align: middle;\n",
              "    }\n",
              "\n",
              "    .dataframe tbody tr th {\n",
              "        vertical-align: top;\n",
              "    }\n",
              "\n",
              "    .dataframe thead th {\n",
              "        text-align: right;\n",
              "    }\n",
              "</style>\n",
              "<table border=\"1\" class=\"dataframe\">\n",
              "  <thead>\n",
              "    <tr style=\"text-align: right;\">\n",
              "      <th></th>\n",
              "      <th>Altura (m)</th>\n",
              "      <th>T (ºC)</th>\n",
              "      <th>Td (ºC)</th>\n",
              "    </tr>\n",
              "  </thead>\n",
              "  <tbody>\n",
              "    <tr>\n",
              "      <th>4</th>\n",
              "      <td>20601.0</td>\n",
              "      <td>-64.380005</td>\n",
              "      <td>-90.310004</td>\n",
              "    </tr>\n",
              "    <tr>\n",
              "      <th>5</th>\n",
              "      <td>18573.0</td>\n",
              "      <td>-70.350005</td>\n",
              "      <td>-87.580004</td>\n",
              "    </tr>\n",
              "    <tr>\n",
              "      <th>6</th>\n",
              "      <td>16473.0</td>\n",
              "      <td>-72.970004</td>\n",
              "      <td>-84.740004</td>\n",
              "    </tr>\n",
              "    <tr>\n",
              "      <th>7</th>\n",
              "      <td>14059.0</td>\n",
              "      <td>-65.600005</td>\n",
              "      <td>-78.570004</td>\n",
              "    </tr>\n",
              "    <tr>\n",
              "      <th>8</th>\n",
              "      <td>12276.0</td>\n",
              "      <td>-57.420005</td>\n",
              "      <td>-69.860005</td>\n",
              "    </tr>\n",
              "  </tbody>\n",
              "</table>\n",
              "</div>\n",
              "      <button class=\"colab-df-convert\" onclick=\"convertToInteractive('df-a4a54aca-0e95-41fd-a209-9cf41f75ae10')\"\n",
              "              title=\"Convert this dataframe to an interactive table.\"\n",
              "              style=\"display:none;\">\n",
              "        \n",
              "  <svg xmlns=\"http://www.w3.org/2000/svg\" height=\"24px\"viewBox=\"0 0 24 24\"\n",
              "       width=\"24px\">\n",
              "    <path d=\"M0 0h24v24H0V0z\" fill=\"none\"/>\n",
              "    <path d=\"M18.56 5.44l.94 2.06.94-2.06 2.06-.94-2.06-.94-.94-2.06-.94 2.06-2.06.94zm-11 1L8.5 8.5l.94-2.06 2.06-.94-2.06-.94L8.5 2.5l-.94 2.06-2.06.94zm10 10l.94 2.06.94-2.06 2.06-.94-2.06-.94-.94-2.06-.94 2.06-2.06.94z\"/><path d=\"M17.41 7.96l-1.37-1.37c-.4-.4-.92-.59-1.43-.59-.52 0-1.04.2-1.43.59L10.3 9.45l-7.72 7.72c-.78.78-.78 2.05 0 2.83L4 21.41c.39.39.9.59 1.41.59.51 0 1.02-.2 1.41-.59l7.78-7.78 2.81-2.81c.8-.78.8-2.07 0-2.86zM5.41 20L4 18.59l7.72-7.72 1.47 1.35L5.41 20z\"/>\n",
              "  </svg>\n",
              "      </button>\n",
              "      \n",
              "  <style>\n",
              "    .colab-df-container {\n",
              "      display:flex;\n",
              "      flex-wrap:wrap;\n",
              "      gap: 12px;\n",
              "    }\n",
              "\n",
              "    .colab-df-convert {\n",
              "      background-color: #E8F0FE;\n",
              "      border: none;\n",
              "      border-radius: 50%;\n",
              "      cursor: pointer;\n",
              "      display: none;\n",
              "      fill: #1967D2;\n",
              "      height: 32px;\n",
              "      padding: 0 0 0 0;\n",
              "      width: 32px;\n",
              "    }\n",
              "\n",
              "    .colab-df-convert:hover {\n",
              "      background-color: #E2EBFA;\n",
              "      box-shadow: 0px 1px 2px rgba(60, 64, 67, 0.3), 0px 1px 3px 1px rgba(60, 64, 67, 0.15);\n",
              "      fill: #174EA6;\n",
              "    }\n",
              "\n",
              "    [theme=dark] .colab-df-convert {\n",
              "      background-color: #3B4455;\n",
              "      fill: #D2E3FC;\n",
              "    }\n",
              "\n",
              "    [theme=dark] .colab-df-convert:hover {\n",
              "      background-color: #434B5C;\n",
              "      box-shadow: 0px 1px 3px 1px rgba(0, 0, 0, 0.15);\n",
              "      filter: drop-shadow(0px 1px 2px rgba(0, 0, 0, 0.3));\n",
              "      fill: #FFFFFF;\n",
              "    }\n",
              "  </style>\n",
              "\n",
              "      <script>\n",
              "        const buttonEl =\n",
              "          document.querySelector('#df-a4a54aca-0e95-41fd-a209-9cf41f75ae10 button.colab-df-convert');\n",
              "        buttonEl.style.display =\n",
              "          google.colab.kernel.accessAllowed ? 'block' : 'none';\n",
              "\n",
              "        async function convertToInteractive(key) {\n",
              "          const element = document.querySelector('#df-a4a54aca-0e95-41fd-a209-9cf41f75ae10');\n",
              "          const dataTable =\n",
              "            await google.colab.kernel.invokeFunction('convertToInteractive',\n",
              "                                                     [key], {});\n",
              "          if (!dataTable) return;\n",
              "\n",
              "          const docLinkHtml = 'Like what you see? Visit the ' +\n",
              "            '<a target=\"_blank\" href=https://colab.research.google.com/notebooks/data_table.ipynb>data table notebook</a>'\n",
              "            + ' to learn more about interactive tables.';\n",
              "          element.innerHTML = '';\n",
              "          dataTable['output_type'] = 'display_data';\n",
              "          await google.colab.output.renderOutput(dataTable, element);\n",
              "          const docLink = document.createElement('div');\n",
              "          docLink.innerHTML = docLinkHtml;\n",
              "          element.appendChild(docLink);\n",
              "        }\n",
              "      </script>\n",
              "    </div>\n",
              "  </div>\n",
              "  "
            ]
          },
          "metadata": {},
          "execution_count": 189
        }
      ]
    },
    {
      "cell_type": "code",
      "source": [
        "df_26_junio_cleaned = df_26_junio.dropna(subset=['Altura (m)', 'T (ºC)', 'Td (ºC)'])\n",
        "df_26_junio_cleaned.head()"
      ],
      "metadata": {
        "colab": {
          "base_uri": "https://localhost:8080/",
          "height": 206
        },
        "id": "lGqyZNFH87eU",
        "outputId": "5ae54f49-5dc4-45f2-d465-f4955faa3ce9"
      },
      "execution_count": 191,
      "outputs": [
        {
          "output_type": "execute_result",
          "data": {
            "text/plain": [
              "   Altura (m)     T (ºC)    Td (ºC)\n",
              "4     20661.0 -63.340005 -90.200004\n",
              "5     18617.0 -68.150005 -87.460004\n",
              "6     16493.0 -70.580005 -84.900004\n",
              "7     14053.0 -63.630005 -81.410004\n",
              "8     12255.0 -56.030005 -76.970004"
            ],
            "text/html": [
              "\n",
              "  <div id=\"df-ded6f2b6-18ca-42cf-98ba-5d7e5f425a7e\">\n",
              "    <div class=\"colab-df-container\">\n",
              "      <div>\n",
              "<style scoped>\n",
              "    .dataframe tbody tr th:only-of-type {\n",
              "        vertical-align: middle;\n",
              "    }\n",
              "\n",
              "    .dataframe tbody tr th {\n",
              "        vertical-align: top;\n",
              "    }\n",
              "\n",
              "    .dataframe thead th {\n",
              "        text-align: right;\n",
              "    }\n",
              "</style>\n",
              "<table border=\"1\" class=\"dataframe\">\n",
              "  <thead>\n",
              "    <tr style=\"text-align: right;\">\n",
              "      <th></th>\n",
              "      <th>Altura (m)</th>\n",
              "      <th>T (ºC)</th>\n",
              "      <th>Td (ºC)</th>\n",
              "    </tr>\n",
              "  </thead>\n",
              "  <tbody>\n",
              "    <tr>\n",
              "      <th>4</th>\n",
              "      <td>20661.0</td>\n",
              "      <td>-63.340005</td>\n",
              "      <td>-90.200004</td>\n",
              "    </tr>\n",
              "    <tr>\n",
              "      <th>5</th>\n",
              "      <td>18617.0</td>\n",
              "      <td>-68.150005</td>\n",
              "      <td>-87.460004</td>\n",
              "    </tr>\n",
              "    <tr>\n",
              "      <th>6</th>\n",
              "      <td>16493.0</td>\n",
              "      <td>-70.580005</td>\n",
              "      <td>-84.900004</td>\n",
              "    </tr>\n",
              "    <tr>\n",
              "      <th>7</th>\n",
              "      <td>14053.0</td>\n",
              "      <td>-63.630005</td>\n",
              "      <td>-81.410004</td>\n",
              "    </tr>\n",
              "    <tr>\n",
              "      <th>8</th>\n",
              "      <td>12255.0</td>\n",
              "      <td>-56.030005</td>\n",
              "      <td>-76.970004</td>\n",
              "    </tr>\n",
              "  </tbody>\n",
              "</table>\n",
              "</div>\n",
              "      <button class=\"colab-df-convert\" onclick=\"convertToInteractive('df-ded6f2b6-18ca-42cf-98ba-5d7e5f425a7e')\"\n",
              "              title=\"Convert this dataframe to an interactive table.\"\n",
              "              style=\"display:none;\">\n",
              "        \n",
              "  <svg xmlns=\"http://www.w3.org/2000/svg\" height=\"24px\"viewBox=\"0 0 24 24\"\n",
              "       width=\"24px\">\n",
              "    <path d=\"M0 0h24v24H0V0z\" fill=\"none\"/>\n",
              "    <path d=\"M18.56 5.44l.94 2.06.94-2.06 2.06-.94-2.06-.94-.94-2.06-.94 2.06-2.06.94zm-11 1L8.5 8.5l.94-2.06 2.06-.94-2.06-.94L8.5 2.5l-.94 2.06-2.06.94zm10 10l.94 2.06.94-2.06 2.06-.94-2.06-.94-.94-2.06-.94 2.06-2.06.94z\"/><path d=\"M17.41 7.96l-1.37-1.37c-.4-.4-.92-.59-1.43-.59-.52 0-1.04.2-1.43.59L10.3 9.45l-7.72 7.72c-.78.78-.78 2.05 0 2.83L4 21.41c.39.39.9.59 1.41.59.51 0 1.02-.2 1.41-.59l7.78-7.78 2.81-2.81c.8-.78.8-2.07 0-2.86zM5.41 20L4 18.59l7.72-7.72 1.47 1.35L5.41 20z\"/>\n",
              "  </svg>\n",
              "      </button>\n",
              "      \n",
              "  <style>\n",
              "    .colab-df-container {\n",
              "      display:flex;\n",
              "      flex-wrap:wrap;\n",
              "      gap: 12px;\n",
              "    }\n",
              "\n",
              "    .colab-df-convert {\n",
              "      background-color: #E8F0FE;\n",
              "      border: none;\n",
              "      border-radius: 50%;\n",
              "      cursor: pointer;\n",
              "      display: none;\n",
              "      fill: #1967D2;\n",
              "      height: 32px;\n",
              "      padding: 0 0 0 0;\n",
              "      width: 32px;\n",
              "    }\n",
              "\n",
              "    .colab-df-convert:hover {\n",
              "      background-color: #E2EBFA;\n",
              "      box-shadow: 0px 1px 2px rgba(60, 64, 67, 0.3), 0px 1px 3px 1px rgba(60, 64, 67, 0.15);\n",
              "      fill: #174EA6;\n",
              "    }\n",
              "\n",
              "    [theme=dark] .colab-df-convert {\n",
              "      background-color: #3B4455;\n",
              "      fill: #D2E3FC;\n",
              "    }\n",
              "\n",
              "    [theme=dark] .colab-df-convert:hover {\n",
              "      background-color: #434B5C;\n",
              "      box-shadow: 0px 1px 3px 1px rgba(0, 0, 0, 0.15);\n",
              "      filter: drop-shadow(0px 1px 2px rgba(0, 0, 0, 0.3));\n",
              "      fill: #FFFFFF;\n",
              "    }\n",
              "  </style>\n",
              "\n",
              "      <script>\n",
              "        const buttonEl =\n",
              "          document.querySelector('#df-ded6f2b6-18ca-42cf-98ba-5d7e5f425a7e button.colab-df-convert');\n",
              "        buttonEl.style.display =\n",
              "          google.colab.kernel.accessAllowed ? 'block' : 'none';\n",
              "\n",
              "        async function convertToInteractive(key) {\n",
              "          const element = document.querySelector('#df-ded6f2b6-18ca-42cf-98ba-5d7e5f425a7e');\n",
              "          const dataTable =\n",
              "            await google.colab.kernel.invokeFunction('convertToInteractive',\n",
              "                                                     [key], {});\n",
              "          if (!dataTable) return;\n",
              "\n",
              "          const docLinkHtml = 'Like what you see? Visit the ' +\n",
              "            '<a target=\"_blank\" href=https://colab.research.google.com/notebooks/data_table.ipynb>data table notebook</a>'\n",
              "            + ' to learn more about interactive tables.';\n",
              "          element.innerHTML = '';\n",
              "          dataTable['output_type'] = 'display_data';\n",
              "          await google.colab.output.renderOutput(dataTable, element);\n",
              "          const docLink = document.createElement('div');\n",
              "          docLink.innerHTML = docLinkHtml;\n",
              "          element.appendChild(docLink);\n",
              "        }\n",
              "      </script>\n",
              "    </div>\n",
              "  </div>\n",
              "  "
            ]
          },
          "metadata": {},
          "execution_count": 191
        }
      ]
    },
    {
      "cell_type": "code",
      "source": [
        "df_28_junio_cleaned = df_28_junio.dropna(subset=['Altura (m)', 'T (ºC)', 'Td (ºC)'])\n",
        "df_28_junio_cleaned.head()"
      ],
      "metadata": {
        "colab": {
          "base_uri": "https://localhost:8080/",
          "height": 206
        },
        "id": "QABU64OL9cHu",
        "outputId": "81e6e3cc-0a62-48a0-c612-92562bc62c77"
      },
      "execution_count": 194,
      "outputs": [
        {
          "output_type": "execute_result",
          "data": {
            "text/plain": [
              "   Altura (m)     T (ºC)    Td (ºC)\n",
              "4     20723.0 -63.630005 -90.130004\n",
              "5     18683.0 -68.960005 -87.210004\n",
              "6     16572.0 -72.080004 -84.750004\n",
              "7     14147.0 -64.380005 -80.690004\n",
              "8     12350.0 -55.410005 -75.770004"
            ],
            "text/html": [
              "\n",
              "  <div id=\"df-1864a3e1-a3ec-48d8-a70b-40aa6a4f4042\">\n",
              "    <div class=\"colab-df-container\">\n",
              "      <div>\n",
              "<style scoped>\n",
              "    .dataframe tbody tr th:only-of-type {\n",
              "        vertical-align: middle;\n",
              "    }\n",
              "\n",
              "    .dataframe tbody tr th {\n",
              "        vertical-align: top;\n",
              "    }\n",
              "\n",
              "    .dataframe thead th {\n",
              "        text-align: right;\n",
              "    }\n",
              "</style>\n",
              "<table border=\"1\" class=\"dataframe\">\n",
              "  <thead>\n",
              "    <tr style=\"text-align: right;\">\n",
              "      <th></th>\n",
              "      <th>Altura (m)</th>\n",
              "      <th>T (ºC)</th>\n",
              "      <th>Td (ºC)</th>\n",
              "    </tr>\n",
              "  </thead>\n",
              "  <tbody>\n",
              "    <tr>\n",
              "      <th>4</th>\n",
              "      <td>20723.0</td>\n",
              "      <td>-63.630005</td>\n",
              "      <td>-90.130004</td>\n",
              "    </tr>\n",
              "    <tr>\n",
              "      <th>5</th>\n",
              "      <td>18683.0</td>\n",
              "      <td>-68.960005</td>\n",
              "      <td>-87.210004</td>\n",
              "    </tr>\n",
              "    <tr>\n",
              "      <th>6</th>\n",
              "      <td>16572.0</td>\n",
              "      <td>-72.080004</td>\n",
              "      <td>-84.750004</td>\n",
              "    </tr>\n",
              "    <tr>\n",
              "      <th>7</th>\n",
              "      <td>14147.0</td>\n",
              "      <td>-64.380005</td>\n",
              "      <td>-80.690004</td>\n",
              "    </tr>\n",
              "    <tr>\n",
              "      <th>8</th>\n",
              "      <td>12350.0</td>\n",
              "      <td>-55.410005</td>\n",
              "      <td>-75.770004</td>\n",
              "    </tr>\n",
              "  </tbody>\n",
              "</table>\n",
              "</div>\n",
              "      <button class=\"colab-df-convert\" onclick=\"convertToInteractive('df-1864a3e1-a3ec-48d8-a70b-40aa6a4f4042')\"\n",
              "              title=\"Convert this dataframe to an interactive table.\"\n",
              "              style=\"display:none;\">\n",
              "        \n",
              "  <svg xmlns=\"http://www.w3.org/2000/svg\" height=\"24px\"viewBox=\"0 0 24 24\"\n",
              "       width=\"24px\">\n",
              "    <path d=\"M0 0h24v24H0V0z\" fill=\"none\"/>\n",
              "    <path d=\"M18.56 5.44l.94 2.06.94-2.06 2.06-.94-2.06-.94-.94-2.06-.94 2.06-2.06.94zm-11 1L8.5 8.5l.94-2.06 2.06-.94-2.06-.94L8.5 2.5l-.94 2.06-2.06.94zm10 10l.94 2.06.94-2.06 2.06-.94-2.06-.94-.94-2.06-.94 2.06-2.06.94z\"/><path d=\"M17.41 7.96l-1.37-1.37c-.4-.4-.92-.59-1.43-.59-.52 0-1.04.2-1.43.59L10.3 9.45l-7.72 7.72c-.78.78-.78 2.05 0 2.83L4 21.41c.39.39.9.59 1.41.59.51 0 1.02-.2 1.41-.59l7.78-7.78 2.81-2.81c.8-.78.8-2.07 0-2.86zM5.41 20L4 18.59l7.72-7.72 1.47 1.35L5.41 20z\"/>\n",
              "  </svg>\n",
              "      </button>\n",
              "      \n",
              "  <style>\n",
              "    .colab-df-container {\n",
              "      display:flex;\n",
              "      flex-wrap:wrap;\n",
              "      gap: 12px;\n",
              "    }\n",
              "\n",
              "    .colab-df-convert {\n",
              "      background-color: #E8F0FE;\n",
              "      border: none;\n",
              "      border-radius: 50%;\n",
              "      cursor: pointer;\n",
              "      display: none;\n",
              "      fill: #1967D2;\n",
              "      height: 32px;\n",
              "      padding: 0 0 0 0;\n",
              "      width: 32px;\n",
              "    }\n",
              "\n",
              "    .colab-df-convert:hover {\n",
              "      background-color: #E2EBFA;\n",
              "      box-shadow: 0px 1px 2px rgba(60, 64, 67, 0.3), 0px 1px 3px 1px rgba(60, 64, 67, 0.15);\n",
              "      fill: #174EA6;\n",
              "    }\n",
              "\n",
              "    [theme=dark] .colab-df-convert {\n",
              "      background-color: #3B4455;\n",
              "      fill: #D2E3FC;\n",
              "    }\n",
              "\n",
              "    [theme=dark] .colab-df-convert:hover {\n",
              "      background-color: #434B5C;\n",
              "      box-shadow: 0px 1px 3px 1px rgba(0, 0, 0, 0.15);\n",
              "      filter: drop-shadow(0px 1px 2px rgba(0, 0, 0, 0.3));\n",
              "      fill: #FFFFFF;\n",
              "    }\n",
              "  </style>\n",
              "\n",
              "      <script>\n",
              "        const buttonEl =\n",
              "          document.querySelector('#df-1864a3e1-a3ec-48d8-a70b-40aa6a4f4042 button.colab-df-convert');\n",
              "        buttonEl.style.display =\n",
              "          google.colab.kernel.accessAllowed ? 'block' : 'none';\n",
              "\n",
              "        async function convertToInteractive(key) {\n",
              "          const element = document.querySelector('#df-1864a3e1-a3ec-48d8-a70b-40aa6a4f4042');\n",
              "          const dataTable =\n",
              "            await google.colab.kernel.invokeFunction('convertToInteractive',\n",
              "                                                     [key], {});\n",
              "          if (!dataTable) return;\n",
              "\n",
              "          const docLinkHtml = 'Like what you see? Visit the ' +\n",
              "            '<a target=\"_blank\" href=https://colab.research.google.com/notebooks/data_table.ipynb>data table notebook</a>'\n",
              "            + ' to learn more about interactive tables.';\n",
              "          element.innerHTML = '';\n",
              "          dataTable['output_type'] = 'display_data';\n",
              "          await google.colab.output.renderOutput(dataTable, element);\n",
              "          const docLink = document.createElement('div');\n",
              "          docLink.innerHTML = docLinkHtml;\n",
              "          element.appendChild(docLink);\n",
              "        }\n",
              "      </script>\n",
              "    </div>\n",
              "  </div>\n",
              "  "
            ]
          },
          "metadata": {},
          "execution_count": 194
        }
      ]
    },
    {
      "cell_type": "code",
      "source": [
        "fig, axs = plt.subplots(2, 2, figsize=(11.5, 10))\n",
        "##dia 23\n",
        "ax1 = axs[0, 0]\n",
        "temperatura_23 = df_23_junio_cleaned['T (ºC)']\n",
        "temperatura_rocio_23 = df_23_junio_cleaned['Td (ºC)']\n",
        "altura_23 = df_23_junio_cleaned['Altura (m)']\n",
        "ax1.plot(temperatura_23, altura_23, label='Temperatura')\n",
        "ax1.plot(temperatura_rocio_23, altura_23, label='Temperatura de Rocío')\n",
        "ax1.set_xlabel('Temperatura (°C)')\n",
        "ax1.set_ylabel('Altura (m)')\n",
        "ax1.legend()\n",
        "ax1.grid()\n",
        "ax1.set_title(\"Variación vertical de la temperatura \\n Día: 23 junio 12:35\")\n",
        "## dia 24\n",
        "ax2 = axs[0, 1]\n",
        "temperatura_24 = df_24_junio_cleaned['T (ºC)']\n",
        "temperatura_rocio_24 = df_24_junio_cleaned['Td (ºC)']\n",
        "altura_24 = df_24_junio_cleaned['Altura (m)']\n",
        "ax2.plot(temperatura_24, altura_24, label='Temperatura')\n",
        "ax2.plot(temperatura_rocio_24, altura_24, label='Temperatura de Rocío')\n",
        "ax2.set_xlabel('Temperatura (°C)')\n",
        "ax2.set_ylabel('Altura (m)')\n",
        "ax2.legend()\n",
        "ax2.grid()\n",
        "ax2.set_title(\"Variación vertical de la temperatura \\n Día: 24 junio 13:15\")\n",
        "## dia 26\n",
        "ax3 = axs[1, 0]\n",
        "temperatura_26 = df_26_junio_cleaned['T (ºC)']\n",
        "temperatura_rocio_26 = df_26_junio_cleaned['Td (ºC)']\n",
        "altura_26 = df_26_junio_cleaned['Altura (m)']\n",
        "ax3.plot(temperatura_26, altura_26, label='Temperatura')\n",
        "ax3.plot(temperatura_rocio_26, altura_26, label='Temperatura de Rocío')\n",
        "ax3.set_xlabel('Temperatura (°C)')\n",
        "ax3.set_ylabel('Altura (m)')\n",
        "ax3.legend()\n",
        "ax3.grid()\n",
        "ax3.set_title(\"Variación vertical de la temperatura \\n Día: 26 junio 13:05\")\n",
        "# dia 28\n",
        "ax4 = axs[1, 1]\n",
        "temperatura_28 = df_28_junio_cleaned['T (ºC)']\n",
        "temperatura_rocio_28 = df_28_junio_cleaned['Td (ºC)']\n",
        "altura_28 = df_28_junio_cleaned['Altura (m)']\n",
        "ax4.plot(temperatura_28, altura_28, label='Temperatura')\n",
        "ax4.plot(temperatura_rocio_28, altura_28, label='Temperatura de Rocío')\n",
        "ax4.set_xlabel('Temperatura (°C)')\n",
        "ax4.set_ylabel('Altura (m)')\n",
        "ax4.legend()\n",
        "ax4.grid()\n",
        "ax4.set_title(\"Variación vertical de la temperatura \\n Día: 28 junio 12:45\")\n",
        "\n",
        "plt.tight_layout()"
      ],
      "metadata": {
        "colab": {
          "base_uri": "https://localhost:8080/",
          "height": 801
        },
        "id": "Wf0HNmmX9oy-",
        "outputId": "925db5ac-1cfa-4a00-cd76-a8de83585301"
      },
      "execution_count": 196,
      "outputs": [
        {
          "output_type": "display_data",
          "data": {
            "text/plain": [
              "<Figure size 1150x1000 with 4 Axes>"
            ],
            "image/png": "[encoded data removed]"
          },
          "metadata": {}
        }
      ]
    },
    {
      "cell_type": "code",
      "source": [
        "temperatura_26 = df_26_junio_cleaned['T (ºC)']\n",
        "temperatura_rocio_26 = df_26_junio_cleaned['Td (ºC)']\n",
        "altura_26 = df_26_junio_cleaned['Altura (m)']\n",
        "\n",
        "# Graficar la variación vertical de la temperatura\n",
        "plt.plot(temperatura_26, altura_26, label='Temperatura')\n",
        "plt.plot(temperatura_rocio_26, altura_26, label='Temperatura de Rocío')\n",
        "\n",
        "plt.xlabel('Temperatura (°C)')\n",
        "plt.ylabel('Altura (m)')\n",
        "plt.legend()\n",
        "plt.grid()\n",
        "plt.title(\"Variación vertical de la temperatura \\n Día: 26 junio 13:05\")\n",
        "plt.show()"
      ],
      "metadata": {
        "colab": {
          "base_uri": "https://localhost:8080/",
          "height": 494
        },
        "id": "Y7gqR7Wh8_Ww",
        "outputId": "f2a43459-757f-4dd1-d681-d48777bc9114"
      },
      "execution_count": 192,
      "outputs": [
        {
          "output_type": "display_data",
          "data": {
            "text/plain": [
              "<Figure size 640x480 with 1 Axes>"
            ],
            "image/png": "[encoded data removed]"
          },
          "metadata": {}
        }
      ]
    },
    {
      "cell_type": "markdown",
      "source": [
        "# Exportar"
      ],
      "metadata": {
        "id": "AlLhhewC-5Hc"
      }
    },
    {
      "cell_type": "code",
      "source": [
        "df_23_junio.to_csv(\"Exportar/MODIS23_junio.csv\")\n",
        "df_24_junio.to_csv(\"Exportar/MODIS24_junio.csv\")\n",
        "df_26_junio.to_csv(\"Exportar/MODIS26_junio.csv\")\n",
        "df_28_junio.to_csv(\"Exportar/MODIS28_junio.csv\")"
      ],
      "metadata": {
        "id": "_m0NKN0r-6UW"
      },
      "execution_count": 197,
      "outputs": []
    }
  ]
}